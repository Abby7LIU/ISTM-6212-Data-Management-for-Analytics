{
 "cells": [
  {
   "cell_type": "markdown",
   "metadata": {},
   "source": [
    "# Project 03 - Due Monday, November 19 at 1pm\n",
    "\n",
    "*Objectives*: Use Spark to process and perform basic analysis on non-relational data, including its DataFrame and SQL interfaces.\n",
    "\n",
    "*Grading criteria*: The tasks should all be completed, and questions should all be answered with Python code, SQL queries, shell commands, and markdown cells.  The notebook itself should be completely reproducible (using AWS EC2 instance based on the provided AMI) from start to finish; another person should be able to use the code to obtain the same results as yours.  Note that you will receive no more than partial credit if you do not add text/markdown cells explaining your thinking when appropriate.\n",
    "\n",
    "*Attestation*: **Work in groups**.  At the end of your submitted notebook, identify the work each partner performed and attest that each contributed substantially to the work.\n",
    "\n",
    "*Deadline*: Monday, November 19, 1pm.  One member of each group must submit your notebook to Blackboard; you should not submit it separately."
   ]
  },
  {
   "cell_type": "markdown",
   "metadata": {},
   "source": [
    "## Part 1 - Setup\n",
    "\n",
    "Begin by setting up Spark and fetching the project data.  \n",
    "\n",
    "**Note**: you may want to use a larger EC2 instance type than normal.  This project was prepared using a `t2.xlarge` instance.  Just remember that the larger the instance, the higher the per-hour charge, so be sure to remember to shut your instance down when you're done, as always.\n",
    "\n",
    "### About the data\n",
    "\n",
    "We will use JSON data from Twitter; we saw an example of this in class.  It should parse cleanly, allowing you to focus on analysis.\n",
    "\n",
    "This data was gathered using GWU Libraries' [Social Feed Manager](http://sfm.library.gwu.edu/) application during a recent game of the MLB World Series featuring the Los Angeles Dodgers and Boston Red Sox.  This first file tells you a little bit about how it was gathered:"
   ]
  },
  {
   "cell_type": "code",
   "execution_count": 1,
   "metadata": {},
   "outputs": [
    {
     "name": "stdout",
     "output_type": "stream",
     "text": [
      "--2018-11-19 03:56:59--  https://s3.amazonaws.com/2018-dmfa/project-3/ea26ccd641744d4a8dce84de0785186d-README.txt\n",
      "Resolving s3.amazonaws.com (s3.amazonaws.com)... 52.216.136.182\n",
      "Connecting to s3.amazonaws.com (s3.amazonaws.com)|52.216.136.182|:443... connected.\n",
      "HTTP request sent, awaiting response... 200 OK\n",
      "Length: 1145 (1.1K) [text/plain]\n",
      "Saving to: ‘ea26ccd641744d4a8dce84de0785186d-README.txt.1’\n",
      "\n",
      "ea26ccd641744d4a8dc 100%[===================>]   1.12K  --.-KB/s    in 0s      \n",
      "\n",
      "2018-11-19 03:56:59 (97.8 MB/s) - ‘ea26ccd641744d4a8dce84de0785186d-README.txt.1’ saved [1145/1145]\n",
      "\n"
     ]
    }
   ],
   "source": [
    "!wget https://s3.amazonaws.com/2018-dmfa/project-3/ea26ccd641744d4a8dce84de0785186d-README.txt"
   ]
  },
  {
   "cell_type": "code",
   "execution_count": 2,
   "metadata": {},
   "outputs": [
    {
     "name": "stdout",
     "output_type": "stream",
     "text": [
      "This is an export created with Social Feed Manager.\n",
      "\n",
      "EXPORT INFORMATION\n",
      "Selected seeds: All seeds\n",
      "Export id: ea26ccd641744d4a8dce84de0785186d\n",
      "Export type: twitter_filter\n",
      "Format: Full JSON\n",
      "Export completed:  Oct. 30, 2018, 9:45:59 a.m. EDT\n",
      "Deduplicate: Yes\n",
      "\n",
      "COLLECTION INFORMATION\n",
      "Collection name: 2018-world-series\n",
      "\n",
      "Collection id: 4e2564448b144915b6a0eb1899075a44\n",
      "Collection set: 2018-mlb-playoffs (collection set id 5a00efa0bddf4be2aa19c6df9788ff6e)\n",
      "Harvest type: Twitter filter\n",
      "\n",
      "Harvest options:\n",
      "\n",
      "Seeds:\n",
      "* Track: dodgers,redsox,red sox,bossox,world series,RedSoxVsDodgers,ladodgers,bostonredsox - Active\n",
      "\n",
      "Change log:\n",
      "\n",
      "Change to 2018-world-series (collection) on Oct. 30, 2018, 8:16:14 a.m. EDT by dchud:\n",
      "Note: Series ended Sunday night after five games, waited ~36 hours.\n",
      "\n",
      "Change to 2018-world-series (collection) on Oct. 23, 2018, 6:01:28 p.m. EDT by dchud:\n",
      "\n",
      "Change to Track: dodgers,redsox,red sox,bossox,world series,RedSoxVsDodgers,ladodgers,bostonredsox (seed) on Oct. 23, 2018, 6:01:18 p.m. EDT by dchud:\n",
      "\n",
      "Change to 2018-world-series (collection) on Oct. 23, 2018, 5:57:45 p.m. EDT by dchud:\n",
      "\n",
      "\n",
      "Created on Oct. 30, 2018, 9:45:59 a.m. EDT\n"
     ]
    }
   ],
   "source": [
    "!cat ea26ccd641744d4a8dce84de0785186d-README.txt"
   ]
  },
  {
   "cell_type": "markdown",
   "metadata": {},
   "source": [
    "The most important pieces in that metadata are:\n",
    "\n",
    " * It tracked tweets that mentioned \"dodgers\" or \"redsox\" and several additional related terms.  Every item in this set should refer to one or more of these terms.\n",
    " * This data was deduplicated; we should not see individual tweets more than once.\n",
    " * Data was collected between October 23 and October 30.  All five games of the Series were played during this time.\n",
    " \n",
    "You should not need to know anything about baseball to complete this assignment, but if you have baseball questions (or Twitter questions!) please ask on the discussion forum.\n",
    "\n",
    "**Please note**: sometimes social media data contains offensive material.  This data set has not been filtered; if you do come across something inappropriate, please do your best to ignore it if you can."
   ]
  },
  {
   "cell_type": "markdown",
   "metadata": {},
   "source": [
    "## Fetch the data\n",
    "\n",
    "The following files are available:\n",
    "\n",
    " * https://s3.amazonaws.com/2018-dmfa/project-3/ea26ccd641744d4a8dce84de0785186d_009.json\n",
    " * https://s3.amazonaws.com/2018-dmfa/project-3/ea26ccd641744d4a8dce84de0785186d_010.json\n",
    " * https://s3.amazonaws.com/2018-dmfa/project-3/ea26ccd641744d4a8dce84de0785186d_011.json\n",
    " * https://s3.amazonaws.com/2018-dmfa/project-3/ea26ccd641744d4a8dce84de0785186d_012.json\n",
    " \n",
    "### Q1.1 - Select at least one and obtain it using `wget`.  Verify the file sizes using the command line.\n",
    "\n",
    "Each file should contain exactly 100,000 tweets.  \n",
    "\n",
    "*Note*: you are only required to use one of these files, but you may use more than one.  It will be easier to process more data if you use a larger EC2 instance type, as suggested above.  Use the exact same set of files throughout the assignment.\n",
    "\n",
    "**Answer**"
   ]
  },
  {
   "cell_type": "code",
   "execution_count": 3,
   "metadata": {
    "collapsed": true
   },
   "outputs": [
    {
     "name": "stdout",
     "output_type": "stream",
     "text": [
      "--2018-11-19 03:57:00--  https://s3.amazonaws.com/2018-dmfa/project-3/ea26ccd641744d4a8dce84de0785186d_009.json\n",
      "Resolving s3.amazonaws.com (s3.amazonaws.com)... 52.216.136.182\n",
      "Connecting to s3.amazonaws.com (s3.amazonaws.com)|52.216.136.182|:443... connected.\n",
      "HTTP request sent, awaiting response... 200 OK\n",
      "Length: 554277526 (529M) [application/json]\n",
      "Saving to: ‘ea26ccd641744d4a8dce84de0785186d_009.json.1’\n",
      "\n",
      "ea26ccd641744d4a8dc 100%[===================>] 528.60M  51.2MB/s    in 9.6s    \n",
      "\n",
      "2018-11-19 03:57:09 (55.2 MB/s) - ‘ea26ccd641744d4a8dce84de0785186d_009.json.1’ saved [554277526/554277526]\n",
      "\n"
     ]
    }
   ],
   "source": [
    "!wget https://s3.amazonaws.com/2018-dmfa/project-3/ea26ccd641744d4a8dce84de0785186d_009.json"
   ]
  },
  {
   "cell_type": "markdown",
   "metadata": {},
   "source": [
    "The file do have 100000 tweets."
   ]
  },
  {
   "cell_type": "code",
   "execution_count": 4,
   "metadata": {},
   "outputs": [
    {
     "name": "stdout",
     "output_type": "stream",
     "text": [
      "100000 ea26ccd641744d4a8dce84de0785186d_009.json\n"
     ]
    }
   ],
   "source": [
    "!wc -l ea26ccd641744d4a8dce84de0785186d_009.json"
   ]
  },
  {
   "cell_type": "markdown",
   "metadata": {},
   "source": [
    "For your reference, here is the text of one Tweet, randomly selected from one of these files.  You might wish to study its structure and refer to it later."
   ]
  },
  {
   "cell_type": "code",
   "execution_count": 5,
   "metadata": {
    "collapsed": true
   },
   "outputs": [],
   "source": [
    "!cat *.json | shuf -n 1 > example-tweet.json"
   ]
  },
  {
   "cell_type": "code",
   "execution_count": 6,
   "metadata": {
    "scrolled": false
   },
   "outputs": [
    {
     "name": "stdout",
     "output_type": "stream",
     "text": [
      "{\n",
      "  \"entities\": {\n",
      "    \"symbols\": [],\n",
      "    \"media\": [\n",
      "      {\n",
      "        \"source_status_id\": 1056742515749994496,\n",
      "        \"source_status_id_str\": \"1056742515749994496\",\n",
      "        \"media_url\": \"http://pbs.twimg.com/media/DqpME3TXgAA1bIB.jpg\",\n",
      "        \"display_url\": \"pic.twitter.com/YHul61YyDD\",\n",
      "        \"expanded_url\": \"https://twitter.com/RedSox/status/1056742515749994496/photo/1\",\n",
      "        \"media_url_https\": \"https://pbs.twimg.com/media/DqpME3TXgAA1bIB.jpg\",\n",
      "        \"source_user_id\": 40918816,\n",
      "        \"id\": 1056740709020172288,\n",
      "        \"sizes\": {\n",
      "          \"large\": {\n",
      "            \"resize\": \"fit\",\n",
      "            \"h\": 576,\n",
      "            \"w\": 1024\n",
      "          },\n",
      "          \"medium\": {\n",
      "            \"resize\": \"fit\",\n",
      "            \"h\": 576,\n",
      "            \"w\": 1024\n",
      "          },\n",
      "          \"small\": {\n",
      "            \"resize\": \"fit\",\n",
      "            \"h\": 383,\n",
      "            \"w\": 680\n",
      "          },\n",
      "          \"thumb\": {\n",
      "            \"resize\": \"crop\",\n",
      "            \"h\": 150,\n",
      "            \"w\": 150\n",
      "          }\n",
      "        },\n",
      "        \"indices\": [\n",
      "          36,\n",
      "          59\n",
      "        ],\n",
      "        \"id_str\": \"1056740709020172288\",\n",
      "        \"source_user_id_str\": \"40918816\",\n",
      "        \"url\": \"https://t.co/YHul61YyDD\",\n",
      "        \"type\": \"photo\"\n",
      "      }\n",
      "    ],\n",
      "    \"hashtags\": [],\n",
      "    \"urls\": [],\n",
      "    \"user_mentions\": [\n",
      "      {\n",
      "        \"id\": 40918816,\n",
      "        \"indices\": [\n",
      "          3,\n",
      "          10\n",
      "        ],\n",
      "        \"id_str\": \"40918816\",\n",
      "        \"screen_name\": \"RedSox\",\n",
      "        \"name\": \"Boston Red Sox\"\n",
      "      }\n",
      "    ]\n",
      "  },\n",
      "  \"favorited\": false,\n",
      "  \"in_reply_to_screen_name\": null,\n",
      "  \"in_reply_to_user_id_str\": null,\n",
      "  \"truncated\": false,\n",
      "  \"is_quote_status\": false,\n",
      "  \"possibly_sensitive\": false,\n",
      "  \"geo\": null,\n",
      "  \"id_str\": \"1056743099450429440\",\n",
      "  \"in_reply_to_status_id\": null,\n",
      "  \"in_reply_to_user_id\": null,\n",
      "  \"retweeted\": false,\n",
      "  \"coordinates\": null,\n",
      "  \"timestamp_ms\": \"1540782162903\",\n",
      "  \"quote_count\": 0,\n",
      "  \"source\": \"<a href=\\\"http://twitter.com/download/iphone\\\" rel=\\\"nofollow\\\">Twitter for iPhone</a>\",\n",
      "  \"user\": {\n",
      "    \"description\": \"even when we suffer losses i count the victory\",\n",
      "    \"favourites_count\": 116795,\n",
      "    \"location\": null,\n",
      "    \"profile_sidebar_border_color\": \"C0DEED\",\n",
      "    \"profile_background_tile\": false,\n",
      "    \"notifications\": null,\n",
      "    \"default_profile_image\": false,\n",
      "    \"profile_link_color\": \"1DA1F2\",\n",
      "    \"name\": \"\\ud83c\\udccfEDELMAN\\ud83c\\udc04\\ufe0f\",\n",
      "    \"profile_banner_url\": \"https://pbs.twimg.com/profile_banners/372144233/1538325510\",\n",
      "    \"verified\": false,\n",
      "    \"geo_enabled\": true,\n",
      "    \"id_str\": \"372144233\",\n",
      "    \"profile_text_color\": \"333333\",\n",
      "    \"utc_offset\": null,\n",
      "    \"default_profile\": true,\n",
      "    \"time_zone\": null,\n",
      "    \"followers_count\": 1168,\n",
      "    \"protected\": false,\n",
      "    \"profile_image_url_https\": \"https://pbs.twimg.com/profile_images/945058898549100544/UBDwTNS__normal.jpg\",\n",
      "    \"translator_type\": \"none\",\n",
      "    \"profile_image_url\": \"http://pbs.twimg.com/profile_images/945058898549100544/UBDwTNS__normal.jpg\",\n",
      "    \"profile_background_image_url\": \"http://abs.twimg.com/images/themes/theme1/bg.png\",\n",
      "    \"profile_background_color\": \"C0DEED\",\n",
      "    \"created_at\": \"Mon Sep 12 06:55:27 +0000 2011\",\n",
      "    \"profile_background_image_url_https\": \"https://abs.twimg.com/images/themes/theme1/bg.png\",\n",
      "    \"contributors_enabled\": false,\n",
      "    \"lang\": \"en\",\n",
      "    \"screen_name\": \"tonymorris1212\",\n",
      "    \"id\": 372144233,\n",
      "    \"friends_count\": 2468,\n",
      "    \"is_translator\": false,\n",
      "    \"url\": null,\n",
      "    \"follow_request_sent\": null,\n",
      "    \"profile_use_background_image\": true,\n",
      "    \"profile_sidebar_fill_color\": \"DDEEF6\",\n",
      "    \"statuses_count\": 89110,\n",
      "    \"following\": null,\n",
      "    \"listed_count\": 13\n",
      "  },\n",
      "  \"contributors\": null,\n",
      "  \"filter_level\": \"low\",\n",
      "  \"retweeted_status\": {\n",
      "    \"entities\": {\n",
      "      \"symbols\": [],\n",
      "      \"media\": [\n",
      "        {\n",
      "          \"id\": 1056740709020172288,\n",
      "          \"sizes\": {\n",
      "            \"large\": {\n",
      "              \"resize\": \"fit\",\n",
      "              \"h\": 576,\n",
      "              \"w\": 1024\n",
      "            },\n",
      "            \"medium\": {\n",
      "              \"resize\": \"fit\",\n",
      "              \"h\": 576,\n",
      "              \"w\": 1024\n",
      "            },\n",
      "            \"small\": {\n",
      "              \"resize\": \"fit\",\n",
      "              \"h\": 383,\n",
      "              \"w\": 680\n",
      "            },\n",
      "            \"thumb\": {\n",
      "              \"resize\": \"crop\",\n",
      "              \"h\": 150,\n",
      "              \"w\": 150\n",
      "            }\n",
      "          },\n",
      "          \"id_str\": \"1056740709020172288\",\n",
      "          \"media_url\": \"http://pbs.twimg.com/media/DqpME3TXgAA1bIB.jpg\",\n",
      "          \"display_url\": \"pic.twitter.com/YHul61YyDD\",\n",
      "          \"indices\": [\n",
      "            24,\n",
      "            47\n",
      "          ],\n",
      "          \"expanded_url\": \"https://twitter.com/RedSox/status/1056742515749994496/photo/1\",\n",
      "          \"media_url_https\": \"https://pbs.twimg.com/media/DqpME3TXgAA1bIB.jpg\",\n",
      "          \"url\": \"https://t.co/YHul61YyDD\",\n",
      "          \"type\": \"photo\"\n",
      "        }\n",
      "      ],\n",
      "      \"hashtags\": [],\n",
      "      \"urls\": [],\n",
      "      \"user_mentions\": []\n",
      "    },\n",
      "    \"favorited\": false,\n",
      "    \"in_reply_to_screen_name\": null,\n",
      "    \"in_reply_to_user_id_str\": null,\n",
      "    \"truncated\": false,\n",
      "    \"is_quote_status\": false,\n",
      "    \"possibly_sensitive\": false,\n",
      "    \"geo\": null,\n",
      "    \"id_str\": \"1056742515749994496\",\n",
      "    \"in_reply_to_status_id\": null,\n",
      "    \"in_reply_to_user_id\": null,\n",
      "    \"retweeted\": false,\n",
      "    \"coordinates\": null,\n",
      "    \"quote_count\": 46,\n",
      "    \"source\": \"<a href=\\\"http://twitter.com\\\" rel=\\\"nofollow\\\">Twitter Web Client</a>\",\n",
      "    \"user\": {\n",
      "      \"description\": \"Official feed of the 2018 AL Champs!\",\n",
      "      \"favourites_count\": 6528,\n",
      "      \"location\": \"Fenway Park\",\n",
      "      \"profile_sidebar_border_color\": \"000000\",\n",
      "      \"profile_background_tile\": false,\n",
      "      \"notifications\": null,\n",
      "      \"default_profile_image\": false,\n",
      "      \"profile_link_color\": \"0084B4\",\n",
      "      \"name\": \"Boston Red Sox\",\n",
      "      \"profile_banner_url\": \"https://pbs.twimg.com/profile_banners/40918816/1539920823\",\n",
      "      \"verified\": true,\n",
      "      \"geo_enabled\": true,\n",
      "      \"id_str\": \"40918816\",\n",
      "      \"profile_text_color\": \"333333\",\n",
      "      \"utc_offset\": null,\n",
      "      \"default_profile\": false,\n",
      "      \"time_zone\": null,\n",
      "      \"followers_count\": 2074976,\n",
      "      \"protected\": false,\n",
      "      \"profile_image_url_https\": \"https://pbs.twimg.com/profile_images/1054409584826298368/gItGJ0b9_normal.jpg\",\n",
      "      \"translator_type\": \"none\",\n",
      "      \"profile_image_url\": \"http://pbs.twimg.com/profile_images/1054409584826298368/gItGJ0b9_normal.jpg\",\n",
      "      \"profile_background_image_url\": \"http://abs.twimg.com/images/themes/theme1/bg.png\",\n",
      "      \"profile_background_color\": \"213117\",\n",
      "      \"created_at\": \"Mon May 18 17:21:20 +0000 2009\",\n",
      "      \"profile_background_image_url_https\": \"https://abs.twimg.com/images/themes/theme1/bg.png\",\n",
      "      \"contributors_enabled\": false,\n",
      "      \"lang\": \"en\",\n",
      "      \"screen_name\": \"RedSox\",\n",
      "      \"id\": 40918816,\n",
      "      \"friends_count\": 190,\n",
      "      \"is_translator\": false,\n",
      "      \"url\": \"http://redsox.com\",\n",
      "      \"follow_request_sent\": null,\n",
      "      \"profile_use_background_image\": true,\n",
      "      \"profile_sidebar_fill_color\": \"DDFFCC\",\n",
      "      \"statuses_count\": 80750,\n",
      "      \"following\": null,\n",
      "      \"listed_count\": 10484\n",
      "    },\n",
      "    \"contributors\": null,\n",
      "    \"filter_level\": \"low\",\n",
      "    \"lang\": \"en\",\n",
      "    \"favorite_count\": 3043,\n",
      "    \"id\": 1056742515749994496,\n",
      "    \"retweet_count\": 941,\n",
      "    \"display_text_range\": [\n",
      "      0,\n",
      "      23\n",
      "    ],\n",
      "    \"reply_count\": 76,\n",
      "    \"created_at\": \"Mon Oct 29 03:00:23 +0000 2018\",\n",
      "    \"extended_entities\": {\n",
      "      \"media\": [\n",
      "        {\n",
      "          \"id\": 1056740709020172288,\n",
      "          \"sizes\": {\n",
      "            \"large\": {\n",
      "              \"resize\": \"fit\",\n",
      "              \"h\": 576,\n",
      "              \"w\": 1024\n",
      "            },\n",
      "            \"medium\": {\n",
      "              \"resize\": \"fit\",\n",
      "              \"h\": 576,\n",
      "              \"w\": 1024\n",
      "            },\n",
      "            \"small\": {\n",
      "              \"resize\": \"fit\",\n",
      "              \"h\": 383,\n",
      "              \"w\": 680\n",
      "            },\n",
      "            \"thumb\": {\n",
      "              \"resize\": \"crop\",\n",
      "              \"h\": 150,\n",
      "              \"w\": 150\n",
      "            }\n",
      "          },\n",
      "          \"id_str\": \"1056740709020172288\",\n",
      "          \"media_url\": \"http://pbs.twimg.com/media/DqpME3TXgAA1bIB.jpg\",\n",
      "          \"display_url\": \"pic.twitter.com/YHul61YyDD\",\n",
      "          \"indices\": [\n",
      "            24,\n",
      "            47\n",
      "          ],\n",
      "          \"expanded_url\": \"https://twitter.com/RedSox/status/1056742515749994496/photo/1\",\n",
      "          \"media_url_https\": \"https://pbs.twimg.com/media/DqpME3TXgAA1bIB.jpg\",\n",
      "          \"url\": \"https://t.co/YHul61YyDD\",\n",
      "          \"type\": \"photo\"\n",
      "        }\n",
      "      ]\n",
      "    },\n",
      "    \"text\": \"WHAT A PERFORMANCE! \\ud83d\\udc4f\\ud83d\\udc4f\\ud83d\\udc4f https://t.co/YHul61YyDD\",\n",
      "    \"in_reply_to_status_id_str\": null,\n",
      "    \"place\": null\n",
      "  },\n",
      "  \"lang\": \"en\",\n",
      "  \"favorite_count\": 0,\n",
      "  \"id\": 1056743099450429440,\n",
      "  \"retweet_count\": 0,\n",
      "  \"reply_count\": 0,\n",
      "  \"created_at\": \"Mon Oct 29 03:02:42 +0000 2018\",\n",
      "  \"extended_entities\": {\n",
      "    \"media\": [\n",
      "      {\n",
      "        \"source_status_id\": 1056742515749994496,\n",
      "        \"source_status_id_str\": \"1056742515749994496\",\n",
      "        \"media_url\": \"http://pbs.twimg.com/media/DqpME3TXgAA1bIB.jpg\",\n",
      "        \"display_url\": \"pic.twitter.com/YHul61YyDD\",\n",
      "        \"expanded_url\": \"https://twitter.com/RedSox/status/1056742515749994496/photo/1\",\n",
      "        \"media_url_https\": \"https://pbs.twimg.com/media/DqpME3TXgAA1bIB.jpg\",\n",
      "        \"source_user_id\": 40918816,\n",
      "        \"id\": 1056740709020172288,\n",
      "        \"sizes\": {\n",
      "          \"large\": {\n",
      "            \"resize\": \"fit\",\n",
      "            \"h\": 576,\n",
      "            \"w\": 1024\n",
      "          },\n",
      "          \"medium\": {\n",
      "            \"resize\": \"fit\",\n",
      "            \"h\": 576,\n",
      "            \"w\": 1024\n",
      "          },\n",
      "          \"small\": {\n",
      "            \"resize\": \"fit\",\n",
      "            \"h\": 383,\n",
      "            \"w\": 680\n",
      "          },\n",
      "          \"thumb\": {\n",
      "            \"resize\": \"crop\",\n",
      "            \"h\": 150,\n",
      "            \"w\": 150\n",
      "          }\n",
      "        },\n",
      "        \"indices\": [\n",
      "          36,\n",
      "          59\n",
      "        ],\n",
      "        \"id_str\": \"1056740709020172288\",\n",
      "        \"source_user_id_str\": \"40918816\",\n",
      "        \"url\": \"https://t.co/YHul61YyDD\",\n",
      "        \"type\": \"photo\"\n",
      "      }\n",
      "    ]\n",
      "  },\n",
      "  \"text\": \"RT @RedSox: WHAT A PERFORMANCE! \\ud83d\\udc4f\\ud83d\\udc4f\\ud83d\\udc4f https://t.co/YHul61YyDD\",\n",
      "  \"in_reply_to_status_id_str\": null,\n",
      "  \"place\": null\n",
      "}\n"
     ]
    }
   ],
   "source": [
    "import json\n",
    "print(json.dumps(json.load(open(\"example-tweet.json\")), indent=2))"
   ]
  },
  {
   "cell_type": "markdown",
   "metadata": {},
   "source": [
    "You can find several key elements in this example; the text, time, and language of the tweet, whether it was a reply to another user, the user's screen name along with their primary language and other account information like creation date, follower/friend/tweet counts, and perhaps their location.  If there are hashtags, user mentions, or urls present in their tweet, they will be present in the `entities` section; these are not present in every tweet.  If this is a retweet, you will see the original tweet and its information nested within."
   ]
  },
  {
   "cell_type": "markdown",
   "metadata": {},
   "source": [
    "### Q1.2 - Start up Spark, and verify the file sizes."
   ]
  },
  {
   "cell_type": "markdown",
   "metadata": {},
   "source": [
    "We will use our normal startup sequence here:"
   ]
  },
  {
   "cell_type": "code",
   "execution_count": 7,
   "metadata": {
    "collapsed": true
   },
   "outputs": [],
   "source": [
    "import findspark"
   ]
  },
  {
   "cell_type": "code",
   "execution_count": 8,
   "metadata": {
    "collapsed": true
   },
   "outputs": [],
   "source": [
    "findspark.init()"
   ]
  },
  {
   "cell_type": "code",
   "execution_count": 9,
   "metadata": {
    "collapsed": true
   },
   "outputs": [],
   "source": [
    "from pyspark import SparkContext"
   ]
  },
  {
   "cell_type": "code",
   "execution_count": 10,
   "metadata": {
    "collapsed": true
   },
   "outputs": [],
   "source": [
    "spark = SparkContext(appName='project-03')"
   ]
  },
  {
   "cell_type": "code",
   "execution_count": 11,
   "metadata": {},
   "outputs": [
    {
     "data": {
      "text/html": [
       "\n",
       "        <div>\n",
       "            <p><b>SparkContext</b></p>\n",
       "\n",
       "            <p><a href=\"http://ip-172-31-90-152:4040\">Spark UI</a></p>\n",
       "\n",
       "            <dl>\n",
       "              <dt>Version</dt>\n",
       "                <dd><code>v2.3.1</code></dd>\n",
       "              <dt>Master</dt>\n",
       "                <dd><code>local[*]</code></dd>\n",
       "              <dt>AppName</dt>\n",
       "                <dd><code>project-03</code></dd>\n",
       "            </dl>\n",
       "        </div>\n",
       "        "
      ],
      "text/plain": [
       "<SparkContext master=local[*] appName=project-03>"
      ]
     },
     "execution_count": 11,
     "metadata": {},
     "output_type": "execute_result"
    }
   ],
   "source": [
    "spark"
   ]
  },
  {
   "cell_type": "code",
   "execution_count": 12,
   "metadata": {
    "collapsed": true
   },
   "outputs": [],
   "source": [
    "from pyspark import SQLContext"
   ]
  },
  {
   "cell_type": "code",
   "execution_count": 13,
   "metadata": {
    "collapsed": true
   },
   "outputs": [],
   "source": [
    "sqlc = SQLContext(spark)"
   ]
  },
  {
   "cell_type": "code",
   "execution_count": 14,
   "metadata": {},
   "outputs": [
    {
     "data": {
      "text/plain": [
       "<pyspark.sql.context.SQLContext at 0x7f6c723dc5f8>"
      ]
     },
     "execution_count": 14,
     "metadata": {},
     "output_type": "execute_result"
    }
   ],
   "source": [
    "sqlc"
   ]
  },
  {
   "cell_type": "code",
   "execution_count": 15,
   "metadata": {
    "collapsed": true
   },
   "outputs": [],
   "source": [
    "tweets = sqlc.read.json(\"ea26ccd6*.json\")"
   ]
  },
  {
   "cell_type": "markdown",
   "metadata": {},
   "source": [
    "Verify that Spark has loaded the same number of tweets you saw before:\n",
    "\n",
    "**Answer**"
   ]
  },
  {
   "cell_type": "markdown",
   "metadata": {},
   "source": [
    "10000, same as it was counted by using _! wc_ command"
   ]
  },
  {
   "cell_type": "code",
   "execution_count": 16,
   "metadata": {
    "collapsed": true
   },
   "outputs": [
    {
     "data": {
      "text/plain": [
       "100000"
      ]
     },
     "execution_count": 16,
     "metadata": {},
     "output_type": "execute_result"
    }
   ],
   "source": [
    "tweets.count()"
   ]
  },
  {
   "cell_type": "markdown",
   "metadata": {},
   "source": [
    "## Part 2 - Comparing DataFrames and Spark SQL\n",
    "\n",
    "For the next three questions, we will look at operations using both DataFrames and SQL queries. Note that `tweets` is already a DataFrame:"
   ]
  },
  {
   "cell_type": "code",
   "execution_count": 17,
   "metadata": {},
   "outputs": [
    {
     "data": {
      "text/plain": [
       "DataFrame[contributors: string, coordinates: struct<coordinates:array<double>,type:string>, created_at: string, display_text_range: array<bigint>, entities: struct<hashtags:array<struct<indices:array<bigint>,text:string>>,media:array<struct<additional_media_info:struct<description:string,embeddable:boolean,monetizable:boolean,title:string>,display_url:string,expanded_url:string,id:bigint,id_str:string,indices:array<bigint>,media_url:string,media_url_https:string,sizes:struct<large:struct<h:bigint,resize:string,w:bigint>,medium:struct<h:bigint,resize:string,w:bigint>,small:struct<h:bigint,resize:string,w:bigint>,thumb:struct<h:bigint,resize:string,w:bigint>>,source_status_id:bigint,source_status_id_str:string,source_user_id:bigint,source_user_id_str:string,type:string,url:string>>,symbols:array<struct<indices:array<bigint>,text:string>>,urls:array<struct<display_url:string,expanded_url:string,indices:array<bigint>,url:string>>,user_mentions:array<struct<id:bigint,id_str:string,indices:array<bigint>,name:string,screen_name:string>>>, extended_entities: struct<media:array<struct<additional_media_info:struct<description:string,embeddable:boolean,monetizable:boolean,title:string>,display_url:string,expanded_url:string,id:bigint,id_str:string,indices:array<bigint>,media_url:string,media_url_https:string,sizes:struct<large:struct<h:bigint,resize:string,w:bigint>,medium:struct<h:bigint,resize:string,w:bigint>,small:struct<h:bigint,resize:string,w:bigint>,thumb:struct<h:bigint,resize:string,w:bigint>>,source_status_id:bigint,source_status_id_str:string,source_user_id:bigint,source_user_id_str:string,type:string,url:string,video_info:struct<aspect_ratio:array<bigint>,duration_millis:bigint,variants:array<struct<bitrate:bigint,content_type:string,url:string>>>>>>, extended_tweet: struct<display_text_range:array<bigint>,entities:struct<hashtags:array<struct<indices:array<bigint>,text:string>>,media:array<struct<additional_media_info:struct<description:string,embeddable:boolean,monetizable:boolean,title:string>,description:string,display_url:string,expanded_url:string,id:bigint,id_str:string,indices:array<bigint>,media_url:string,media_url_https:string,sizes:struct<large:struct<h:bigint,resize:string,w:bigint>,medium:struct<h:bigint,resize:string,w:bigint>,small:struct<h:bigint,resize:string,w:bigint>,thumb:struct<h:bigint,resize:string,w:bigint>>,source_status_id:bigint,source_status_id_str:string,source_user_id:bigint,source_user_id_str:string,type:string,url:string,video_info:struct<aspect_ratio:array<bigint>,duration_millis:bigint,variants:array<struct<bitrate:bigint,content_type:string,url:string>>>>>,symbols:array<struct<indices:array<bigint>,text:string>>,urls:array<struct<display_url:string,expanded_url:string,indices:array<bigint>,url:string>>,user_mentions:array<struct<id:bigint,id_str:string,indices:array<bigint>,name:string,screen_name:string>>>,extended_entities:struct<media:array<struct<additional_media_info:struct<description:string,embeddable:boolean,monetizable:boolean,title:string>,description:string,display_url:string,expanded_url:string,id:bigint,id_str:string,indices:array<bigint>,media_url:string,media_url_https:string,sizes:struct<large:struct<h:bigint,resize:string,w:bigint>,medium:struct<h:bigint,resize:string,w:bigint>,small:struct<h:bigint,resize:string,w:bigint>,thumb:struct<h:bigint,resize:string,w:bigint>>,source_status_id:bigint,source_status_id_str:string,source_user_id:bigint,source_user_id_str:string,type:string,url:string,video_info:struct<aspect_ratio:array<bigint>,duration_millis:bigint,variants:array<struct<bitrate:bigint,content_type:string,url:string>>>>>>,full_text:string>, favorite_count: bigint, favorited: boolean, filter_level: string, geo: struct<coordinates:array<double>,type:string>, id: bigint, id_str: string, in_reply_to_screen_name: string, in_reply_to_status_id: bigint, in_reply_to_status_id_str: string, in_reply_to_user_id: bigint, in_reply_to_user_id_str: string, is_quote_status: boolean, lang: string, place: struct<bounding_box:struct<coordinates:array<array<array<double>>>,type:string>,country:string,country_code:string,full_name:string,id:string,name:string,place_type:string,url:string>, possibly_sensitive: boolean, quote_count: bigint, quoted_status: struct<contributors:string,coordinates:struct<coordinates:array<double>,type:string>,created_at:string,display_text_range:array<bigint>,entities:struct<hashtags:array<struct<indices:array<bigint>,text:string>>,media:array<struct<additional_media_info:struct<description:string,embeddable:boolean,monetizable:boolean,title:string>,display_url:string,expanded_url:string,id:bigint,id_str:string,indices:array<bigint>,media_url:string,media_url_https:string,sizes:struct<large:struct<h:bigint,resize:string,w:bigint>,medium:struct<h:bigint,resize:string,w:bigint>,small:struct<h:bigint,resize:string,w:bigint>,thumb:struct<h:bigint,resize:string,w:bigint>>,source_status_id:bigint,source_status_id_str:string,source_user_id:bigint,source_user_id_str:string,type:string,url:string>>,symbols:array<string>,urls:array<struct<display_url:string,expanded_url:string,indices:array<bigint>,url:string>>,user_mentions:array<struct<id:bigint,id_str:string,indices:array<bigint>,name:string,screen_name:string>>>,extended_entities:struct<media:array<struct<additional_media_info:struct<description:string,embeddable:boolean,monetizable:boolean,title:string>,display_url:string,expanded_url:string,id:bigint,id_str:string,indices:array<bigint>,media_url:string,media_url_https:string,sizes:struct<large:struct<h:bigint,resize:string,w:bigint>,medium:struct<h:bigint,resize:string,w:bigint>,small:struct<h:bigint,resize:string,w:bigint>,thumb:struct<h:bigint,resize:string,w:bigint>>,source_status_id:bigint,source_status_id_str:string,source_user_id:bigint,source_user_id_str:string,type:string,url:string,video_info:struct<aspect_ratio:array<bigint>,duration_millis:bigint,variants:array<struct<bitrate:bigint,content_type:string,url:string>>>>>>,extended_tweet:struct<display_text_range:array<bigint>,entities:struct<hashtags:array<struct<indices:array<bigint>,text:string>>,media:array<struct<additional_media_info:struct<description:string,embeddable:boolean,monetizable:boolean,title:string>,display_url:string,expanded_url:string,id:bigint,id_str:string,indices:array<bigint>,media_url:string,media_url_https:string,sizes:struct<large:struct<h:bigint,resize:string,w:bigint>,medium:struct<h:bigint,resize:string,w:bigint>,small:struct<h:bigint,resize:string,w:bigint>,thumb:struct<h:bigint,resize:string,w:bigint>>,source_status_id:bigint,source_status_id_str:string,source_user_id:bigint,source_user_id_str:string,type:string,url:string,video_info:struct<aspect_ratio:array<bigint>,duration_millis:bigint,variants:array<struct<bitrate:bigint,content_type:string,url:string>>>>>,symbols:array<string>,urls:array<struct<display_url:string,expanded_url:string,indices:array<bigint>,url:string>>,user_mentions:array<struct<id:bigint,id_str:string,indices:array<bigint>,name:string,screen_name:string>>>,extended_entities:struct<media:array<struct<additional_media_info:struct<description:string,embeddable:boolean,monetizable:boolean,title:string>,display_url:string,expanded_url:string,id:bigint,id_str:string,indices:array<bigint>,media_url:string,media_url_https:string,sizes:struct<large:struct<h:bigint,resize:string,w:bigint>,medium:struct<h:bigint,resize:string,w:bigint>,small:struct<h:bigint,resize:string,w:bigint>,thumb:struct<h:bigint,resize:string,w:bigint>>,source_status_id:bigint,source_status_id_str:string,source_user_id:bigint,source_user_id_str:string,type:string,url:string,video_info:struct<aspect_ratio:array<bigint>,duration_millis:bigint,variants:array<struct<bitrate:bigint,content_type:string,url:string>>>>>>,full_text:string>,favorite_count:bigint,favorited:boolean,filter_level:string,geo:struct<coordinates:array<double>,type:string>,id:bigint,id_str:string,in_reply_to_screen_name:string,in_reply_to_status_id:bigint,in_reply_to_status_id_str:string,in_reply_to_user_id:bigint,in_reply_to_user_id_str:string,is_quote_status:boolean,lang:string,place:struct<bounding_box:struct<coordinates:array<array<array<double>>>,type:string>,country:string,country_code:string,full_name:string,id:string,name:string,place_type:string,url:string>,possibly_sensitive:boolean,quote_count:bigint,quoted_status_id:bigint,quoted_status_id_str:string,reply_count:bigint,retweet_count:bigint,retweeted:boolean,scopes:struct<followers:boolean>,source:string,text:string,truncated:boolean,user:struct<contributors_enabled:boolean,created_at:string,default_profile:boolean,default_profile_image:boolean,description:string,favourites_count:bigint,follow_request_sent:string,followers_count:bigint,following:string,friends_count:bigint,geo_enabled:boolean,id:bigint,id_str:string,is_translator:boolean,lang:string,listed_count:bigint,location:string,name:string,notifications:string,profile_background_color:string,profile_background_image_url:string,profile_background_image_url_https:string,profile_background_tile:boolean,profile_banner_url:string,profile_image_url:string,profile_image_url_https:string,profile_link_color:string,profile_sidebar_border_color:string,profile_sidebar_fill_color:string,profile_text_color:string,profile_use_background_image:boolean,protected:boolean,screen_name:string,statuses_count:bigint,time_zone:string,translator_type:string,url:string,utc_offset:string,verified:boolean>>, quoted_status_id: bigint, quoted_status_id_str: string, quoted_status_permalink: struct<display:string,expanded:string,url:string>, reply_count: bigint, retweet_count: bigint, retweeted: boolean, retweeted_status: struct<contributors:string,coordinates:struct<coordinates:array<double>,type:string>,created_at:string,display_text_range:array<bigint>,entities:struct<hashtags:array<struct<indices:array<bigint>,text:string>>,media:array<struct<additional_media_info:struct<description:string,embeddable:boolean,monetizable:boolean,title:string>,description:string,display_url:string,expanded_url:string,id:bigint,id_str:string,indices:array<bigint>,media_url:string,media_url_https:string,sizes:struct<large:struct<h:bigint,resize:string,w:bigint>,medium:struct<h:bigint,resize:string,w:bigint>,small:struct<h:bigint,resize:string,w:bigint>,thumb:struct<h:bigint,resize:string,w:bigint>>,source_status_id:bigint,source_status_id_str:string,source_user_id:bigint,source_user_id_str:string,type:string,url:string>>,symbols:array<string>,urls:array<struct<display_url:string,expanded_url:string,indices:array<bigint>,url:string>>,user_mentions:array<struct<id:bigint,id_str:string,indices:array<bigint>,name:string,screen_name:string>>>,extended_entities:struct<media:array<struct<additional_media_info:struct<description:string,embeddable:boolean,monetizable:boolean,title:string>,description:string,display_url:string,expanded_url:string,id:bigint,id_str:string,indices:array<bigint>,media_url:string,media_url_https:string,sizes:struct<large:struct<h:bigint,resize:string,w:bigint>,medium:struct<h:bigint,resize:string,w:bigint>,small:struct<h:bigint,resize:string,w:bigint>,thumb:struct<h:bigint,resize:string,w:bigint>>,source_status_id:bigint,source_status_id_str:string,source_user_id:bigint,source_user_id_str:string,type:string,url:string,video_info:struct<aspect_ratio:array<bigint>,duration_millis:bigint,variants:array<struct<bitrate:bigint,content_type:string,url:string>>>>>>,extended_tweet:struct<display_text_range:array<bigint>,entities:struct<hashtags:array<struct<indices:array<bigint>,text:string>>,media:array<struct<additional_media_info:struct<description:string,embeddable:boolean,monetizable:boolean,title:string>,display_url:string,expanded_url:string,id:bigint,id_str:string,indices:array<bigint>,media_url:string,media_url_https:string,sizes:struct<large:struct<h:bigint,resize:string,w:bigint>,medium:struct<h:bigint,resize:string,w:bigint>,small:struct<h:bigint,resize:string,w:bigint>,thumb:struct<h:bigint,resize:string,w:bigint>>,source_status_id:bigint,source_status_id_str:string,source_user_id:bigint,source_user_id_str:string,type:string,url:string,video_info:struct<aspect_ratio:array<bigint>,duration_millis:bigint,variants:array<struct<bitrate:bigint,content_type:string,url:string>>>>>,symbols:array<struct<indices:array<bigint>,text:string>>,urls:array<struct<display_url:string,expanded_url:string,indices:array<bigint>,url:string>>,user_mentions:array<struct<id:bigint,id_str:string,indices:array<bigint>,name:string,screen_name:string>>>,extended_entities:struct<media:array<struct<additional_media_info:struct<description:string,embeddable:boolean,monetizable:boolean,title:string>,display_url:string,expanded_url:string,id:bigint,id_str:string,indices:array<bigint>,media_url:string,media_url_https:string,sizes:struct<large:struct<h:bigint,resize:string,w:bigint>,medium:struct<h:bigint,resize:string,w:bigint>,small:struct<h:bigint,resize:string,w:bigint>,thumb:struct<h:bigint,resize:string,w:bigint>>,source_status_id:bigint,source_status_id_str:string,source_user_id:bigint,source_user_id_str:string,type:string,url:string,video_info:struct<aspect_ratio:array<bigint>,duration_millis:bigint,variants:array<struct<bitrate:bigint,content_type:string,url:string>>>>>>,full_text:string>,favorite_count:bigint,favorited:boolean,filter_level:string,geo:struct<coordinates:array<double>,type:string>,id:bigint,id_str:string,in_reply_to_screen_name:string,in_reply_to_status_id:bigint,in_reply_to_status_id_str:string,in_reply_to_user_id:bigint,in_reply_to_user_id_str:string,is_quote_status:boolean,lang:string,place:struct<bounding_box:struct<coordinates:array<array<array<double>>>,type:string>,country:string,country_code:string,full_name:string,id:string,name:string,place_type:string,url:string>,possibly_sensitive:boolean,quote_count:bigint,quoted_status:struct<contributors:string,coordinates:struct<coordinates:array<double>,type:string>,created_at:string,display_text_range:array<bigint>,entities:struct<hashtags:array<struct<indices:array<bigint>,text:string>>,media:array<struct<additional_media_info:struct<description:string,embeddable:boolean,monetizable:boolean,title:string>,display_url:string,expanded_url:string,id:bigint,id_str:string,indices:array<bigint>,media_url:string,media_url_https:string,sizes:struct<large:struct<h:bigint,resize:string,w:bigint>,medium:struct<h:bigint,resize:string,w:bigint>,small:struct<h:bigint,resize:string,w:bigint>,thumb:struct<h:bigint,resize:string,w:bigint>>,source_status_id:bigint,source_status_id_str:string,source_user_id:bigint,source_user_id_str:string,type:string,url:string>>,symbols:array<string>,urls:array<struct<display_url:string,expanded_url:string,indices:array<bigint>,url:string>>,user_mentions:array<struct<id:bigint,id_str:string,indices:array<bigint>,name:string,screen_name:string>>>,extended_entities:struct<media:array<struct<additional_media_info:struct<description:string,embeddable:boolean,monetizable:boolean,title:string>,display_url:string,expanded_url:string,id:bigint,id_str:string,indices:array<bigint>,media_url:string,media_url_https:string,sizes:struct<large:struct<h:bigint,resize:string,w:bigint>,medium:struct<h:bigint,resize:string,w:bigint>,small:struct<h:bigint,resize:string,w:bigint>,thumb:struct<h:bigint,resize:string,w:bigint>>,source_status_id:bigint,source_status_id_str:string,source_user_id:bigint,source_user_id_str:string,type:string,url:string,video_info:struct<aspect_ratio:array<bigint>,duration_millis:bigint,variants:array<struct<bitrate:bigint,content_type:string,url:string>>>>>>,extended_tweet:struct<display_text_range:array<bigint>,entities:struct<hashtags:array<struct<indices:array<bigint>,text:string>>,media:array<struct<additional_media_info:struct<description:string,embeddable:boolean,monetizable:boolean,title:string>,display_url:string,expanded_url:string,id:bigint,id_str:string,indices:array<bigint>,media_url:string,media_url_https:string,sizes:struct<large:struct<h:bigint,resize:string,w:bigint>,medium:struct<h:bigint,resize:string,w:bigint>,small:struct<h:bigint,resize:string,w:bigint>,thumb:struct<h:bigint,resize:string,w:bigint>>,source_status_id:bigint,source_status_id_str:string,source_user_id:bigint,source_user_id_str:string,type:string,url:string,video_info:struct<aspect_ratio:array<bigint>,duration_millis:bigint,variants:array<struct<bitrate:bigint,content_type:string,url:string>>>>>,symbols:array<string>,urls:array<struct<display_url:string,expanded_url:string,indices:array<bigint>,url:string>>,user_mentions:array<struct<id:bigint,id_str:string,indices:array<bigint>,name:string,screen_name:string>>>,extended_entities:struct<media:array<struct<additional_media_info:struct<description:string,embeddable:boolean,monetizable:boolean,title:string>,display_url:string,expanded_url:string,id:bigint,id_str:string,indices:array<bigint>,media_url:string,media_url_https:string,sizes:struct<large:struct<h:bigint,resize:string,w:bigint>,medium:struct<h:bigint,resize:string,w:bigint>,small:struct<h:bigint,resize:string,w:bigint>,thumb:struct<h:bigint,resize:string,w:bigint>>,source_status_id:bigint,source_status_id_str:string,source_user_id:bigint,source_user_id_str:string,type:string,url:string,video_info:struct<aspect_ratio:array<bigint>,duration_millis:bigint,variants:array<struct<bitrate:bigint,content_type:string,url:string>>>>>>,full_text:string>,favorite_count:bigint,favorited:boolean,filter_level:string,geo:struct<coordinates:array<double>,type:string>,id:bigint,id_str:string,in_reply_to_screen_name:string,in_reply_to_status_id:bigint,in_reply_to_status_id_str:string,in_reply_to_user_id:bigint,in_reply_to_user_id_str:string,is_quote_status:boolean,lang:string,place:struct<bounding_box:struct<coordinates:array<array<array<double>>>,type:string>,country:string,country_code:string,full_name:string,id:string,name:string,place_type:string,url:string>,possibly_sensitive:boolean,quote_count:bigint,quoted_status_id:bigint,quoted_status_id_str:string,reply_count:bigint,retweet_count:bigint,retweeted:boolean,scopes:struct<followers:boolean>,source:string,text:string,truncated:boolean,user:struct<contributors_enabled:boolean,created_at:string,default_profile:boolean,default_profile_image:boolean,description:string,favourites_count:bigint,follow_request_sent:string,followers_count:bigint,following:string,friends_count:bigint,geo_enabled:boolean,id:bigint,id_str:string,is_translator:boolean,lang:string,listed_count:bigint,location:string,name:string,notifications:string,profile_background_color:string,profile_background_image_url:string,profile_background_image_url_https:string,profile_background_tile:boolean,profile_banner_url:string,profile_image_url:string,profile_image_url_https:string,profile_link_color:string,profile_sidebar_border_color:string,profile_sidebar_fill_color:string,profile_text_color:string,profile_use_background_image:boolean,protected:boolean,screen_name:string,statuses_count:bigint,time_zone:string,translator_type:string,url:string,utc_offset:string,verified:boolean>>,quoted_status_id:bigint,quoted_status_id_str:string,quoted_status_permalink:struct<display:string,expanded:string,url:string>,reply_count:bigint,retweet_count:bigint,retweeted:boolean,scopes:struct<followers:boolean>,source:string,text:string,truncated:boolean,user:struct<contributors_enabled:boolean,created_at:string,default_profile:boolean,default_profile_image:boolean,description:string,favourites_count:bigint,follow_request_sent:string,followers_count:bigint,following:string,friends_count:bigint,geo_enabled:boolean,id:bigint,id_str:string,is_translator:boolean,lang:string,listed_count:bigint,location:string,name:string,notifications:string,profile_background_color:string,profile_background_image_url:string,profile_background_image_url_https:string,profile_background_tile:boolean,profile_banner_url:string,profile_image_url:string,profile_image_url_https:string,profile_link_color:string,profile_sidebar_border_color:string,profile_sidebar_fill_color:string,profile_text_color:string,profile_use_background_image:boolean,protected:boolean,screen_name:string,statuses_count:bigint,time_zone:string,translator_type:string,url:string,utc_offset:string,verified:boolean>>, source: string, text: string, timestamp_ms: string, truncated: boolean, user: struct<contributors_enabled:boolean,created_at:string,default_profile:boolean,default_profile_image:boolean,description:string,favourites_count:bigint,follow_request_sent:string,followers_count:bigint,following:string,friends_count:bigint,geo_enabled:boolean,id:bigint,id_str:string,is_translator:boolean,lang:string,listed_count:bigint,location:string,name:string,notifications:string,profile_background_color:string,profile_background_image_url:string,profile_background_image_url_https:string,profile_background_tile:boolean,profile_banner_url:string,profile_image_url:string,profile_image_url_https:string,profile_link_color:string,profile_sidebar_border_color:string,profile_sidebar_fill_color:string,profile_text_color:string,profile_use_background_image:boolean,protected:boolean,screen_name:string,statuses_count:bigint,time_zone:string,translator_type:string,url:string,utc_offset:string,verified:boolean>]"
      ]
     },
     "execution_count": 17,
     "metadata": {},
     "output_type": "execute_result"
    }
   ],
   "source": [
    "tweets"
   ]
  },
  {
   "cell_type": "markdown",
   "metadata": {},
   "source": [
    "To issue SQL queries, we need to register a table based on `tweets`:"
   ]
  },
  {
   "cell_type": "code",
   "execution_count": 18,
   "metadata": {
    "collapsed": true
   },
   "outputs": [],
   "source": [
    "tweets.createOrReplaceTempView(\"tweets\")"
   ]
  },
  {
   "cell_type": "markdown",
   "metadata": {},
   "source": [
    "### Q2.1 - Which 10 languages are most commonly used in tweets?  Verify your result by executing it with both the dataframe and with SQL.\n",
    "\n",
    "Hint: for the dataframe, use `groupBy`, `count`, and `orderBy`.  See the documentation at https://spark.apache.org/docs/2.3.1/api/python/pyspark.sql.html for details on these and other functions.\n",
    "\n",
    "**Answer**"
   ]
  },
  {
   "cell_type": "markdown",
   "metadata": {},
   "source": [
    "We have a look at the name of the columns"
   ]
  },
  {
   "cell_type": "code",
   "execution_count": 20,
   "metadata": {},
   "outputs": [
    {
     "data": {
      "text/plain": [
       "['contributors',\n",
       " 'coordinates',\n",
       " 'created_at',\n",
       " 'display_text_range',\n",
       " 'entities',\n",
       " 'extended_entities',\n",
       " 'extended_tweet',\n",
       " 'favorite_count',\n",
       " 'favorited',\n",
       " 'filter_level',\n",
       " 'geo',\n",
       " 'id',\n",
       " 'id_str',\n",
       " 'in_reply_to_screen_name',\n",
       " 'in_reply_to_status_id',\n",
       " 'in_reply_to_status_id_str',\n",
       " 'in_reply_to_user_id',\n",
       " 'in_reply_to_user_id_str',\n",
       " 'is_quote_status',\n",
       " 'lang',\n",
       " 'place',\n",
       " 'possibly_sensitive',\n",
       " 'quote_count',\n",
       " 'quoted_status',\n",
       " 'quoted_status_id',\n",
       " 'quoted_status_id_str',\n",
       " 'quoted_status_permalink',\n",
       " 'reply_count',\n",
       " 'retweet_count',\n",
       " 'retweeted',\n",
       " 'retweeted_status',\n",
       " 'source',\n",
       " 'text',\n",
       " 'timestamp_ms',\n",
       " 'truncated',\n",
       " 'user']"
      ]
     },
     "execution_count": 20,
     "metadata": {},
     "output_type": "execute_result"
    }
   ],
   "source": [
    "tweets.columns"
   ]
  },
  {
   "cell_type": "markdown",
   "metadata": {},
   "source": [
    "__Use Dataframe__"
   ]
  },
  {
   "cell_type": "markdown",
   "metadata": {},
   "source": [
    "__Use SQL__"
   ]
  },
  {
   "cell_type": "code",
   "execution_count": 21,
   "metadata": {},
   "outputs": [
    {
     "data": {
      "text/plain": [
       "[Row(lang='en')]"
      ]
     },
     "execution_count": 21,
     "metadata": {},
     "output_type": "execute_result"
    }
   ],
   "source": [
    "tweets.select('lang').take(1)"
   ]
  },
  {
   "cell_type": "markdown",
   "metadata": {},
   "source": [
    "The GROUP BY statement is  used with aggregate functions to group the result-set by language. We count the number, decent the count and show the top ten, verify the answer by SQL"
   ]
  },
  {
   "cell_type": "code",
   "execution_count": 22,
   "metadata": {},
   "outputs": [
    {
     "name": "stdout",
     "output_type": "stream",
     "text": [
      "+----+-----+\n",
      "|lang|count|\n",
      "+----+-----+\n",
      "|  en|88545|\n",
      "| und| 5217|\n",
      "|  es| 4927|\n",
      "|  pt|  402|\n",
      "|  fr|  266|\n",
      "|  ht|  136|\n",
      "|  ja|   98|\n",
      "|  tl|   86|\n",
      "|  in|   55|\n",
      "|  ca|   41|\n",
      "+----+-----+\n",
      "only showing top 10 rows\n",
      "\n"
     ]
    }
   ],
   "source": [
    "group = tweets.groupBy('lang').count()\n",
    "from pyspark.sql.functions import *\n",
    "group.sort(desc('count')).show(10)"
   ]
  },
  {
   "cell_type": "code",
   "execution_count": 23,
   "metadata": {},
   "outputs": [
    {
     "name": "stdout",
     "output_type": "stream",
     "text": [
      "+----+-----------+\n",
      "|lang|count(lang)|\n",
      "+----+-----------+\n",
      "|  en|      88545|\n",
      "| und|       5217|\n",
      "|  es|       4927|\n",
      "|  pt|        402|\n",
      "|  fr|        266|\n",
      "|  ht|        136|\n",
      "|  ja|         98|\n",
      "|  tl|         86|\n",
      "|  in|         55|\n",
      "|  ca|         41|\n",
      "+----+-----------+\n",
      "only showing top 10 rows\n",
      "\n"
     ]
    }
   ],
   "source": [
    "sqlc.sql(\"\"\"\n",
    "    SELECT lang, COUNT(lang)\n",
    "    FROM tweets\n",
    "    GROUP BY lang\n",
    "    ORDER BY COUNT(lang) DESC\n",
    "\"\"\").show(10)"
   ]
  },
  {
   "cell_type": "markdown",
   "metadata": {},
   "source": [
    "### Q2.2 - Which 10 time zones are most common among users?  Verify your result with both the dataframe and SQL.\n",
    "\n",
    "*Note*: for this question, you may leave NULL values present in your results, as a way to help you understand what data is present and what is missing.\n",
    "\n",
    "**Answer**"
   ]
  },
  {
   "cell_type": "code",
   "execution_count": 24,
   "metadata": {},
   "outputs": [
    {
     "name": "stdout",
     "output_type": "stream",
     "text": [
      "+---------+------+\n",
      "|time_zone| count|\n",
      "+---------+------+\n",
      "|     null|100000|\n",
      "+---------+------+\n",
      "\n"
     ]
    }
   ],
   "source": [
    "group_user = tweets.groupBy('user.time_zone').count()\n",
    "group_user.sort(desc('count')).show(10)"
   ]
  },
  {
   "cell_type": "code",
   "execution_count": 25,
   "metadata": {
    "collapsed": true
   },
   "outputs": [
    {
     "name": "stdout",
     "output_type": "stream",
     "text": [
      "+---------+\n",
      "|time_zone|\n",
      "+---------+\n",
      "|     null|\n",
      "+---------+\n",
      "\n"
     ]
    }
   ],
   "source": [
    "sqlc.sql(\"\"\"\n",
    "    SELECT user.time_zone\n",
    "    FROM tweets\n",
    "    GROUP BY user.time_zone\n",
    "    ORDER BY COUNT(user.time_zone) DESC\n",
    "\"\"\").show(10)"
   ]
  },
  {
   "cell_type": "markdown",
   "metadata": {},
   "source": [
    "The file we selected has null values for 'time_zone'"
   ]
  },
  {
   "cell_type": "markdown",
   "metadata": {},
   "source": [
    "### Q2.3 - How many tweets mention the Dodgers?  How many mention the Red Sox?  How many mention both?\n",
    "\n",
    "You may use either the dataframe or SQL to answer.  Explain why you have chosen that approach.\n",
    "\n",
    "Hint:  you will want to look at the value of the `text` field.\n",
    "\n",
    "**Answer**"
   ]
  },
  {
   "cell_type": "markdown",
   "metadata": {},
   "source": [
    "The LIKE operator is used in a WHERE clause to search for a specified pattern in a column.  The percent sign represents zero, one, or multiple characters"
   ]
  },
  {
   "cell_type": "markdown",
   "metadata": {},
   "source": [
    "__Count the number of tweets that mentioned Dodgers__"
   ]
  },
  {
   "cell_type": "code",
   "execution_count": 26,
   "metadata": {
    "collapsed": true
   },
   "outputs": [
    {
     "name": "stdout",
     "output_type": "stream",
     "text": [
      "+-----+\n",
      "|COUNT|\n",
      "+-----+\n",
      "|20745|\n",
      "+-----+\n",
      "\n"
     ]
    }
   ],
   "source": [
    "sqlc.sql(\"\"\"\n",
    "    SELECT COUNT(text) AS COUNT \n",
    "    FROM tweets\n",
    "    WHERE text LIKE '%Dodgers%'\n",
    "\"\"\").show()"
   ]
  },
  {
   "cell_type": "markdown",
   "metadata": {},
   "source": [
    "__Count the number of tweets that mentioned Red Sox__"
   ]
  },
  {
   "cell_type": "code",
   "execution_count": 27,
   "metadata": {},
   "outputs": [
    {
     "name": "stdout",
     "output_type": "stream",
     "text": [
      "+-----+\n",
      "|COUNT|\n",
      "+-----+\n",
      "|14863|\n",
      "+-----+\n",
      "\n"
     ]
    }
   ],
   "source": [
    "sqlc.sql(\"\"\"\n",
    "    SELECT COUNT(text) AS COUNT \n",
    "    FROM tweets\n",
    "    WHERE text LIKE '%Red Sox%'\n",
    "\"\"\").show()"
   ]
  },
  {
   "cell_type": "markdown",
   "metadata": {},
   "source": [
    "__Count the number of tweets that mentioned Red Sox and Dodgers__"
   ]
  },
  {
   "cell_type": "code",
   "execution_count": 28,
   "metadata": {},
   "outputs": [
    {
     "name": "stdout",
     "output_type": "stream",
     "text": [
      "+-----+\n",
      "|COUNT|\n",
      "+-----+\n",
      "| 2625|\n",
      "+-----+\n",
      "\n"
     ]
    }
   ],
   "source": [
    "sqlc.sql(\"\"\"\n",
    "    SELECT COUNT(text) AS COUNT \n",
    "    FROM tweets\n",
    "    WHERE text LIKE '%Red Sox%'\n",
    "    AND text LIKE '%Dodgers%'\n",
    "\"\"\").show()"
   ]
  },
  {
   "cell_type": "markdown",
   "metadata": {},
   "source": [
    "## Part 3 - More complex queries\n",
    "\n",
    "For this section, you may choose to use dataframe queries or SQL.  If you wish, you may verify results by using both, as in Part 2, but this is not required for this section.\n",
    "\n",
    "### Q3.1 - Team mentions by location\n",
    "\n",
    "In which users' locations are the Red Sox and the Dodgers being mentioned the most?  Consider each team separately, one at a time.  Discuss your findings.\n",
    "\n",
    "Hint:  you may use either the time zones or user-specified locations for this question.\n",
    "\n",
    "**Answer**"
   ]
  },
  {
   "cell_type": "markdown",
   "metadata": {},
   "source": [
    "We count the user-specified locations.The ORDER BY keyword is used to sort the result-set in descending order. We consider each team separately by group by user location."
   ]
  },
  {
   "cell_type": "code",
   "execution_count": 29,
   "metadata": {},
   "outputs": [
    {
     "name": "stdout",
     "output_type": "stream",
     "text": [
      "+------------------+--------------------+\n",
      "|          location|Time_Mention_Red_Sox|\n",
      "+------------------+--------------------+\n",
      "|        Boston, MA|                 332|\n",
      "|     United States|                 185|\n",
      "|   Los Angeles, CA|                 131|\n",
      "|Massachusetts, USA|                 115|\n",
      "| Dhaka, Bangladesh|                 113|\n",
      "|        Bangladesh|                  96|\n",
      "|            Boston|                  95|\n",
      "|       Chicago, IL|                  80|\n",
      "|      New York, NY|                  73|\n",
      "|   California, USA|                  68|\n",
      "+------------------+--------------------+\n",
      "only showing top 10 rows\n",
      "\n"
     ]
    }
   ],
   "source": [
    "sqlc.sql(\"\"\"\n",
    "    SELECT user.location, COUNT(user.location) AS Time_Mention_Red_Sox \n",
    "    FROM tweets\n",
    "    WHERE text LIKE '%Red Sox%'\n",
    "    GROUP BY user.location\n",
    "    ORDER BY COUNT(user.location) DESC\n",
    "\n",
    "\"\"\").show(10)"
   ]
  },
  {
   "cell_type": "code",
   "execution_count": 30,
   "metadata": {},
   "outputs": [
    {
     "name": "stdout",
     "output_type": "stream",
     "text": [
      "+-----------------+--------------------+\n",
      "|         location|Time_Mention_Dodgers|\n",
      "+-----------------+--------------------+\n",
      "|  Los Angeles, CA|                 632|\n",
      "|  California, USA|                 303|\n",
      "|    United States|                 241|\n",
      "|      Los Angeles|                 224|\n",
      "|       Boston, MA|                 189|\n",
      "|Dhaka, Bangladesh|                 113|\n",
      "|           México|                 105|\n",
      "|      Houston, TX|                 102|\n",
      "|       Bangladesh|                  96|\n",
      "|       California|                  93|\n",
      "+-----------------+--------------------+\n",
      "only showing top 10 rows\n",
      "\n"
     ]
    }
   ],
   "source": [
    "sqlc.sql(\"\"\"\n",
    "    SELECT user.location, COUNT(user.location) AS Time_Mention_Dodgers \n",
    "    FROM tweets\n",
    "    WHERE text LIKE '%Dodgers%'\n",
    "    GROUP BY user.location\n",
    "    ORDER BY COUNT(user.location) DESC\n",
    "\n",
    "\"\"\").show(10)"
   ]
  },
  {
   "cell_type": "markdown",
   "metadata": {},
   "source": [
    "As the above two queries indicates, the locations where mentioned Dodgers and Red Sox the most is significantly different. It is not surprising that Boston, Ma mentioned Red Sox the most because it is a team from Boston and Los Angeles, CA for Dodgers as it is a Los Angeles team. So people tend to discuss their local teams."
   ]
  },
  {
   "cell_type": "markdown",
   "metadata": {},
   "source": [
    "### Q3.2 - Which Twitter users are being replied to the most?\n",
    "\n",
    "Discuss your findings.\n",
    "\n",
    "Hint: use the top-level `in_reply_to_screen_name` for this.\n",
    "\n",
    "**Answer**"
   ]
  },
  {
   "cell_type": "code",
   "execution_count": 31,
   "metadata": {},
   "outputs": [
    {
     "data": {
      "text/plain": [
       "['contributors',\n",
       " 'coordinates',\n",
       " 'created_at',\n",
       " 'display_text_range',\n",
       " 'entities',\n",
       " 'extended_entities',\n",
       " 'extended_tweet',\n",
       " 'favorite_count',\n",
       " 'favorited',\n",
       " 'filter_level',\n",
       " 'geo',\n",
       " 'id',\n",
       " 'id_str',\n",
       " 'in_reply_to_screen_name',\n",
       " 'in_reply_to_status_id',\n",
       " 'in_reply_to_status_id_str',\n",
       " 'in_reply_to_user_id',\n",
       " 'in_reply_to_user_id_str',\n",
       " 'is_quote_status',\n",
       " 'lang',\n",
       " 'place',\n",
       " 'possibly_sensitive',\n",
       " 'quote_count',\n",
       " 'quoted_status',\n",
       " 'quoted_status_id',\n",
       " 'quoted_status_id_str',\n",
       " 'quoted_status_permalink',\n",
       " 'reply_count',\n",
       " 'retweet_count',\n",
       " 'retweeted',\n",
       " 'retweeted_status',\n",
       " 'source',\n",
       " 'text',\n",
       " 'timestamp_ms',\n",
       " 'truncated',\n",
       " 'user']"
      ]
     },
     "execution_count": 31,
     "metadata": {},
     "output_type": "execute_result"
    }
   ],
   "source": [
    "tweets.columns"
   ]
  },
  {
   "cell_type": "markdown",
   "metadata": {},
   "source": [
    "We count the frequency of \"in reply to screen name \" and show in a decending order toget the top 10 most replied twitter users. The result shows that RedSox is replied the most, as it shows 1360 times."
   ]
  },
  {
   "cell_type": "code",
   "execution_count": 32,
   "metadata": {
    "collapsed": true
   },
   "outputs": [
    {
     "name": "stdout",
     "output_type": "stream",
     "text": [
      "+-----------------------+------------------------------+\n",
      "|in_reply_to_screen_name|count(in_reply_to_screen_name)|\n",
      "+-----------------------+------------------------------+\n",
      "|                 RedSox|                          1360|\n",
      "|                Dodgers|                           814|\n",
      "|                    MLB|                           163|\n",
      "|          DodgersNation|                           101|\n",
      "|         DonnieWahlberg|                            77|\n",
      "|           DAVIDprice24|                            75|\n",
      "|                Rangers|                            59|\n",
      "|             EJerezESPN|                            52|\n",
      "|        MLBStatoftheDay|                            43|\n",
      "|             VeniceMase|                            42|\n",
      "+-----------------------+------------------------------+\n",
      "only showing top 10 rows\n",
      "\n"
     ]
    }
   ],
   "source": [
    "sqlc.sql(\"\"\"\n",
    "    SELECT in_reply_to_screen_name, COUNT(in_reply_to_screen_name)\n",
    "    FROM tweets\n",
    "    GROUP BY in_reply_to_screen_name\n",
    "    ORDER BY COUNT(in_reply_to_screen_name) DESC\n",
    "\"\"\").show(10)"
   ]
  },
  {
   "cell_type": "markdown",
   "metadata": {},
   "source": [
    "### Q3.3 - Which 10 verified users have the most followers?  Which 10 unverified users have the most followers?\n",
    "\n",
    "Provide both the screen names and follower counts for each.\n",
    "\n",
    "Discuss your findings.\n",
    "\n",
    "**Answer**"
   ]
  },
  {
   "cell_type": "markdown",
   "metadata": {},
   "source": [
    "The MAX() function returns the largest value of the followers column. By switching verified column between \"True\" and \"False\", we can get verified and unverified users. We grouped by the screen name with a decending order."
   ]
  },
  {
   "cell_type": "code",
   "execution_count": 33,
   "metadata": {},
   "outputs": [
    {
     "name": "stdout",
     "output_type": "stream",
     "text": [
      "+---------------+-------+\n",
      "|    screen_name|  count|\n",
      "+---------------+-------+\n",
      "|            MLB|8296241|\n",
      "|    lopezdoriga|7678758|\n",
      "|El_Universal_Mx|4836985|\n",
      "|   MagicJohnson|4685432|\n",
      "|        Milenio|4165323|\n",
      "|    MarketWatch|3611461|\n",
      "| TheRealStanLee|3340350|\n",
      "|       Newsweek|3324621|\n",
      "|  NateSilver538|3156640|\n",
      "|          Migos|2556415|\n",
      "+---------------+-------+\n",
      "only showing top 10 rows\n",
      "\n"
     ]
    }
   ],
   "source": [
    "sqlc.sql(\"\"\"\n",
    "    SELECT user.screen_name, MAX(user.followers_count) AS count\n",
    "    FROM tweets \n",
    "    WHERE user.verified = 'true'\n",
    "    GROUP BY user.screen_name\n",
    "    ORDER BY count DESC\n",
    "\n",
    "\"\"\").show(10)"
   ]
  },
  {
   "cell_type": "code",
   "execution_count": 34,
   "metadata": {},
   "outputs": [
    {
     "name": "stdout",
     "output_type": "stream",
     "text": [
      "+---------------+-------+\n",
      "|    screen_name|  count|\n",
      "+---------------+-------+\n",
      "|   DRJAMESCABOT|2185433|\n",
      "|       PAMsLOvE| 688117|\n",
      "| mlbtraderumors| 666915|\n",
      "| Miguel_Gurwitz| 568885|\n",
      "|        ruleiro| 520622|\n",
      "| RealKentMurphy| 443846|\n",
      "|thebrittanyxoxo| 325224|\n",
      "|FakeSportsCentr| 318999|\n",
      "|    CelticsLife| 296296|\n",
      "|    milenagimon| 226625|\n",
      "+---------------+-------+\n",
      "only showing top 10 rows\n",
      "\n"
     ]
    }
   ],
   "source": [
    "sqlc.sql(\"\"\"\n",
    "    SELECT user.screen_name, MAX(user.followers_count) AS count\n",
    "    FROM tweets \n",
    "    WHERE user.verified = 'false'\n",
    "    GROUP BY user.screen_name\n",
    "    ORDER BY count DESC\n",
    "\n",
    "\"\"\").show(10)"
   ]
  },
  {
   "cell_type": "markdown",
   "metadata": {},
   "source": [
    "### Q3.4 - What are the most popular sets of hashtags among users with many followers?  Are they the same as among users with few followers?\n",
    "\n",
    "Decide for yourself exactly how many followers you believe to be \"many\", and explain your decision.  You may use queries and statistics to support this decision if you wish.\n",
    "\n",
    "Hint: if your sample tweet above does not include hashtags under the `entities` field, generate a new example by running the `shuf` command again until you find one that does.\n",
    "\n",
    "Hint 2: the hashtag texts will be in an array, so you may need some functions you haven't used before.  If you're using SQL, see the docs for [Hive SQL](https://docs.treasuredata.com/articles/hive-functions) for details, (and consider `CONCAT_WS`, for example).\n",
    "\n",
    "Discuss your findings.\n",
    "\n",
    "**Answer**"
   ]
  },
  {
   "cell_type": "markdown",
   "metadata": {},
   "source": [
    "We decide to use the average of followers_count(4105) as the benchmark.The CONCAT_WS() function adds two or more expressions together with a separator. We count the 10 most popular hashtags by ordering the count of entities hashtags in a decending order."
   ]
  },
  {
   "cell_type": "code",
   "execution_count": 35,
   "metadata": {},
   "outputs": [
    {
     "name": "stdout",
     "output_type": "stream",
     "text": [
      "+-----------+\n",
      "|count(user)|\n",
      "+-----------+\n",
      "|     100000|\n",
      "+-----------+\n",
      "\n"
     ]
    }
   ],
   "source": [
    "sqlc.sql(\"\"\"\n",
    "    SELECT COUNT(user) \n",
    "    FROM tweets\n",
    "\"\"\").show(20)"
   ]
  },
  {
   "cell_type": "code",
   "execution_count": 36,
   "metadata": {},
   "outputs": [
    {
     "name": "stdout",
     "output_type": "stream",
     "text": [
      "+----------------------------------------------+\n",
      "|avg(user.followers_count AS `followers_count`)|\n",
      "+----------------------------------------------+\n",
      "|                                    4104.94204|\n",
      "+----------------------------------------------+\n",
      "\n"
     ]
    }
   ],
   "source": [
    "sqlc.sql(\"\"\"\n",
    "    SELECT AVG(user.followers_count)\n",
    "    FROM tweets \n",
    "    \n",
    "\"\"\").show()"
   ]
  },
  {
   "cell_type": "code",
   "execution_count": 45,
   "metadata": {},
   "outputs": [
    {
     "name": "stdout",
     "output_type": "stream",
     "text": [
      "+----------------------------------------------+---------------------------------------+\n",
      "|concat_ws(,, entities.hashtags.text AS `text`)|count(entities.hashtags.text AS `text`)|\n",
      "+----------------------------------------------+---------------------------------------+\n",
      "|                                              |                                   3185|\n",
      "|                                        RedSox|                                    331|\n",
      "|                                   WorldSeries|                                    232|\n",
      "|                            RedSox,WorldSeries|                                    143|\n",
      "|                                       Dodgers|                                    116|\n",
      "|                                    DAMAGEDONE|                                     56|\n",
      "|                            WorldSeries,RedSox|                                     52|\n",
      "|                                      DoDamage|                                     45|\n",
      "|                                        redsox|                                     41|\n",
      "|                             REDSOX,DAMAGEDONE|                                     38|\n",
      "+----------------------------------------------+---------------------------------------+\n",
      "only showing top 10 rows\n",
      "\n"
     ]
    }
   ],
   "source": [
    "sqlc.sql(\"\"\"\n",
    "    SELECT concat_ws(',', entities.hashtags.text), COUNT(entities.hashtags.text)\n",
    "    FROM tweets\n",
    "    WHERE user.followers_count > 4105\n",
    "    GROUP BY entities.hashtags.text\n",
    "    ORDER BY COUNT(entities.hashtags.text) DESC\n",
    "\"\"\").show(10)"
   ]
  },
  {
   "cell_type": "markdown",
   "metadata": {},
   "source": [
    "### Q3.5 - Analyze common words in tweet text\n",
    "\n",
    "Following the example in class, use `tweets.rdd` to find the most common interesting words in tweet text.  To keep it \"interesting\", add a filter that removes at least 10 common stop words found in tweets, like \"a\", \"an\", \"the\", and \"RT\" (you might want to derive these stop words from initial results).  To split lines into words, a simple split on text whitespace like we had in class is sufficient; you do not have to account for punctuation.\n",
    "\n",
    "After you find the most common words, use dataframe or SQL queries to find patterns among how those words are used.  For example, are they more frequently used by Dodgers or Red Sox fans, or by people in one part of the country over another?  Explore and see what you can find, and discuss your findings.\n",
    "\n",
    "Hint: don't forget all the word count pipeline steps we used earlier in class.\n",
    "\n",
    "**Answer**"
   ]
  },
  {
   "cell_type": "code",
   "execution_count": 38,
   "metadata": {
    "collapsed": true
   },
   "outputs": [],
   "source": [
    "sw = ['a','in','of','to','','about','I','this', 'above','after','again','against','and','all','an','is','any','are','as','at','be','because','but','an','the','THE','did','do','am','before', 'being','RT','below','between','both','by','could','does','down','during','each','few','for','from','further','had','you','your','with','why','whom']"
   ]
  },
  {
   "cell_type": "code",
   "execution_count": 39,
   "metadata": {},
   "outputs": [
    {
     "data": {
      "text/plain": [
       "[('World', 16829),\n",
       " ('Red', 14855),\n",
       " ('@RedSox:', 14766),\n",
       " ('Sox', 13374),\n",
       " ('Series', 12775),\n",
       " ('#WorldSeries', 11012),\n",
       " ('Dodgers', 9898),\n",
       " ('#RedSox', 9667),\n",
       " ('@RedSox', 8174),\n",
       " ('on', 6192)]"
      ]
     },
     "execution_count": 39,
     "metadata": {},
     "output_type": "execute_result"
    }
   ],
   "source": [
    "tweets.rdd.flatMap(lambda r: r['text'].split(' ')) \\\n",
    "       .filter(lambda w: w not in sw)\\\n",
    "       .map(lambda t: (t,1))\\\n",
    "       .reduceByKey(lambda a, b: a+b)\\\n",
    "       .takeOrdered(10, key = lambda pair: -pair[1])"
   ]
  },
  {
   "cell_type": "markdown",
   "metadata": {},
   "source": [
    "We define Dodgers or Red Sox fans as the people who has Dodgers or Redsox in their hashtags.     \n",
    "Then, we can explore how the Dodgers or Red Sox fans mentions the words 'Worlds'. First, we count the tweets with each hashtagds and then count the text with the hashtags and mentioned the word."
   ]
  },
  {
   "cell_type": "code",
   "execution_count": 40,
   "metadata": {},
   "outputs": [
    {
     "name": "stdout",
     "output_type": "stream",
     "text": [
      "+--------+---------------------------------------+\n",
      "|hashtags|count(entities.hashtags.text AS `text`)|\n",
      "+--------+---------------------------------------+\n",
      "|  RedSox|                                   3583|\n",
      "+--------+---------------------------------------+\n",
      "\n"
     ]
    }
   ],
   "source": [
    "sqlc.sql(\"\"\"\n",
    "    SELECT concat_ws(',', entities.hashtags.text) AS hashtags, COUNT(entities.hashtags.text)\n",
    "    FROM tweets\n",
    "    WHERE concat_ws(',', entities.hashtags.text) = 'RedSox'\n",
    "    GROUP BY entities.hashtags.text\n",
    "    ORDER BY COUNT(entities.hashtags.text) DESC\n",
    "\"\"\").show(10)"
   ]
  },
  {
   "cell_type": "code",
   "execution_count": 41,
   "metadata": {},
   "outputs": [
    {
     "name": "stdout",
     "output_type": "stream",
     "text": [
      "+--------+---------------------------------------+\n",
      "|hashtags|count(entities.hashtags.text AS `text`)|\n",
      "+--------+---------------------------------------+\n",
      "|  RedSox|                                    217|\n",
      "+--------+---------------------------------------+\n",
      "\n"
     ]
    }
   ],
   "source": [
    "sqlc.sql(\"\"\"\n",
    "    SELECT concat_ws(',', entities.hashtags.text) AS hashtags, COUNT(entities.hashtags.text)\n",
    "    FROM tweets\n",
    "    WHERE concat_ws(',', entities.hashtags.text) = 'RedSox'\n",
    "    AND text LIKE '%World%'\n",
    "    GROUP BY entities.hashtags.text\n",
    "    ORDER BY COUNT(entities.hashtags.text) DESC\n",
    "\"\"\").show(10)"
   ]
  },
  {
   "cell_type": "markdown",
   "metadata": {},
   "source": [
    "For Red Sox fans, 217 out 2583 (8.55%) tweets with Redsox hashtags mentioned the word 'World'"
   ]
  },
  {
   "cell_type": "code",
   "execution_count": 42,
   "metadata": {},
   "outputs": [
    {
     "name": "stdout",
     "output_type": "stream",
     "text": [
      "+--------+---------------------------------------+\n",
      "|hashtags|count(entities.hashtags.text AS `text`)|\n",
      "+--------+---------------------------------------+\n",
      "| Dodgers|                                   1456|\n",
      "+--------+---------------------------------------+\n",
      "\n"
     ]
    }
   ],
   "source": [
    "sqlc.sql(\"\"\"\n",
    "    SELECT concat_ws(',', entities.hashtags.text) AS hashtags, COUNT(entities.hashtags.text)\n",
    "    FROM tweets\n",
    "    WHERE concat_ws(',', entities.hashtags.text) = 'Dodgers'\n",
    "    GROUP BY entities.hashtags.text\n",
    "    ORDER BY COUNT(entities.hashtags.text) DESC\n",
    "\"\"\").show(10)"
   ]
  },
  {
   "cell_type": "code",
   "execution_count": 43,
   "metadata": {},
   "outputs": [
    {
     "name": "stdout",
     "output_type": "stream",
     "text": [
      "+--------+---------------------------------------+\n",
      "|hashtags|count(entities.hashtags.text AS `text`)|\n",
      "+--------+---------------------------------------+\n",
      "| Dodgers|                                    113|\n",
      "+--------+---------------------------------------+\n",
      "\n"
     ]
    }
   ],
   "source": [
    "sqlc.sql(\"\"\"\n",
    "    SELECT concat_ws(',', entities.hashtags.text) AS hashtags, COUNT(entities.hashtags.text)\n",
    "    FROM tweets\n",
    "    WHERE concat_ws(',', entities.hashtags.text) = 'Dodgers'\n",
    "    AND text LIKE '%World%'\n",
    "    GROUP BY entities.hashtags.text\n",
    "    ORDER BY COUNT(entities.hashtags.text) DESC\n",
    "\"\"\").show(10)"
   ]
  },
  {
   "cell_type": "markdown",
   "metadata": {},
   "source": [
    "For Dodgers fans, 113 out 1456 (7.76%) tweets with Dodgers hashtags mentioned the word 'World'.      \n",
    "The difference is not significant,  Red Sox fans mentioned the word 'Worlds' slightly more than the Dodgers fans."
   ]
  },
  {
   "cell_type": "code",
   "execution_count": 46,
   "metadata": {},
   "outputs": [
    {
     "name": "stdout",
     "output_type": "stream",
     "text": [
      "+------------------+--------------------+\n",
      "|          location|Time_Mention_Dodgers|\n",
      "+------------------+--------------------+\n",
      "|        Boston, MA|                 421|\n",
      "|     United States|                 168|\n",
      "|Massachusetts, USA|                 147|\n",
      "|   Los Angeles, CA|                 141|\n",
      "|            Boston|                 125|\n",
      "|   California, USA|                  75|\n",
      "|       Chicago, IL|                  68|\n",
      "|     Massachusetts|                  63|\n",
      "|        Texas, USA|                  59|\n",
      "|       Los Angeles|                  55|\n",
      "+------------------+--------------------+\n",
      "only showing top 10 rows\n",
      "\n"
     ]
    }
   ],
   "source": [
    "sqlc.sql(\"\"\"\n",
    "    SELECT user.location, COUNT(user.location) AS Time_Mention_Dodgers \n",
    "    FROM tweets\n",
    "    WHERE text LIKE '%WorldSeries%'\n",
    "    GROUP BY user.location\n",
    "    ORDER BY COUNT(user.location) DESC\n",
    "\n",
    "\"\"\").show(10)"
   ]
  },
  {
   "cell_type": "markdown",
   "metadata": {},
   "source": [
    "Then we would love to explore which locations mention the word 'WorldSeries' the most. It is not surprising the first one is Boston, MA becuase Boston, MA as the most Red Sox fans, who mentions WorldSeries a lot."
   ]
  }
 ],
 "metadata": {
  "kernelspec": {
   "display_name": "Python 3",
   "language": "python",
   "name": "python3"
  },
  "language_info": {
   "codemirror_mode": {
    "name": "ipython",
    "version": 3
   },
   "file_extension": ".py",
   "mimetype": "text/x-python",
   "name": "python",
   "nbconvert_exporter": "python",
   "pygments_lexer": "ipython3",
   "version": "3.5.3"
  }
 },
 "nbformat": 4,
 "nbformat_minor": 2
}
