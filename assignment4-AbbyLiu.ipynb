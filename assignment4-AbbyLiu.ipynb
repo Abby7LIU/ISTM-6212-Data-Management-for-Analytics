{
 "cells": [
  {
   "cell_type": "markdown",
   "metadata": {},
   "source": [
    "# Exercise 04 - Due Saturday, November 18 at 12pm\n",
    "\n",
    "*Objectives*: Gain experience loading a CSV dataset into a star schema. Explore the data by writing and executing a number of SQL queries using common syntax and functions and describing your findings.\n",
    "\n",
    "*Grading criteria*: The tasks should all be completed, and questions should all be answered with SQL queries in the space provided, unless a text answer is requested. Results should be correct, according to the embedded tests. The notebook itself should be completely reproducible; from start to finish, another person should be able to use the same code to obtain the same results as yours.  Note that you will receive no more than partial credit if you do not add text/markdown cells explaining your thinking at each major step in each problem.\n",
    "\n",
    "** Add your markdown and code cells only in the designated areas after \"Answers:\". Do not remove or change any existing cells. **\n",
    "\n",
    "*Deadline*: Monday, November 26, 1:00pm.\n",
    "\n",
    "## Setup - obtain data\n",
    "\n",
    "The US City Open Data Census has data on [Campaign Finance Contributions](http://us-city.census.okfn.org/dataset/campaign-finance).  Let's take a look at data from [Washington DC](http://opendata.dc.gov/datasets/campaign-financial-contributions).\n",
    "\n",
    "First we download the dataset:"
   ]
  },
  {
   "cell_type": "code",
   "execution_count": 1,
   "metadata": {
    "collapsed": true
   },
   "outputs": [
    {
     "name": "stdout",
     "output_type": "stream",
     "text": [
      "--2018-11-26 00:59:52--  https://opendata.arcgis.com/datasets/6443e0b5b2454e86a3208b8a38fdee84_34.csv\n",
      "Resolving opendata.arcgis.com (opendata.arcgis.com)... 35.171.60.143, 34.195.79.20\n",
      "Connecting to opendata.arcgis.com (opendata.arcgis.com)|35.171.60.143|:443... connected.\n",
      "HTTP request sent, awaiting response... 200 OK\n",
      "Length: unspecified [text/csv]\n",
      "Saving to: ‘dc_contributions.csv’\n",
      "\n",
      "dc_contributions.cs     [     <=>            ]  60.76M  75.6MB/s    in 0.8s    \n",
      "\n",
      "2018-11-26 00:59:53 (75.6 MB/s) - ‘dc_contributions.csv’ saved [63717222]\n",
      "\n"
     ]
    }
   ],
   "source": [
    "!wget -O dc_contributions.csv https://opendata.arcgis.com/datasets/6443e0b5b2454e86a3208b8a38fdee84_34.csv"
   ]
  },
  {
   "cell_type": "markdown",
   "metadata": {},
   "source": [
    "## Part 1 - examine the data (30 points)\n",
    "\n",
    "**Question 1** :\n",
    "Use `csvstat` and other tools as you see fit and observe its contents. Describe what you see:  How many records does  this dataset have? What do all the columns mean?  Are there null values?  Which columns interest you the most? Which columns present facts and which columns present dimensions?\n",
    "\n",
    "Insert a combination of code and text/markdown cells here to review the data and describe what you find.\n",
    "\n",
    "Hint: to get help on command line tools, try the `--help` option. For example: `csvstat --help`.\n",
    "\n",
    "Hint: due to the size of the dataset, if you use `csvstat`, you can apply it on sample or the first 10000 lines.\n",
    "\n",
    "**Answer:**"
   ]
  },
  {
   "cell_type": "markdown",
   "metadata": {},
   "source": [
    "First, check how many rows in the file and display the columns"
   ]
  },
  {
   "cell_type": "code",
   "execution_count": 2,
   "metadata": {},
   "outputs": [
    {
     "name": "stdout",
     "output_type": "stream",
     "text": [
      "240976 dc_contributions.csv\n"
     ]
    }
   ],
   "source": [
    "!wc -l dc_contributions.csv"
   ]
  },
  {
   "cell_type": "markdown",
   "metadata": {},
   "source": [
    "__How many records does this dataset have? What do all the columns mean?__        \n",
    "According to 'word count', there are 24097(header included) records and 20 columns in this csv file.       \n",
    "1. OBJECTID: The Serial number of the records\n",
    "2. COMMITTEENAME: The name of the COMMITTEEs\n",
    "3. CANDIDATENAME: The name of the candidate\n",
    "4. ELECTIONYEAR: The year of the election\n",
    "5. CONTRIBUTORNAME: The name of the contributor\n",
    "6. ADDRESS: The address of the contributor.\n",
    "7. CONTRIBUTORTYPE: The type of the contributor.(PPC, Corporations)\n",
    "8. CONTRIBUTIONTYPE\n",
    "9. EMPLOYER\n",
    "10.  EMPLOYERADDRESS\n",
    "11. The amount of dollars of the contribution.\n",
    "12. DATEOFRECEIPT\n",
    "13. ADDRESS_ID\n",
    "14. XCOORD: the x-coordinate of a given point\n",
    "15. YCOORD: the y-coordinate of a given point\n",
    "16. LATITUDE\n",
    "17. LONGITUDE\n",
    "18. FULLADDRESS\n",
    "19. GIS_LAST_MOD_DTTM\n",
    "20. WARD\n",
    "\n",
    "\n",
    "__Which columns interest you the most?__      \n",
    "The column that interest me the most is the 'amount' column, as it is the only fact column and the analysis objective in this table.\n",
    "\n",
    "__Which columns present facts and which columns present dimensions?__       \n",
    "Amount is the only column that present facts, all other columns present dimensions.\n",
    " "
   ]
  },
  {
   "cell_type": "code",
   "execution_count": 3,
   "metadata": {},
   "outputs": [
    {
     "name": "stdout",
     "output_type": "stream",
     "text": [
      "  1: ﻿OBJECTID\n",
      "  2: COMMITTEENAME\n",
      "  3: CANDIDATENAME\n",
      "  4: ELECTIONYEAR\n",
      "  5: CONTRIBUTORNAME\n",
      "  6: ADDRESS\n",
      "  7: CONTRIBUTORTYPE\n",
      "  8: CONTRIBUTIONTYPE\n",
      "  9: EMPLOYER\n",
      " 10: EMPLOYERADDRESS\n",
      " 11: AMOUNT\n",
      " 12: DATEOFRECEIPT\n",
      " 13: ADDRESS_ID\n",
      " 14: XCOORD\n",
      " 15: YCOORD\n",
      " 16: LATITUDE\n",
      " 17: LONGITUDE\n",
      " 18: FULLADDRESS\n",
      " 19: GIS_LAST_MOD_DTTM\n",
      " 20: WARD\n"
     ]
    }
   ],
   "source": [
    "!csvcut -n  dc_contributions.csv"
   ]
  },
  {
   "cell_type": "markdown",
   "metadata": {},
   "source": [
    "__Are there null values?__       \n",
    "Yes, and only the columns \"OBJECTID\",'date_of_receipt' and 'gis_last_mod' have NO null value."
   ]
  },
  {
   "cell_type": "code",
   "execution_count": 4,
   "metadata": {
    "scrolled": false
   },
   "outputs": [
    {
     "name": "stdout",
     "output_type": "stream",
     "text": [
      "  1. \"﻿OBJECTID\"\n",
      "\n",
      "\tType of data:          Number\n",
      "\tContains null values:  False\n",
      "\tUnique values:         9999\n",
      "\tSmallest value:        1\n",
      "\tLargest value:         12,999\n",
      "\tSum:                   67,992,000\n",
      "\tMean:                  6,799.88\n",
      "\tMedian:                7,000\n",
      "\tStDev:                 3,505.987\n",
      "\tMost common values:    1 (1x)\n",
      "\t                       2 (1x)\n",
      "\t                       3 (1x)\n",
      "\t                       4 (1x)\n",
      "\t                       5 (1x)\n",
      "\n",
      "  2. \"COMMITTEENAME\"\n",
      "\n",
      "\tType of data:          Text\n",
      "\tContains null values:  False\n",
      "\tUnique values:         384\n",
      "\tLongest value:         85 characters\n",
      "\tMost common values:    Fenty 2010 (1167x)\n",
      "\t                       Re-Elect Jim Graham  (2006) (430x)\n",
      "\t                       Muriel Bowser for Mayor (396x)\n",
      "\t                       Washington DC Association of Realtors PAC (314x)\n",
      "\t                       Vince Gray 2016 (283x)\n",
      "\n",
      "  3. \"CANDIDATENAME\"\n",
      "\n",
      "\tType of data:          Text\n",
      "\tContains null values:  True (excluded from calculations)\n",
      "\tUnique values:         209\n",
      "\tLongest value:         26 characters\n",
      "\tMost common values:    Adrian Fenty (1247x)\n",
      "\t                       None (861x)\n",
      "\t                       Muriel Bowser (769x)\n",
      "\t                       Jim Graham (436x)\n",
      "\t                       Vincent Gray (359x)\n",
      "\n",
      "  4. \"ELECTIONYEAR\"\n",
      "\n",
      "\tType of data:          Number\n",
      "\tContains null values:  False\n",
      "\tUnique values:         13\n",
      "\tSmallest value:        2,002\n",
      "\tLargest value:         2,018\n",
      "\tSum:                   20,100,691\n",
      "\tMean:                  2,010.27\n",
      "\tMedian:                2,010\n",
      "\tStDev:                 4.727\n",
      "\tMost common values:    2,014 (1615x)\n",
      "\t                       2,010 (1400x)\n",
      "\t                       2,006 (1285x)\n",
      "\t                       2,002 (989x)\n",
      "\t                       2,012 (982x)\n",
      "\n",
      "  5. \"CONTRIBUTORNAME\"\n",
      "\n",
      "\tType of data:          Text\n",
      "\tContains null values:  True (excluded from calculations)\n",
      "\tUnique values:         8189\n",
      "\tLongest value:         76 characters\n",
      "\tMost common values:    Atlantic Northstar, LLC (61x)\n",
      "\t                       Renee Bowser (24x)\n",
      "\t                       ROC Action (22x)\n",
      "\t                       Harlow Case (21x)\n",
      "\t                       Melissa Rhea (19x)\n",
      "\n",
      "  6. \"ADDRESS\"\n",
      "\n",
      "\tType of data:          Text\n",
      "\tContains null values:  True (excluded from calculations)\n",
      "\tUnique values:         8164\n",
      "\tLongest value:         66 characters\n",
      "\tMost common values:    P.O. Box 277, Frederiksted, VI 00841 (60x)\n",
      "\t                       888 17th St NW Fl 4, Washington, DC 20006 (45x)\n",
      "\t                       1300 I St NW, Washington, DC 20005-3314 (38x)\n",
      "\t                       Requested, Washington, DC 20002 (35x)\n",
      "\t                       1300 I St NW, Washington, DC 200053314 (31x)\n",
      "\n",
      "  7. \"CONTRIBUTORTYPE\"\n",
      "\n",
      "\tType of data:          Text\n",
      "\tContains null values:  True (excluded from calculations)\n",
      "\tUnique values:         16\n",
      "\tLongest value:         36 characters\n",
      "\tMost common values:    Individual (7963x)\n",
      "\t                       Corporation (1759x)\n",
      "\t                       Candidate (101x)\n",
      "\t                       Limited Liability Company (45x)\n",
      "\t                       Organization (44x)\n",
      "\n",
      "  8. \"CONTRIBUTIONTYPE\"\n",
      "\n",
      "\tType of data:          Text\n",
      "\tContains null values:  True (excluded from calculations)\n",
      "\tUnique values:         8\n",
      "\tLongest value:         13 characters\n",
      "\tMost common values:    Check (5639x)\n",
      "\t                       Credit Card (2701x)\n",
      "\t                       Other (989x)\n",
      "\t                       Cash (269x)\n",
      "\t                       InKind (189x)\n",
      "\n",
      "  9. \"EMPLOYER\"\n",
      "\n",
      "\tType of data:          Text\n",
      "\tContains null values:  True (excluded from calculations)\n",
      "\tUnique values:         2726\n",
      "\tLongest value:         64 characters\n",
      "\tMost common values:    None (4511x)\n",
      "\t                       Retired (238x)\n",
      "\t                       requested (227x)\n",
      "\t                       Self (220x)\n",
      "\t                       Verizon Corp Rsrcs Group LLC (108x)\n",
      "\n",
      " 10. \"EMPLOYERADDRESS\"\n",
      "\n",
      "\tType of data:          Text\n",
      "\tContains null values:  True (excluded from calculations)\n",
      "\tUnique values:         1192\n",
      "\tLongest value:         64 characters\n",
      "\tMost common values:    None (5762x)\n",
      "\t                       Washington, DC (2200x)\n",
      "\t                       Undisclosed, DC (48x)\n",
      "\t                       888 17th St NW Fl 4, Washington, DC 20006 (45x)\n",
      "\t                       Washington, DC 20007 (44x)\n",
      "\n",
      " 11. \"AMOUNT\"\n",
      "\n",
      "\tType of data:          Number\n",
      "\tContains null values:  True (excluded from calculations)\n",
      "\tUnique values:         437\n",
      "\tSmallest value:        -1,250\n",
      "\tLargest value:         122,751.27\n",
      "\tSum:                   4,445,601.72\n",
      "\tMean:                  444.872\n",
      "\tMedian:                100\n",
      "\tStDev:                 2,145.663\n",
      "\tMost common values:    100 (1722x)\n",
      "\t                       500 (1644x)\n",
      "\t                       50 (1265x)\n",
      "\t                       250 (843x)\n",
      "\t                       25 (756x)\n",
      "\n",
      " 12. \"DATEOFRECEIPT\"\n",
      "\n",
      "\tType of data:          DateTime\n",
      "\tContains null values:  False\n",
      "\tUnique values:         2085\n",
      "\tSmallest value:        2003-03-11 00:00:00+00:00\n",
      "\tLargest value:         2018-10-27 00:00:00+00:00\n",
      "\tMost common values:    2014-03-10 00:00:00+00:00 (232x)\n",
      "\t                       2010-01-31 00:00:00+00:00 (115x)\n",
      "\t                       2009-01-22 00:00:00+00:00 (111x)\n",
      "\t                       2009-12-05 00:00:00+00:00 (99x)\n",
      "\t                       2011-12-10 00:00:00+00:00 (96x)\n",
      "\n",
      " 13. \"ADDRESS_ID\"\n",
      "\n",
      "\tType of data:          Number\n",
      "\tContains null values:  True (excluded from calculations)\n",
      "\tUnique values:         3575\n",
      "\tSmallest value:        94\n",
      "\tLargest value:         315,788\n",
      "\tSum:                   1,315,419,390\n",
      "\tMean:                  209,728.857\n",
      "\tMedian:                241,786\n",
      "\tStDev:                 89,548.961\n",
      "\tMost common values:    None (3727x)\n",
      "\t                       218,778 (80x)\n",
      "\t                       240,649 (74x)\n",
      "\t                       265,946 (35x)\n",
      "\t                       243,303 (35x)\n",
      "\n",
      " 14. \"XCOORD\"\n",
      "\n",
      "\tType of data:          Number\n",
      "\tContains null values:  True (excluded from calculations)\n",
      "\tUnique values:         3564\n",
      "\tSmallest value:        390,132.6\n",
      "\tLargest value:         407,583.72\n",
      "\tSum:                   2,493,292,647.57\n",
      "\tMean:                  397,527.527\n",
      "\tMedian:                397,327.885\n",
      "\tStDev:                 2,906.312\n",
      "\tMost common values:    None (3727x)\n",
      "\t                       396,550.2 (80x)\n",
      "\t                       397,367.56 (74x)\n",
      "\t                       392,690.51 (35x)\n",
      "\t                       396,475.11 (35x)\n",
      "\n",
      " 15. \"YCOORD\"\n",
      "\n",
      "\tType of data:          Number\n",
      "\tContains null values:  True (excluded from calculations)\n",
      "\tUnique values:         3569\n",
      "\tSmallest value:        128,125.66\n",
      "\tLargest value:         147,409.98\n",
      "\tSum:                   873,087,780.74\n",
      "\tMean:                  139,204.047\n",
      "\tMedian:                138,737.435\n",
      "\tStDev:                 3,718.341\n",
      "\tMost common values:    None (3727x)\n",
      "\t                       137,027.13 (80x)\n",
      "\t                       137,015.98 (74x)\n",
      "\t                       143,495.42 (35x)\n",
      "\t                       137,358.15 (35x)\n",
      "\n",
      " 16. \"LATITUDE\"\n",
      "\n",
      "\tType of data:          Number\n",
      "\tContains null values:  True (excluded from calculations)\n",
      "\tUnique values:         3575\n",
      "\tSmallest value:        38.821\n",
      "\tLargest value:         38.995\n",
      "\tSum:                   244,110.627\n",
      "\tMean:                  38.921\n",
      "\tMedian:                38.916\n",
      "\tStDev:                 0.033\n",
      "\tMost common values:    None (3727x)\n",
      "\t                       38.901 (80x)\n",
      "\t                       38.901 (74x)\n",
      "\t                       38.959 (35x)\n",
      "\t                       38.904 (35x)\n",
      "\n",
      " 17. \"LONGITUDE\"\n",
      "\n",
      "\tType of data:          Number\n",
      "\tContains null values:  True (excluded from calculations)\n",
      "\tUnique values:         3575\n",
      "\tSmallest value:        -77.114\n",
      "\tLargest value:         -76.913\n",
      "\tSum:                   -483,122.869\n",
      "\tMean:                  -77.029\n",
      "\tMedian:                -77.031\n",
      "\tStDev:                 0.034\n",
      "\tMost common values:    None (3727x)\n",
      "\t                       -77.04 (80x)\n",
      "\t                       -77.03 (74x)\n",
      "\t                       -77.084 (35x)\n",
      "\t                       -77.041 (35x)\n",
      "\n",
      " 18. \"FULLADDRESS\"\n",
      "\n",
      "\tType of data:          Text\n",
      "\tContains null values:  True (excluded from calculations)\n",
      "\tUnique values:         3579\n",
      "\tLongest value:         54 characters\n",
      "\tMost common values:    None (3727x)\n",
      "\t                       888 17TH STREET NW (80x)\n",
      "\t                       1300 I STREET NW (74x)\n",
      "\t                       5301 WISCONSIN AVENUE NW (35x)\n",
      "\t                       1100 CONNECTICUT AVENUE NW (35x)\n",
      "\n",
      " 19. \"GIS_LAST_MOD_DTTM\"\n",
      "\n",
      "\tType of data:          DateTime\n",
      "\tContains null values:  False\n",
      "\tUnique values:         1\n",
      "\tSmallest value:        2018-11-19 06:21:13+00:00\n",
      "\tLargest value:         2018-11-19 06:21:13+00:00\n",
      "\tMost common values:    2018-11-19 06:21:13+00:00 (9999x)\n",
      "\n",
      " 20. \"WARD\"\n",
      "\n",
      "\tType of data:          Text\n",
      "\tContains null values:  True (excluded from calculations)\n",
      "\tUnique values:         9\n",
      "\tLongest value:         6 characters\n",
      "\tMost common values:    None (3727x)\n",
      "\t                       Ward 2 (1493x)\n",
      "\t                       Ward 4 (1284x)\n",
      "\t                       Ward 6 (959x)\n",
      "\t                       Ward 3 (932x)\n",
      "\n",
      "Row count: 9999\n"
     ]
    }
   ],
   "source": [
    "!head -n 10000 dc_contributions.csv | csvstat"
   ]
  },
  {
   "cell_type": "markdown",
   "metadata": {},
   "source": [
    "## Part 2 - create a database and load the data (40 points)\n",
    "Create and connect to a new database, create database tables in it based on the following provided star schema, and load this dataset into it. \n",
    "\n",
    "* `campaign` (`campaign_key`, `committee_name`, `candidate_name`, `election_year`)\n",
    "* `contributor` (`contributor_key`, `name`, `type`, `employer`)\n",
    "* `contribution_facts` (`campaign_key`, `contributor_key`, `amount`)"
   ]
  },
  {
   "cell_type": "code",
   "execution_count": 5,
   "metadata": {
    "collapsed": true
   },
   "outputs": [],
   "source": [
    "%load_ext sql"
   ]
  },
  {
   "cell_type": "code",
   "execution_count": 6,
   "metadata": {
    "collapsed": true
   },
   "outputs": [],
   "source": [
    "!dropdb --if-exists -U student assignment4"
   ]
  },
  {
   "cell_type": "code",
   "execution_count": 7,
   "metadata": {
    "collapsed": true
   },
   "outputs": [],
   "source": [
    "!createdb -U student assignment4"
   ]
  },
  {
   "cell_type": "code",
   "execution_count": 8,
   "metadata": {
    "collapsed": true
   },
   "outputs": [
    {
     "data": {
      "text/plain": [
       "'Connected: student@assignment4'"
      ]
     },
     "execution_count": 8,
     "metadata": {},
     "output_type": "execute_result"
    }
   ],
   "source": [
    "%sql postgresql://student@/assignment4"
   ]
  },
  {
   "cell_type": "markdown",
   "metadata": {},
   "source": [
    "First, let's create the table `contribution_facts`:"
   ]
  },
  {
   "cell_type": "code",
   "execution_count": 9,
   "metadata": {},
   "outputs": [
    {
     "name": "stdout",
     "output_type": "stream",
     "text": [
      " * postgresql://student@/assignment4\n",
      "Done.\n",
      "Done.\n"
     ]
    },
    {
     "data": {
      "text/plain": [
       "[]"
      ]
     },
     "execution_count": 9,
     "metadata": {},
     "output_type": "execute_result"
    }
   ],
   "source": [
    "%%sql\n",
    "DROP TABLE IF EXISTS contribution_facts;\n",
    "\n",
    "CREATE TABLE contribution_facts (\n",
    "    id INTEGER,\n",
    "    committee_name VARCHAR(500) NOT NULL,\n",
    "    candidate_name VARCHAR(50),\n",
    "    election_year INTEGER ,\n",
    "    contributor_name VARCHAR(500),\n",
    "    contributor_address VARCHAR(500),\n",
    "    contributor_type VARCHAR(100),\n",
    "    contribution_type VARCHAR(100),\n",
    "    employer VARCHAR(500),\n",
    "    employer_address VARCHAR(500),\n",
    "    amount NUMERIC(20, 2),\n",
    "    date_of_receipt DATE NOT NULL,\n",
    "    address_id INTEGER,\n",
    "    address_x NUMERIC(20, 2),\n",
    "    address_y NUMERIC(20, 2),\n",
    "    address_latitude NUMERIC,\n",
    "    address_longitude NUMERIC,\n",
    "    address_full VARCHAR(500),\n",
    "    gis_last_mod TIMESTAMPTZ NOT NULL,\n",
    "    ward VARCHAR(50) \n",
    ")"
   ]
  },
  {
   "cell_type": "markdown",
   "metadata": {},
   "source": [
    "** Question 2 (10 points)** :\n",
    "Load the dataset into the table `contribution_facts` and verify the loaded records.\n",
    "\n",
    "Hint: If you get some errors, please examine the error messages carefully and fix the problems, including any problems in the above CREATE TABLE statement.\n",
    "\n",
    "** Answer: **"
   ]
  },
  {
   "cell_type": "markdown",
   "metadata": {},
   "source": [
    "__Updates to the above create table cell__\n",
    "1. Add a new column 'ward'.    \n",
    "2. Remove 'NOT NULL' for election_year     "
   ]
  },
  {
   "cell_type": "code",
   "execution_count": 10,
   "metadata": {},
   "outputs": [],
   "source": [
    "!cp dc_contributions.csv /tmp/dc_contributions.csv"
   ]
  },
  {
   "cell_type": "markdown",
   "metadata": {},
   "source": [
    "     \n",
    "__Difference of number of rows calculated by two methods__     \n",
    "It is worth to mention that the number of rows calculated by SQL is different from that calculated by 'WORD COUNT'(240975). By going through the original csv file, I found that the number calculated by SQL(240969) Other than the difference of header, there a still a gap of 6 rows. The probable reason is that WORD COUNT calculating rows by calculating code for end-of-line(\\n). Maybe some rows include '\\n' but it is not necessarily indicating the end of a row. "
   ]
  },
  {
   "cell_type": "code",
   "execution_count": 11,
   "metadata": {},
   "outputs": [
    {
     "name": "stdout",
     "output_type": "stream",
     "text": [
      " * postgresql://student@/assignment4\n",
      "240969 rows affected.\n"
     ]
    },
    {
     "data": {
      "text/plain": [
       "[]"
      ]
     },
     "execution_count": 11,
     "metadata": {},
     "output_type": "execute_result"
    }
   ],
   "source": [
    "%%sql\n",
    "COPY contribution_facts FROM '/tmp/dc_contributions.csv'\n",
    "CSV\n",
    "HEADER;"
   ]
  },
  {
   "cell_type": "markdown",
   "metadata": {},
   "source": [
    "Here I count the number of rows and also the distinct rows"
   ]
  },
  {
   "cell_type": "code",
   "execution_count": 12,
   "metadata": {},
   "outputs": [
    {
     "name": "stdout",
     "output_type": "stream",
     "text": [
      " * postgresql://student@/assignment4\n",
      "1 rows affected.\n"
     ]
    },
    {
     "data": {
      "text/html": [
       "<table>\n",
       "    <tr>\n",
       "        <th>count</th>\n",
       "    </tr>\n",
       "    <tr>\n",
       "        <td>240969</td>\n",
       "    </tr>\n",
       "</table>"
      ],
      "text/plain": [
       "[(240969,)]"
      ]
     },
     "execution_count": 12,
     "metadata": {},
     "output_type": "execute_result"
    }
   ],
   "source": [
    "%%sql\n",
    "SELECT count(*)\n",
    "FROM contribution_facts"
   ]
  },
  {
   "cell_type": "code",
   "execution_count": 13,
   "metadata": {},
   "outputs": [
    {
     "name": "stdout",
     "output_type": "stream",
     "text": [
      " * postgresql://student@/assignment4\n",
      "1 rows affected.\n"
     ]
    },
    {
     "data": {
      "text/html": [
       "<table>\n",
       "    <tr>\n",
       "        <th>count</th>\n",
       "    </tr>\n",
       "    <tr>\n",
       "        <td>240969</td>\n",
       "    </tr>\n",
       "</table>"
      ],
      "text/plain": [
       "[(240969,)]"
      ]
     },
     "execution_count": 13,
     "metadata": {},
     "output_type": "execute_result"
    }
   ],
   "source": [
    "%%sql\n",
    "SELECT count(*) \n",
    "FROM (select distinct * from contribution_facts) as COUNT_DIS"
   ]
  },
  {
   "cell_type": "markdown",
   "metadata": {},
   "source": [
    "** End of answer to Question 2 **"
   ]
  },
  {
   "cell_type": "markdown",
   "metadata": {},
   "source": [
    "Next, we are going to create the dimension table `contributor`. "
   ]
  },
  {
   "cell_type": "markdown",
   "metadata": {},
   "source": [
    "First let's work on the SELECT statement that extracts contributor-related dimension details like `contributor_name`, `contributor_type` and `employer`."
   ]
  },
  {
   "cell_type": "code",
   "execution_count": 14,
   "metadata": {},
   "outputs": [
    {
     "name": "stdout",
     "output_type": "stream",
     "text": [
      " * postgresql://student@/assignment4\n",
      "10 rows affected.\n"
     ]
    },
    {
     "data": {
      "text/html": [
       "<table>\n",
       "    <tr>\n",
       "        <th>contributor_name</th>\n",
       "        <th>contributor_type</th>\n",
       "        <th>employer</th>\n",
       "    </tr>\n",
       "    <tr>\n",
       "        <td>None</td>\n",
       "        <td>None</td>\n",
       "        <td>None</td>\n",
       "    </tr>\n",
       "    <tr>\n",
       "        <td>Victor Ayala </td>\n",
       "        <td>Individual</td>\n",
       "        <td>DC Taxicab Commission</td>\n",
       "    </tr>\n",
       "    <tr>\n",
       "        <td>Harry Harrison</td>\n",
       "        <td>Individual</td>\n",
       "        <td>Aronson LLC</td>\n",
       "    </tr>\n",
       "    <tr>\n",
       "        <td>DC Development  &amp; Consulting LLC</td>\n",
       "        <td>Corporation</td>\n",
       "        <td>None</td>\n",
       "    </tr>\n",
       "    <tr>\n",
       "        <td>Virginia Contractors Supply Inc</td>\n",
       "        <td>Corporation</td>\n",
       "        <td>None</td>\n",
       "    </tr>\n",
       "    <tr>\n",
       "        <td>Euclid Mortgage Aservices</td>\n",
       "        <td>Corporation</td>\n",
       "        <td>None</td>\n",
       "    </tr>\n",
       "    <tr>\n",
       "        <td>Kool Smiles </td>\n",
       "        <td>Corporation</td>\n",
       "        <td>None</td>\n",
       "    </tr>\n",
       "    <tr>\n",
       "        <td>Summer Smith</td>\n",
       "        <td>Individual</td>\n",
       "        <td>Not reported</td>\n",
       "    </tr>\n",
       "    <tr>\n",
       "        <td>Shelly Waite</td>\n",
       "        <td>Individual</td>\n",
       "        <td>Waite Secured Line Technology Solutions LLC</td>\n",
       "    </tr>\n",
       "    <tr>\n",
       "        <td>Clark Ray</td>\n",
       "        <td>Individual</td>\n",
       "        <td>DC Governmnet</td>\n",
       "    </tr>\n",
       "</table>"
      ],
      "text/plain": [
       "[(None, None, None),\n",
       " ('Victor Ayala ', 'Individual', 'DC Taxicab Commission'),\n",
       " ('Harry Harrison', 'Individual', 'Aronson LLC'),\n",
       " ('DC Development  & Consulting LLC', 'Corporation', None),\n",
       " ('Virginia Contractors Supply Inc', 'Corporation', None),\n",
       " ('Euclid Mortgage Aservices', 'Corporation', None),\n",
       " ('Kool Smiles ', 'Corporation', None),\n",
       " ('Summer Smith', 'Individual', 'Not reported'),\n",
       " ('Shelly Waite', 'Individual', 'Waite Secured Line Technology Solutions LLC'),\n",
       " ('Clark Ray', 'Individual', 'DC Governmnet')]"
      ]
     },
     "execution_count": 14,
     "metadata": {},
     "output_type": "execute_result"
    }
   ],
   "source": [
    "%%sql\n",
    "SELECT DISTINCT contributor_name, contributor_type, employer\n",
    "FROM contribution_facts\n",
    "LIMIT 10;"
   ]
  },
  {
   "cell_type": "markdown",
   "metadata": {},
   "source": [
    "Please note NULLs in the query result. Now we can create the dimension table `contributor` to house the dimensions `contributor_name`, `contributor_type` and `employer`."
   ]
  },
  {
   "cell_type": "code",
   "execution_count": 15,
   "metadata": {},
   "outputs": [
    {
     "name": "stdout",
     "output_type": "stream",
     "text": [
      " * postgresql://student@/assignment4\n",
      "Done.\n",
      "Done.\n"
     ]
    },
    {
     "data": {
      "text/plain": [
       "[]"
      ]
     },
     "execution_count": 15,
     "metadata": {},
     "output_type": "execute_result"
    }
   ],
   "source": [
    "%%sql\n",
    "DROP TABLE IF EXISTS contributor;\n",
    "\n",
    "CREATE TABLE contributor (\n",
    "    contributor_key SERIAL PRIMARY KEY,\n",
    "    name VARCHAR(500),\n",
    "    type VARCHAR(100),\n",
    "    employer VARCHAR(500)\n",
    ");"
   ]
  },
  {
   "cell_type": "markdown",
   "metadata": {},
   "source": [
    "Populate the dimension table with unique values of these three dimensions from the dataset."
   ]
  },
  {
   "cell_type": "code",
   "execution_count": 16,
   "metadata": {},
   "outputs": [
    {
     "name": "stdout",
     "output_type": "stream",
     "text": [
      " * postgresql://student@/assignment4\n",
      "160508 rows affected.\n"
     ]
    },
    {
     "data": {
      "text/plain": [
       "[]"
      ]
     },
     "execution_count": 16,
     "metadata": {},
     "output_type": "execute_result"
    }
   ],
   "source": [
    "%%sql\n",
    "INSERT INTO contributor (name, type, employer)\n",
    "SELECT DISTINCT contributor_name, contributor_type, employer\n",
    "FROM contribution_facts;"
   ]
  },
  {
   "cell_type": "code",
   "execution_count": 17,
   "metadata": {},
   "outputs": [
    {
     "name": "stdout",
     "output_type": "stream",
     "text": [
      " * postgresql://student@/assignment4\n",
      "10 rows affected.\n"
     ]
    },
    {
     "data": {
      "text/html": [
       "<table>\n",
       "    <tr>\n",
       "        <th>contributor_key</th>\n",
       "        <th>name</th>\n",
       "        <th>type</th>\n",
       "        <th>employer</th>\n",
       "    </tr>\n",
       "    <tr>\n",
       "        <td>1</td>\n",
       "        <td>None</td>\n",
       "        <td>None</td>\n",
       "        <td>None</td>\n",
       "    </tr>\n",
       "    <tr>\n",
       "        <td>2</td>\n",
       "        <td>Victor Ayala </td>\n",
       "        <td>Individual</td>\n",
       "        <td>DC Taxicab Commission</td>\n",
       "    </tr>\n",
       "    <tr>\n",
       "        <td>3</td>\n",
       "        <td>Harry Harrison</td>\n",
       "        <td>Individual</td>\n",
       "        <td>Aronson LLC</td>\n",
       "    </tr>\n",
       "    <tr>\n",
       "        <td>4</td>\n",
       "        <td>DC Development  &amp; Consulting LLC</td>\n",
       "        <td>Corporation</td>\n",
       "        <td>None</td>\n",
       "    </tr>\n",
       "    <tr>\n",
       "        <td>5</td>\n",
       "        <td>Virginia Contractors Supply Inc</td>\n",
       "        <td>Corporation</td>\n",
       "        <td>None</td>\n",
       "    </tr>\n",
       "    <tr>\n",
       "        <td>6</td>\n",
       "        <td>Euclid Mortgage Aservices</td>\n",
       "        <td>Corporation</td>\n",
       "        <td>None</td>\n",
       "    </tr>\n",
       "    <tr>\n",
       "        <td>7</td>\n",
       "        <td>Kool Smiles </td>\n",
       "        <td>Corporation</td>\n",
       "        <td>None</td>\n",
       "    </tr>\n",
       "    <tr>\n",
       "        <td>8</td>\n",
       "        <td>Summer Smith</td>\n",
       "        <td>Individual</td>\n",
       "        <td>Not reported</td>\n",
       "    </tr>\n",
       "    <tr>\n",
       "        <td>9</td>\n",
       "        <td>Shelly Waite</td>\n",
       "        <td>Individual</td>\n",
       "        <td>Waite Secured Line Technology Solutions LLC</td>\n",
       "    </tr>\n",
       "    <tr>\n",
       "        <td>10</td>\n",
       "        <td>Clark Ray</td>\n",
       "        <td>Individual</td>\n",
       "        <td>DC Governmnet</td>\n",
       "    </tr>\n",
       "</table>"
      ],
      "text/plain": [
       "[(1, None, None, None),\n",
       " (2, 'Victor Ayala ', 'Individual', 'DC Taxicab Commission'),\n",
       " (3, 'Harry Harrison', 'Individual', 'Aronson LLC'),\n",
       " (4, 'DC Development  & Consulting LLC', 'Corporation', None),\n",
       " (5, 'Virginia Contractors Supply Inc', 'Corporation', None),\n",
       " (6, 'Euclid Mortgage Aservices', 'Corporation', None),\n",
       " (7, 'Kool Smiles ', 'Corporation', None),\n",
       " (8, 'Summer Smith', 'Individual', 'Not reported'),\n",
       " (9, 'Shelly Waite', 'Individual', 'Waite Secured Line Technology Solutions LLC'),\n",
       " (10, 'Clark Ray', 'Individual', 'DC Governmnet')]"
      ]
     },
     "execution_count": 17,
     "metadata": {},
     "output_type": "execute_result"
    }
   ],
   "source": [
    "%%sql\n",
    "SELECT * FROM contributor\n",
    "LIMIT 10;"
   ]
  },
  {
   "cell_type": "markdown",
   "metadata": {},
   "source": [
    "Next, we add a foreign key column to the fact table that references `contributor` dimension table."
   ]
  },
  {
   "cell_type": "code",
   "execution_count": 18,
   "metadata": {},
   "outputs": [
    {
     "name": "stdout",
     "output_type": "stream",
     "text": [
      " * postgresql://student@/assignment4\n",
      "Done.\n"
     ]
    },
    {
     "data": {
      "text/plain": [
       "[]"
      ]
     },
     "execution_count": 18,
     "metadata": {},
     "output_type": "execute_result"
    }
   ],
   "source": [
    "%%sql\n",
    "ALTER TABLE contribution_facts\n",
    "ADD COLUMN contributor_key INTEGER,\n",
    "ADD CONSTRAINT fk_contributor_key\n",
    "    FOREIGN KEY (contributor_key)\n",
    "    REFERENCES contributor (contributor_key);"
   ]
  },
  {
   "cell_type": "code",
   "execution_count": 19,
   "metadata": {},
   "outputs": [
    {
     "name": "stdout",
     "output_type": "stream",
     "text": [
      " * postgresql://student@/assignment4\n",
      "10 rows affected.\n"
     ]
    },
    {
     "data": {
      "text/html": [
       "<table>\n",
       "    <tr>\n",
       "        <th>contributor_key</th>\n",
       "    </tr>\n",
       "    <tr>\n",
       "        <td>None</td>\n",
       "    </tr>\n",
       "    <tr>\n",
       "        <td>None</td>\n",
       "    </tr>\n",
       "    <tr>\n",
       "        <td>None</td>\n",
       "    </tr>\n",
       "    <tr>\n",
       "        <td>None</td>\n",
       "    </tr>\n",
       "    <tr>\n",
       "        <td>None</td>\n",
       "    </tr>\n",
       "    <tr>\n",
       "        <td>None</td>\n",
       "    </tr>\n",
       "    <tr>\n",
       "        <td>None</td>\n",
       "    </tr>\n",
       "    <tr>\n",
       "        <td>None</td>\n",
       "    </tr>\n",
       "    <tr>\n",
       "        <td>None</td>\n",
       "    </tr>\n",
       "    <tr>\n",
       "        <td>None</td>\n",
       "    </tr>\n",
       "</table>"
      ],
      "text/plain": [
       "[(None,),\n",
       " (None,),\n",
       " (None,),\n",
       " (None,),\n",
       " (None,),\n",
       " (None,),\n",
       " (None,),\n",
       " (None,),\n",
       " (None,),\n",
       " (None,)]"
      ]
     },
     "execution_count": 19,
     "metadata": {},
     "output_type": "execute_result"
    }
   ],
   "source": [
    "%%sql\n",
    "SELECT contributor_key FROM contribution_facts\n",
    "LIMIT 10;"
   ]
  },
  {
   "cell_type": "markdown",
   "metadata": {},
   "source": [
    "As we can see, the values for the `contributor_key` are NULLs initially. We will populate `contributor_key` with correct values next."
   ]
  },
  {
   "cell_type": "markdown",
   "metadata": {},
   "source": [
    "First let's create an index on all columns in `contributor` to improve the performance of queries."
   ]
  },
  {
   "cell_type": "code",
   "execution_count": 20,
   "metadata": {},
   "outputs": [
    {
     "name": "stdout",
     "output_type": "stream",
     "text": [
      " * postgresql://student@/assignment4\n",
      "Done.\n",
      "Done.\n"
     ]
    },
    {
     "data": {
      "text/plain": [
       "[]"
      ]
     },
     "execution_count": 20,
     "metadata": {},
     "output_type": "execute_result"
    }
   ],
   "source": [
    "%%sql\n",
    "DROP INDEX IF EXISTS idx_contributor;\n",
    "\n",
    "CREATE INDEX idx_contributor ON contributor (name, type, employer);"
   ]
  },
  {
   "cell_type": "markdown",
   "metadata": {},
   "source": [
    "%%sql\n",
    "UPDATE contribution_facts\n",
    "SET contributor_key = contributor.contributor_key\n",
    "FROM contributor\n",
    "WHERE contribution_facts.contributor_name = contributor.name \n",
    "    AND contribution_facts.contributor_type = contributor.type \n",
    "    AND contribution_facts.employer = contributor.employer"
   ]
  },
  {
   "cell_type": "markdown",
   "metadata": {},
   "source": [
    "** Question 3 (10 points) **:\n",
    "Have all rows in `contribution_facts` been updated by the above UPDATE statement? If not, explain why some rows weren't updated. Modify the UPDATE statement to fix it.\n",
    "\n",
    "** Answer: **"
   ]
  },
  {
   "cell_type": "markdown",
   "metadata": {},
   "source": [
    "__No, not all the rows have been updatded.__    \n",
    "The reason is that __NULL value exists__. When we use the 'WHERE' function, the null is not able to be equal to null. So, whenever a null exists. To verify my opinion, I use the following queries.     \n",
    "To simplify, I only use 'employer' for the WHRER function, the total number of rows is _240969_, however, the rows affected is only, the differences is equal to the number of null values in the column. Thus, it is the null values that causes the problem.     \n",
    "In order to fix it, I update both the fact and the dimention table and set the NULL into a string 'None'. After that the problem is fixed and I have exactly _240969_ rows affected.\n",
    "\n"
   ]
  },
  {
   "cell_type": "code",
   "execution_count": 21,
   "metadata": {},
   "outputs": [
    {
     "name": "stdout",
     "output_type": "stream",
     "text": [
      " * postgresql://student@/assignment4\n",
      "240186 rows affected.\n"
     ]
    },
    {
     "data": {
      "text/plain": [
       "[]"
      ]
     },
     "execution_count": 21,
     "metadata": {},
     "output_type": "execute_result"
    }
   ],
   "source": [
    "%%sql\n",
    "UPDATE contribution_facts\n",
    "SET contributor_key = contributor.contributor_key\n",
    "FROM contributor\n",
    "WHERE contribution_facts.contributor_name = contributor.name "
   ]
  },
  {
   "cell_type": "code",
   "execution_count": 22,
   "metadata": {},
   "outputs": [
    {
     "name": "stdout",
     "output_type": "stream",
     "text": [
      " * postgresql://student@/assignment4\n",
      "1 rows affected.\n"
     ]
    },
    {
     "data": {
      "text/html": [
       "<table>\n",
       "    <tr>\n",
       "        <th>count</th>\n",
       "    </tr>\n",
       "    <tr>\n",
       "        <td>783</td>\n",
       "    </tr>\n",
       "</table>"
      ],
      "text/plain": [
       "[(783,)]"
      ]
     },
     "execution_count": 22,
     "metadata": {},
     "output_type": "execute_result"
    }
   ],
   "source": [
    "%%sql\n",
    "SELECT COUNT(*)\n",
    "FROM contribution_facts\n",
    "WHERE contributor_name is NUll"
   ]
  },
  {
   "cell_type": "markdown",
   "metadata": {},
   "source": [
    "In order to fix it, I update both the fact and the dimention table and set the NULL into a string 'None'."
   ]
  },
  {
   "cell_type": "markdown",
   "metadata": {},
   "source": [
    " I have exactly 240969 rows affected."
   ]
  },
  {
   "cell_type": "code",
   "execution_count": 23,
   "metadata": {},
   "outputs": [
    {
     "name": "stdout",
     "output_type": "stream",
     "text": [
      " * postgresql://student@/assignment4\n",
      "240969 rows affected.\n"
     ]
    },
    {
     "data": {
      "text/plain": [
       "[]"
      ]
     },
     "execution_count": 23,
     "metadata": {},
     "output_type": "execute_result"
    }
   ],
   "source": [
    "%%sql\n",
    "UPDATE contribution_facts\n",
    "SET contributor_key = contributor.contributor_key\n",
    "FROM contributor\n",
    "WHERE (contribution_facts.contributor_name = contributor.name \n",
    "    OR (contribution_facts.contributor_name IS NULL AND contributor.name IS NULL))\n",
    "    AND (contribution_facts.contributor_type = contributor.type \n",
    "    OR (contribution_facts.contributor_type IS NULL AND contributor.type IS NULL))\n",
    "    AND (contribution_facts.employer = contributor.employer\n",
    "    OR (contribution_facts.employer IS NULL AND contributor.employer IS NULL))"
   ]
  },
  {
   "cell_type": "markdown",
   "metadata": {},
   "source": [
    "Verified the results."
   ]
  },
  {
   "cell_type": "code",
   "execution_count": 24,
   "metadata": {},
   "outputs": [
    {
     "name": "stdout",
     "output_type": "stream",
     "text": [
      " * postgresql://student@/assignment4\n",
      "1 rows affected.\n"
     ]
    },
    {
     "data": {
      "text/html": [
       "<table>\n",
       "    <tr>\n",
       "        <th>id</th>\n",
       "        <th>committee_name</th>\n",
       "        <th>candidate_name</th>\n",
       "        <th>election_year</th>\n",
       "        <th>contributor_name</th>\n",
       "        <th>contributor_address</th>\n",
       "        <th>contributor_type</th>\n",
       "        <th>contribution_type</th>\n",
       "        <th>employer</th>\n",
       "        <th>employer_address</th>\n",
       "        <th>amount</th>\n",
       "        <th>date_of_receipt</th>\n",
       "        <th>address_id</th>\n",
       "        <th>address_x</th>\n",
       "        <th>address_y</th>\n",
       "        <th>address_latitude</th>\n",
       "        <th>address_longitude</th>\n",
       "        <th>address_full</th>\n",
       "        <th>gis_last_mod</th>\n",
       "        <th>ward</th>\n",
       "        <th>contributor_key</th>\n",
       "    </tr>\n",
       "    <tr>\n",
       "        <td>172570</td>\n",
       "        <td>Gray for Mayor</td>\n",
       "        <td>Vincent Gray</td>\n",
       "        <td>2010</td>\n",
       "        <td>THOMAS REDMOND</td>\n",
       "        <td>1877 CHANNING ST., NE, Washington, DC 20018</td>\n",
       "        <td>Individual</td>\n",
       "        <td>Check</td>\n",
       "        <td>UDC</td>\n",
       "        <td>Washington, DC</td>\n",
       "        <td>100.00</td>\n",
       "        <td>2010-08-06</td>\n",
       "        <td>54613</td>\n",
       "        <td>402003.13</td>\n",
       "        <td>139340.10</td>\n",
       "        <td>38.9219312112146</td>\n",
       "        <td>-76.9769004290597</td>\n",
       "        <td>1877 CHANNING STREET NE</td>\n",
       "        <td>2018-11-19 06:21:13+00:00</td>\n",
       "        <td>Ward 5</td>\n",
       "        <td>45785</td>\n",
       "    </tr>\n",
       "</table>"
      ],
      "text/plain": [
       "[(172570, 'Gray for Mayor', 'Vincent Gray', 2010, 'THOMAS REDMOND', '1877 CHANNING ST., NE, Washington, DC 20018', 'Individual', 'Check', 'UDC', 'Washington, DC', Decimal('100.00'), datetime.date(2010, 8, 6), 54613, Decimal('402003.13'), Decimal('139340.10'), Decimal('38.9219312112146'), Decimal('-76.9769004290597'), '1877 CHANNING STREET NE', datetime.datetime(2018, 11, 19, 6, 21, 13, tzinfo=psycopg2.tz.FixedOffsetTimezone(offset=0, name=None)), 'Ward 5', 45785)]"
      ]
     },
     "execution_count": 24,
     "metadata": {},
     "output_type": "execute_result"
    }
   ],
   "source": [
    "%%sql\n",
    "SELECT *\n",
    "FROM contribution_facts\n",
    "WHERE contributor_key = 45785;"
   ]
  },
  {
   "cell_type": "code",
   "execution_count": 25,
   "metadata": {},
   "outputs": [
    {
     "name": "stdout",
     "output_type": "stream",
     "text": [
      " * postgresql://student@/assignment4\n",
      "1 rows affected.\n"
     ]
    },
    {
     "data": {
      "text/html": [
       "<table>\n",
       "    <tr>\n",
       "        <th>contributor_key</th>\n",
       "        <th>name</th>\n",
       "        <th>type</th>\n",
       "        <th>employer</th>\n",
       "    </tr>\n",
       "    <tr>\n",
       "        <td>45785</td>\n",
       "        <td>THOMAS REDMOND</td>\n",
       "        <td>Individual</td>\n",
       "        <td>UDC</td>\n",
       "    </tr>\n",
       "</table>"
      ],
      "text/plain": [
       "[(45785, 'THOMAS REDMOND', 'Individual', 'UDC')]"
      ]
     },
     "execution_count": 25,
     "metadata": {},
     "output_type": "execute_result"
    }
   ],
   "source": [
    "%%sql\n",
    "SELECT *\n",
    "FROM contributor\n",
    "WHERE contributor_key = 45785;"
   ]
  },
  {
   "cell_type": "code",
   "execution_count": null,
   "metadata": {},
   "outputs": [],
   "source": []
  },
  {
   "cell_type": "markdown",
   "metadata": {},
   "source": [
    "** End of answer to Question 3 **"
   ]
  },
  {
   "cell_type": "markdown",
   "metadata": {},
   "source": [
    "** Question 4 (20 points) **:\n",
    "Now it is your turn to create and populate the dimension table `campaign`, add the campaign foreign key to the fact table and populate the foreign key values for all the facts.\n",
    "\n",
    "** Answer: **"
   ]
  },
  {
   "cell_type": "markdown",
   "metadata": {},
   "source": [
    "campaign (campaign_key, committee_name, candidate_name, election_year)"
   ]
  },
  {
   "cell_type": "code",
   "execution_count": 26,
   "metadata": {},
   "outputs": [
    {
     "name": "stdout",
     "output_type": "stream",
     "text": [
      " * postgresql://student@/assignment4\n",
      "10 rows affected.\n"
     ]
    },
    {
     "data": {
      "text/html": [
       "<table>\n",
       "    <tr>\n",
       "        <th>committee_name</th>\n",
       "        <th>candidate_name</th>\n",
       "        <th>election_year</th>\n",
       "    </tr>\n",
       "    <tr>\n",
       "        <td>1199 SEIU PAC</td>\n",
       "        <td>None</td>\n",
       "        <td>2006</td>\n",
       "    </tr>\n",
       "    <tr>\n",
       "        <td>1 For Chad</td>\n",
       "        <td>Chad Williams</td>\n",
       "        <td>2006</td>\n",
       "    </tr>\n",
       "    <tr>\n",
       "        <td>2006 Orange for Mayor</td>\n",
       "        <td>Vincent Orange</td>\n",
       "        <td>2006</td>\n",
       "    </tr>\n",
       "    <tr>\n",
       "        <td>2018 Gordon 4 Mayor</td>\n",
       "        <td>Victoria Gordon</td>\n",
       "        <td>2018</td>\n",
       "    </tr>\n",
       "    <tr>\n",
       "        <td>4 Hagler For 4</td>\n",
       "        <td>Graylan Scott  Hagler</td>\n",
       "        <td>2007</td>\n",
       "    </tr>\n",
       "    <tr>\n",
       "        <td>Aaron Landry</td>\n",
       "        <td>None</td>\n",
       "        <td>2018</td>\n",
       "    </tr>\n",
       "    <tr>\n",
       "        <td>Aaron Polkey</td>\n",
       "        <td>None</td>\n",
       "        <td>2016</td>\n",
       "    </tr>\n",
       "    <tr>\n",
       "        <td>ABC of Metro Washington D.C. PAC</td>\n",
       "        <td>None</td>\n",
       "        <td>2004</td>\n",
       "    </tr>\n",
       "    <tr>\n",
       "        <td>Abigail C Nichols</td>\n",
       "        <td>None</td>\n",
       "        <td>2016</td>\n",
       "    </tr>\n",
       "    <tr>\n",
       "        <td>Abraham Clayman</td>\n",
       "        <td>None</td>\n",
       "        <td>2016</td>\n",
       "    </tr>\n",
       "</table>"
      ],
      "text/plain": [
       "[('1199 SEIU PAC', None, 2006),\n",
       " ('1 For Chad', 'Chad Williams', 2006),\n",
       " ('2006 Orange for Mayor', 'Vincent Orange', 2006),\n",
       " ('2018 Gordon 4 Mayor', 'Victoria Gordon', 2018),\n",
       " ('4 Hagler For 4', 'Graylan Scott  Hagler', 2007),\n",
       " ('Aaron Landry', None, 2018),\n",
       " ('Aaron Polkey', None, 2016),\n",
       " ('ABC of Metro Washington D.C. PAC', None, 2004),\n",
       " ('Abigail C Nichols', None, 2016),\n",
       " ('Abraham Clayman', None, 2016)]"
      ]
     },
     "execution_count": 26,
     "metadata": {},
     "output_type": "execute_result"
    }
   ],
   "source": [
    "%%sql\n",
    "SELECT DISTINCT committee_name, candidate_name, election_year\n",
    "FROM contribution_facts\n",
    "LIMIT 10;"
   ]
  },
  {
   "cell_type": "code",
   "execution_count": 27,
   "metadata": {},
   "outputs": [
    {
     "name": "stdout",
     "output_type": "stream",
     "text": [
      " * postgresql://student@/assignment4\n",
      "Done.\n",
      "Done.\n"
     ]
    },
    {
     "data": {
      "text/plain": [
       "[]"
      ]
     },
     "execution_count": 27,
     "metadata": {},
     "output_type": "execute_result"
    }
   ],
   "source": [
    "%%sql\n",
    "DROP TABLE IF EXISTS campaign;\n",
    "\n",
    "CREATE TABLE campaign (\n",
    "    campaign_key SERIAL PRIMARY KEY,\n",
    "    committee_name VARCHAR(500) NOT NULL,\n",
    "    candidate_name VARCHAR(50),\n",
    "    election_year INTEGER\n",
    ");"
   ]
  },
  {
   "cell_type": "code",
   "execution_count": 28,
   "metadata": {},
   "outputs": [
    {
     "name": "stdout",
     "output_type": "stream",
     "text": [
      " * postgresql://student@/assignment4\n",
      "1333 rows affected.\n"
     ]
    },
    {
     "data": {
      "text/plain": [
       "[]"
      ]
     },
     "execution_count": 28,
     "metadata": {},
     "output_type": "execute_result"
    }
   ],
   "source": [
    "%%sql\n",
    "INSERT INTO campaign (committee_name, candidate_name, election_year)\n",
    "SELECT DISTINCT committee_name, candidate_name, election_year\n",
    "FROM contribution_facts;"
   ]
  },
  {
   "cell_type": "code",
   "execution_count": 29,
   "metadata": {},
   "outputs": [
    {
     "name": "stdout",
     "output_type": "stream",
     "text": [
      " * postgresql://student@/assignment4\n",
      "10 rows affected.\n"
     ]
    },
    {
     "data": {
      "text/html": [
       "<table>\n",
       "    <tr>\n",
       "        <th>campaign_key</th>\n",
       "        <th>committee_name</th>\n",
       "        <th>candidate_name</th>\n",
       "        <th>election_year</th>\n",
       "    </tr>\n",
       "    <tr>\n",
       "        <td>1</td>\n",
       "        <td>1199 SEIU PAC</td>\n",
       "        <td>None</td>\n",
       "        <td>2006</td>\n",
       "    </tr>\n",
       "    <tr>\n",
       "        <td>2</td>\n",
       "        <td>1 For Chad</td>\n",
       "        <td>Chad Williams</td>\n",
       "        <td>2006</td>\n",
       "    </tr>\n",
       "    <tr>\n",
       "        <td>3</td>\n",
       "        <td>2006 Orange for Mayor</td>\n",
       "        <td>Vincent Orange</td>\n",
       "        <td>2006</td>\n",
       "    </tr>\n",
       "    <tr>\n",
       "        <td>4</td>\n",
       "        <td>2018 Gordon 4 Mayor</td>\n",
       "        <td>Victoria Gordon</td>\n",
       "        <td>2018</td>\n",
       "    </tr>\n",
       "    <tr>\n",
       "        <td>5</td>\n",
       "        <td>4 Hagler For 4</td>\n",
       "        <td>Graylan Scott  Hagler</td>\n",
       "        <td>2007</td>\n",
       "    </tr>\n",
       "    <tr>\n",
       "        <td>6</td>\n",
       "        <td>Aaron Landry</td>\n",
       "        <td>None</td>\n",
       "        <td>2018</td>\n",
       "    </tr>\n",
       "    <tr>\n",
       "        <td>7</td>\n",
       "        <td>Aaron Polkey</td>\n",
       "        <td>None</td>\n",
       "        <td>2016</td>\n",
       "    </tr>\n",
       "    <tr>\n",
       "        <td>8</td>\n",
       "        <td>ABC of Metro Washington D.C. PAC</td>\n",
       "        <td>None</td>\n",
       "        <td>2004</td>\n",
       "    </tr>\n",
       "    <tr>\n",
       "        <td>9</td>\n",
       "        <td>Abigail C Nichols</td>\n",
       "        <td>None</td>\n",
       "        <td>2016</td>\n",
       "    </tr>\n",
       "    <tr>\n",
       "        <td>10</td>\n",
       "        <td>Abraham Clayman</td>\n",
       "        <td>None</td>\n",
       "        <td>2016</td>\n",
       "    </tr>\n",
       "</table>"
      ],
      "text/plain": [
       "[(1, '1199 SEIU PAC', None, 2006),\n",
       " (2, '1 For Chad', 'Chad Williams', 2006),\n",
       " (3, '2006 Orange for Mayor', 'Vincent Orange', 2006),\n",
       " (4, '2018 Gordon 4 Mayor', 'Victoria Gordon', 2018),\n",
       " (5, '4 Hagler For 4', 'Graylan Scott  Hagler', 2007),\n",
       " (6, 'Aaron Landry', None, 2018),\n",
       " (7, 'Aaron Polkey', None, 2016),\n",
       " (8, 'ABC of Metro Washington D.C. PAC', None, 2004),\n",
       " (9, 'Abigail C Nichols', None, 2016),\n",
       " (10, 'Abraham Clayman', None, 2016)]"
      ]
     },
     "execution_count": 29,
     "metadata": {},
     "output_type": "execute_result"
    }
   ],
   "source": [
    "%%sql\n",
    "SELECT *\n",
    "FROM campaign\n",
    "LIMIT 10;"
   ]
  },
  {
   "cell_type": "markdown",
   "metadata": {},
   "source": [
    "Next, we add a foreign key column to the fact table that references campaign dimension table."
   ]
  },
  {
   "cell_type": "code",
   "execution_count": 30,
   "metadata": {},
   "outputs": [
    {
     "name": "stdout",
     "output_type": "stream",
     "text": [
      " * postgresql://student@/assignment4\n",
      "Done.\n"
     ]
    },
    {
     "data": {
      "text/plain": [
       "[]"
      ]
     },
     "execution_count": 30,
     "metadata": {},
     "output_type": "execute_result"
    }
   ],
   "source": [
    "%%sql\n",
    "ALTER TABLE contribution_facts\n",
    "ADD COLUMN campaign_key INTEGER,\n",
    "ADD CONSTRAINT fk_campaign_key\n",
    "    FOREIGN KEY (campaign_key)\n",
    "    REFERENCES campaign (campaign_key);"
   ]
  },
  {
   "cell_type": "code",
   "execution_count": 31,
   "metadata": {},
   "outputs": [
    {
     "name": "stdout",
     "output_type": "stream",
     "text": [
      " * postgresql://student@/assignment4\n",
      "240969 rows affected.\n"
     ]
    },
    {
     "data": {
      "text/plain": [
       "[]"
      ]
     },
     "execution_count": 31,
     "metadata": {},
     "output_type": "execute_result"
    }
   ],
   "source": [
    "%%sql\n",
    "UPDATE contribution_facts\n",
    "SET campaign_key = campaign.campaign_key\n",
    "FROM campaign\n",
    "WHERE (contribution_facts.candidate_name = campaign.candidate_name\n",
    "    OR (contribution_facts.candidate_name IS NULL AND campaign.candidate_name IS NULL))\n",
    "    AND contribution_facts.committee_name = campaign.committee_name\n",
    "    AND (contribution_facts.election_year = campaign.election_year\n",
    "    OR (contribution_facts.election_year IS NULL AND campaign.election_year IS NULL))"
   ]
  },
  {
   "cell_type": "code",
   "execution_count": 32,
   "metadata": {},
   "outputs": [
    {
     "name": "stdout",
     "output_type": "stream",
     "text": [
      " * postgresql://student@/assignment4\n",
      "10 rows affected.\n"
     ]
    },
    {
     "data": {
      "text/html": [
       "<table>\n",
       "    <tr>\n",
       "        <th>id</th>\n",
       "        <th>committee_name</th>\n",
       "        <th>candidate_name</th>\n",
       "        <th>election_year</th>\n",
       "        <th>contributor_name</th>\n",
       "        <th>contributor_address</th>\n",
       "        <th>contributor_type</th>\n",
       "        <th>contribution_type</th>\n",
       "        <th>employer</th>\n",
       "        <th>employer_address</th>\n",
       "        <th>amount</th>\n",
       "        <th>date_of_receipt</th>\n",
       "        <th>address_id</th>\n",
       "        <th>address_x</th>\n",
       "        <th>address_y</th>\n",
       "        <th>address_latitude</th>\n",
       "        <th>address_longitude</th>\n",
       "        <th>address_full</th>\n",
       "        <th>gis_last_mod</th>\n",
       "        <th>ward</th>\n",
       "        <th>contributor_key</th>\n",
       "        <th>campaign_key</th>\n",
       "    </tr>\n",
       "    <tr>\n",
       "        <td>17334</td>\n",
       "        <td>Donovan Anderson</td>\n",
       "        <td>None</td>\n",
       "        <td>2016</td>\n",
       "        <td>None</td>\n",
       "        <td>None</td>\n",
       "        <td>None</td>\n",
       "        <td>None</td>\n",
       "        <td>None</td>\n",
       "        <td>None</td>\n",
       "        <td>139.92</td>\n",
       "        <td>2017-01-08</td>\n",
       "        <td>None</td>\n",
       "        <td>None</td>\n",
       "        <td>None</td>\n",
       "        <td>None</td>\n",
       "        <td>None</td>\n",
       "        <td>None</td>\n",
       "        <td>2018-11-19 06:21:13+00:00</td>\n",
       "        <td>None</td>\n",
       "        <td>1</td>\n",
       "        <td>481</td>\n",
       "    </tr>\n",
       "    <tr>\n",
       "        <td>17335</td>\n",
       "        <td>Adam Roberts</td>\n",
       "        <td>None</td>\n",
       "        <td>2016</td>\n",
       "        <td>None</td>\n",
       "        <td>None</td>\n",
       "        <td>None</td>\n",
       "        <td>None</td>\n",
       "        <td>None</td>\n",
       "        <td>None</td>\n",
       "        <td>1795.03</td>\n",
       "        <td>2017-01-17</td>\n",
       "        <td>None</td>\n",
       "        <td>None</td>\n",
       "        <td>None</td>\n",
       "        <td>None</td>\n",
       "        <td>None</td>\n",
       "        <td>None</td>\n",
       "        <td>2018-11-19 06:21:13+00:00</td>\n",
       "        <td>None</td>\n",
       "        <td>1</td>\n",
       "        <td>18</td>\n",
       "    </tr>\n",
       "    <tr>\n",
       "        <td>17336</td>\n",
       "        <td>Darwain Frost</td>\n",
       "        <td>None</td>\n",
       "        <td>2016</td>\n",
       "        <td>None</td>\n",
       "        <td>None</td>\n",
       "        <td>None</td>\n",
       "        <td>None</td>\n",
       "        <td>None</td>\n",
       "        <td>None</td>\n",
       "        <td>0.00</td>\n",
       "        <td>2016-11-07</td>\n",
       "        <td>None</td>\n",
       "        <td>None</td>\n",
       "        <td>None</td>\n",
       "        <td>None</td>\n",
       "        <td>None</td>\n",
       "        <td>None</td>\n",
       "        <td>2018-11-19 06:21:13+00:00</td>\n",
       "        <td>None</td>\n",
       "        <td>1</td>\n",
       "        <td>398</td>\n",
       "    </tr>\n",
       "    <tr>\n",
       "        <td>17337</td>\n",
       "        <td>Brenda Parks</td>\n",
       "        <td>None</td>\n",
       "        <td>2016</td>\n",
       "        <td>None</td>\n",
       "        <td>None</td>\n",
       "        <td>None</td>\n",
       "        <td>None</td>\n",
       "        <td>None</td>\n",
       "        <td>None</td>\n",
       "        <td>0.00</td>\n",
       "        <td>2017-02-01</td>\n",
       "        <td>None</td>\n",
       "        <td>None</td>\n",
       "        <td>None</td>\n",
       "        <td>None</td>\n",
       "        <td>None</td>\n",
       "        <td>None</td>\n",
       "        <td>2018-11-19 06:21:13+00:00</td>\n",
       "        <td>None</td>\n",
       "        <td>1</td>\n",
       "        <td>130</td>\n",
       "    </tr>\n",
       "    <tr>\n",
       "        <td>17338</td>\n",
       "        <td>Tom Quinn</td>\n",
       "        <td>None</td>\n",
       "        <td>2016</td>\n",
       "        <td>None</td>\n",
       "        <td>None</td>\n",
       "        <td>None</td>\n",
       "        <td>None</td>\n",
       "        <td>None</td>\n",
       "        <td>None</td>\n",
       "        <td>None</td>\n",
       "        <td>2017-02-02</td>\n",
       "        <td>None</td>\n",
       "        <td>None</td>\n",
       "        <td>None</td>\n",
       "        <td>None</td>\n",
       "        <td>None</td>\n",
       "        <td>None</td>\n",
       "        <td>2018-11-19 06:21:13+00:00</td>\n",
       "        <td>None</td>\n",
       "        <td>1</td>\n",
       "        <td>1222</td>\n",
       "    </tr>\n",
       "    <tr>\n",
       "        <td>17339</td>\n",
       "        <td>Robert Looper III</td>\n",
       "        <td>None</td>\n",
       "        <td>2016</td>\n",
       "        <td>None</td>\n",
       "        <td>None</td>\n",
       "        <td>None</td>\n",
       "        <td>None</td>\n",
       "        <td>None</td>\n",
       "        <td>None</td>\n",
       "        <td>1200.00</td>\n",
       "        <td>2017-03-13</td>\n",
       "        <td>None</td>\n",
       "        <td>None</td>\n",
       "        <td>None</td>\n",
       "        <td>None</td>\n",
       "        <td>None</td>\n",
       "        <td>None</td>\n",
       "        <td>2018-11-19 06:21:13+00:00</td>\n",
       "        <td>None</td>\n",
       "        <td>1</td>\n",
       "        <td>1077</td>\n",
       "    </tr>\n",
       "    <tr>\n",
       "        <td>17340</td>\n",
       "        <td>Alfonso Rushing</td>\n",
       "        <td>None</td>\n",
       "        <td>2016</td>\n",
       "        <td>None</td>\n",
       "        <td>None</td>\n",
       "        <td>None</td>\n",
       "        <td>None</td>\n",
       "        <td>None</td>\n",
       "        <td>None</td>\n",
       "        <td>0.00</td>\n",
       "        <td>2017-03-14</td>\n",
       "        <td>None</td>\n",
       "        <td>None</td>\n",
       "        <td>None</td>\n",
       "        <td>None</td>\n",
       "        <td>None</td>\n",
       "        <td>None</td>\n",
       "        <td>2018-11-19 06:21:13+00:00</td>\n",
       "        <td>None</td>\n",
       "        <td>1</td>\n",
       "        <td>32</td>\n",
       "    </tr>\n",
       "    <tr>\n",
       "        <td>17341</td>\n",
       "        <td>Margaret Hundley</td>\n",
       "        <td>None</td>\n",
       "        <td>2016</td>\n",
       "        <td>None</td>\n",
       "        <td>None</td>\n",
       "        <td>None</td>\n",
       "        <td>None</td>\n",
       "        <td>None</td>\n",
       "        <td>None</td>\n",
       "        <td>None</td>\n",
       "        <td>2016-11-14</td>\n",
       "        <td>None</td>\n",
       "        <td>None</td>\n",
       "        <td>None</td>\n",
       "        <td>None</td>\n",
       "        <td>None</td>\n",
       "        <td>None</td>\n",
       "        <td>2018-11-19 06:21:13+00:00</td>\n",
       "        <td>None</td>\n",
       "        <td>1</td>\n",
       "        <td>835</td>\n",
       "    </tr>\n",
       "    <tr>\n",
       "        <td>17342</td>\n",
       "        <td>Gerald Malitz</td>\n",
       "        <td>None</td>\n",
       "        <td>2017</td>\n",
       "        <td>None</td>\n",
       "        <td>None</td>\n",
       "        <td>None</td>\n",
       "        <td>None</td>\n",
       "        <td>None</td>\n",
       "        <td>None</td>\n",
       "        <td>None</td>\n",
       "        <td>2017-02-26</td>\n",
       "        <td>None</td>\n",
       "        <td>None</td>\n",
       "        <td>None</td>\n",
       "        <td>None</td>\n",
       "        <td>None</td>\n",
       "        <td>None</td>\n",
       "        <td>2018-11-19 06:21:13+00:00</td>\n",
       "        <td>None</td>\n",
       "        <td>1</td>\n",
       "        <td>598</td>\n",
       "    </tr>\n",
       "    <tr>\n",
       "        <td>2658</td>\n",
       "        <td>Ernest E Johnson</td>\n",
       "        <td>None</td>\n",
       "        <td>2016</td>\n",
       "        <td>None</td>\n",
       "        <td>None</td>\n",
       "        <td>None</td>\n",
       "        <td>None</td>\n",
       "        <td>None</td>\n",
       "        <td>None</td>\n",
       "        <td>4303.64</td>\n",
       "        <td>2017-01-15</td>\n",
       "        <td>None</td>\n",
       "        <td>None</td>\n",
       "        <td>None</td>\n",
       "        <td>None</td>\n",
       "        <td>None</td>\n",
       "        <td>None</td>\n",
       "        <td>2018-11-19 06:21:13+00:00</td>\n",
       "        <td>None</td>\n",
       "        <td>1</td>\n",
       "        <td>531</td>\n",
       "    </tr>\n",
       "</table>"
      ],
      "text/plain": [
       "[(17334, 'Donovan Anderson', None, 2016, None, None, None, None, None, None, Decimal('139.92'), datetime.date(2017, 1, 8), None, None, None, None, None, None, datetime.datetime(2018, 11, 19, 6, 21, 13, tzinfo=psycopg2.tz.FixedOffsetTimezone(offset=0, name=None)), None, 1, 481),\n",
       " (17335, 'Adam Roberts', None, 2016, None, None, None, None, None, None, Decimal('1795.03'), datetime.date(2017, 1, 17), None, None, None, None, None, None, datetime.datetime(2018, 11, 19, 6, 21, 13, tzinfo=psycopg2.tz.FixedOffsetTimezone(offset=0, name=None)), None, 1, 18),\n",
       " (17336, 'Darwain Frost', None, 2016, None, None, None, None, None, None, Decimal('0.00'), datetime.date(2016, 11, 7), None, None, None, None, None, None, datetime.datetime(2018, 11, 19, 6, 21, 13, tzinfo=psycopg2.tz.FixedOffsetTimezone(offset=0, name=None)), None, 1, 398),\n",
       " (17337, 'Brenda Parks', None, 2016, None, None, None, None, None, None, Decimal('0.00'), datetime.date(2017, 2, 1), None, None, None, None, None, None, datetime.datetime(2018, 11, 19, 6, 21, 13, tzinfo=psycopg2.tz.FixedOffsetTimezone(offset=0, name=None)), None, 1, 130),\n",
       " (17338, 'Tom Quinn', None, 2016, None, None, None, None, None, None, None, datetime.date(2017, 2, 2), None, None, None, None, None, None, datetime.datetime(2018, 11, 19, 6, 21, 13, tzinfo=psycopg2.tz.FixedOffsetTimezone(offset=0, name=None)), None, 1, 1222),\n",
       " (17339, 'Robert Looper III', None, 2016, None, None, None, None, None, None, Decimal('1200.00'), datetime.date(2017, 3, 13), None, None, None, None, None, None, datetime.datetime(2018, 11, 19, 6, 21, 13, tzinfo=psycopg2.tz.FixedOffsetTimezone(offset=0, name=None)), None, 1, 1077),\n",
       " (17340, 'Alfonso Rushing', None, 2016, None, None, None, None, None, None, Decimal('0.00'), datetime.date(2017, 3, 14), None, None, None, None, None, None, datetime.datetime(2018, 11, 19, 6, 21, 13, tzinfo=psycopg2.tz.FixedOffsetTimezone(offset=0, name=None)), None, 1, 32),\n",
       " (17341, 'Margaret Hundley', None, 2016, None, None, None, None, None, None, None, datetime.date(2016, 11, 14), None, None, None, None, None, None, datetime.datetime(2018, 11, 19, 6, 21, 13, tzinfo=psycopg2.tz.FixedOffsetTimezone(offset=0, name=None)), None, 1, 835),\n",
       " (17342, 'Gerald Malitz', None, 2017, None, None, None, None, None, None, None, datetime.date(2017, 2, 26), None, None, None, None, None, None, datetime.datetime(2018, 11, 19, 6, 21, 13, tzinfo=psycopg2.tz.FixedOffsetTimezone(offset=0, name=None)), None, 1, 598),\n",
       " (2658, 'Ernest E Johnson', None, 2016, None, None, None, None, None, None, Decimal('4303.64'), datetime.date(2017, 1, 15), None, None, None, None, None, None, datetime.datetime(2018, 11, 19, 6, 21, 13, tzinfo=psycopg2.tz.FixedOffsetTimezone(offset=0, name=None)), None, 1, 531)]"
      ]
     },
     "execution_count": 32,
     "metadata": {},
     "output_type": "execute_result"
    }
   ],
   "source": [
    "%%sql\n",
    "SELECT *\n",
    "FROM contribution_facts\n",
    "LIMIT 10;"
   ]
  },
  {
   "cell_type": "markdown",
   "metadata": {},
   "source": [
    "** End of answer to Question 4 **"
   ]
  },
  {
   "cell_type": "markdown",
   "metadata": {},
   "source": [
    "We can now remove all columns in `contribution_facts` that are not facts nor foreign keys of dimension tables."
   ]
  },
  {
   "cell_type": "code",
   "execution_count": 33,
   "metadata": {},
   "outputs": [
    {
     "name": "stdout",
     "output_type": "stream",
     "text": [
      " * postgresql://student@/assignment4\n",
      "Done.\n"
     ]
    },
    {
     "data": {
      "text/plain": [
       "[]"
      ]
     },
     "execution_count": 33,
     "metadata": {},
     "output_type": "execute_result"
    }
   ],
   "source": [
    "%%sql\n",
    "ALTER TABLE contribution_facts\n",
    "DROP COLUMN id,\n",
    "DROP COLUMN committee_name,\n",
    "DROP COLUMN candidate_name,\n",
    "DROP COLUMN election_year,\n",
    "DROP COLUMN contributor_name,\n",
    "DROP COLUMN contributor_address,\n",
    "DROP COLUMN contributor_type,\n",
    "DROP COLUMN contribution_type,\n",
    "DROP COLUMN employer,\n",
    "DROP COLUMN employer_address,\n",
    "DROP COLUMN address_id,\n",
    "DROP COLUMN address_x,\n",
    "DROP COLUMN address_y,\n",
    "DROP COLUMN address_latitude,\n",
    "DROP COLUMN address_longitude,\n",
    "DROP COLUMN address_full,\n",
    "DROP COLUMN gis_last_mod;"
   ]
  },
  {
   "cell_type": "code",
   "execution_count": 34,
   "metadata": {},
   "outputs": [
    {
     "name": "stdout",
     "output_type": "stream",
     "text": [
      " * postgresql://student@/assignment4\n",
      "10 rows affected.\n"
     ]
    },
    {
     "data": {
      "text/html": [
       "<table>\n",
       "    <tr>\n",
       "        <th>amount</th>\n",
       "        <th>date_of_receipt</th>\n",
       "        <th>ward</th>\n",
       "        <th>contributor_key</th>\n",
       "        <th>campaign_key</th>\n",
       "    </tr>\n",
       "    <tr>\n",
       "        <td>None</td>\n",
       "        <td>2017-02-26</td>\n",
       "        <td>None</td>\n",
       "        <td>1</td>\n",
       "        <td>598</td>\n",
       "    </tr>\n",
       "    <tr>\n",
       "        <td>4303.64</td>\n",
       "        <td>2017-01-15</td>\n",
       "        <td>None</td>\n",
       "        <td>1</td>\n",
       "        <td>531</td>\n",
       "    </tr>\n",
       "    <tr>\n",
       "        <td>150.00</td>\n",
       "        <td>2016-11-07</td>\n",
       "        <td>None</td>\n",
       "        <td>1</td>\n",
       "        <td>70</td>\n",
       "    </tr>\n",
       "    <tr>\n",
       "        <td>500.00</td>\n",
       "        <td>2012-03-23</td>\n",
       "        <td>None</td>\n",
       "        <td>1</td>\n",
       "        <td>1045</td>\n",
       "    </tr>\n",
       "    <tr>\n",
       "        <td>1000.00</td>\n",
       "        <td>2012-03-23</td>\n",
       "        <td>None</td>\n",
       "        <td>1</td>\n",
       "        <td>1045</td>\n",
       "    </tr>\n",
       "    <tr>\n",
       "        <td>200.00</td>\n",
       "        <td>2012-03-23</td>\n",
       "        <td>None</td>\n",
       "        <td>1</td>\n",
       "        <td>1045</td>\n",
       "    </tr>\n",
       "    <tr>\n",
       "        <td>250.00</td>\n",
       "        <td>2012-03-24</td>\n",
       "        <td>None</td>\n",
       "        <td>1</td>\n",
       "        <td>1045</td>\n",
       "    </tr>\n",
       "    <tr>\n",
       "        <td>500.00</td>\n",
       "        <td>2012-03-24</td>\n",
       "        <td>None</td>\n",
       "        <td>1</td>\n",
       "        <td>1045</td>\n",
       "    </tr>\n",
       "    <tr>\n",
       "        <td>895.80</td>\n",
       "        <td>2016-11-07</td>\n",
       "        <td>None</td>\n",
       "        <td>1</td>\n",
       "        <td>502</td>\n",
       "    </tr>\n",
       "    <tr>\n",
       "        <td>400.00</td>\n",
       "        <td>2017-01-16</td>\n",
       "        <td>None</td>\n",
       "        <td>1</td>\n",
       "        <td>773</td>\n",
       "    </tr>\n",
       "</table>"
      ],
      "text/plain": [
       "[(None, datetime.date(2017, 2, 26), None, 1, 598),\n",
       " (Decimal('4303.64'), datetime.date(2017, 1, 15), None, 1, 531),\n",
       " (Decimal('150.00'), datetime.date(2016, 11, 7), None, 1, 70),\n",
       " (Decimal('500.00'), datetime.date(2012, 3, 23), None, 1, 1045),\n",
       " (Decimal('1000.00'), datetime.date(2012, 3, 23), None, 1, 1045),\n",
       " (Decimal('200.00'), datetime.date(2012, 3, 23), None, 1, 1045),\n",
       " (Decimal('250.00'), datetime.date(2012, 3, 24), None, 1, 1045),\n",
       " (Decimal('500.00'), datetime.date(2012, 3, 24), None, 1, 1045),\n",
       " (Decimal('895.80'), datetime.date(2016, 11, 7), None, 1, 502),\n",
       " (Decimal('400.00'), datetime.date(2017, 1, 16), None, 1, 773)]"
      ]
     },
     "execution_count": 34,
     "metadata": {},
     "output_type": "execute_result"
    }
   ],
   "source": [
    "%%sql\n",
    "select * from contribution_facts limit 10;"
   ]
  },
  {
   "cell_type": "markdown",
   "metadata": {},
   "source": [
    "## Part 3 - explore your data (30 points)\n",
    "\n",
    "** Question 5 **:\n",
    "Now that the data is loaded, Answer the following two questions:\n",
    "1. Who are the top 10 corporation contributors?\n",
    "2. What does the total contribution look like for each year? \n",
    "\n",
    "If you find interesting patterns, adding plots to your exploration would be useful.\n",
    "\n",
    "Insert a combination of code and text/markdown cells here to explore your data.\n",
    "\n",
    "**Answer**:"
   ]
  },
  {
   "cell_type": "markdown",
   "metadata": {},
   "source": [
    "* `campaign` (`campaign_key`, `committee_name`, `candidate_name`, `election_year`)\n",
    "* `contributor` (`contributor_key`, `name`, `type`, `employer`)\n",
    "* `contribution_facts` (`campaign_key`, `contributor_key`, `amount`)"
   ]
  },
  {
   "cell_type": "markdown",
   "metadata": {},
   "source": [
    "__Who are the top 10 corporation contributors?__     \n",
    "First, we need to know how to define top contributors. So I find them from two ways, the times of contribution and the total amount of contribution.\n",
    "__Total amount contributed__\n",
    "The top 1 corporation contributor is Atlantic Northstar, LLC which contributed a total of 1712544.73.      \n",
    "__Number of time contributed__\n",
    "The top 1 corporation contributor is SEIU MD/DC State Counci which contributed 123 times.\n",
    "     \n",
    "The resluts indicate that the contributor with the highest amount is not necessarily the contributor that contrbute the most of times but they are correlated. For example corporation such as Atlantic Northstar, LLC and EIU MD/DC State Council appears in both tables."
   ]
  },
  {
   "cell_type": "code",
   "execution_count": 35,
   "metadata": {},
   "outputs": [],
   "source": [
    "%matplotlib inline"
   ]
  },
  {
   "cell_type": "code",
   "execution_count": 36,
   "metadata": {},
   "outputs": [
    {
     "name": "stdout",
     "output_type": "stream",
     "text": [
      " * postgresql://student@/assignment4\n",
      "10 rows affected.\n"
     ]
    },
    {
     "data": {
      "text/html": [
       "<table>\n",
       "    <tr>\n",
       "        <th>sum</th>\n",
       "        <th>name</th>\n",
       "    </tr>\n",
       "    <tr>\n",
       "        <td>1712544.73</td>\n",
       "        <td>Atlantic Northstar, LLC</td>\n",
       "    </tr>\n",
       "    <tr>\n",
       "        <td>1370900.00</td>\n",
       "        <td>North Atlantic Investments, LLC</td>\n",
       "    </tr>\n",
       "    <tr>\n",
       "        <td>1034653.40</td>\n",
       "        <td>SEIU MD/DC State Council</td>\n",
       "    </tr>\n",
       "    <tr>\n",
       "        <td>421000.00</td>\n",
       "        <td>UNITE HERE LOCAL 25</td>\n",
       "    </tr>\n",
       "    <tr>\n",
       "        <td>381368.00</td>\n",
       "        <td>American Federation of Teachers</td>\n",
       "    </tr>\n",
       "    <tr>\n",
       "        <td>266329.44</td>\n",
       "        <td>Cumlative todate reported per audit</td>\n",
       "    </tr>\n",
       "    <tr>\n",
       "        <td>197829.34</td>\n",
       "        <td>NATIONAL ASSN OF REALTORS</td>\n",
       "    </tr>\n",
       "    <tr>\n",
       "        <td>179400.00</td>\n",
       "        <td>Miller &amp; Long</td>\n",
       "    </tr>\n",
       "    <tr>\n",
       "        <td>159792.49</td>\n",
       "        <td>Bridge Capital (USVI) LLC</td>\n",
       "    </tr>\n",
       "    <tr>\n",
       "        <td>158050.02</td>\n",
       "        <td>Total Reported for audit period</td>\n",
       "    </tr>\n",
       "</table>"
      ],
      "text/plain": [
       "[(Decimal('1712544.73'), 'Atlantic Northstar, LLC'),\n",
       " (Decimal('1370900.00'), 'North Atlantic Investments, LLC'),\n",
       " (Decimal('1034653.40'), 'SEIU MD/DC State Council'),\n",
       " (Decimal('421000.00'), 'UNITE HERE LOCAL 25'),\n",
       " (Decimal('381368.00'), 'American Federation of Teachers'),\n",
       " (Decimal('266329.44'), 'Cumlative todate reported per audit'),\n",
       " (Decimal('197829.34'), 'NATIONAL ASSN OF REALTORS'),\n",
       " (Decimal('179400.00'), 'Miller & Long'),\n",
       " (Decimal('159792.49'), 'Bridge Capital (USVI) LLC'),\n",
       " (Decimal('158050.02'), 'Total Reported for audit period')]"
      ]
     },
     "execution_count": 36,
     "metadata": {},
     "output_type": "execute_result"
    }
   ],
   "source": [
    "%%sql\n",
    "SELECT SUM(amount), contributor.name\n",
    "FROM contribution_facts\n",
    "LEFT JOIN contributor\n",
    "ON contributor.contributor_key = contribution_facts.contributor_key\n",
    "WHERE contributor.type = 'Corporation'\n",
    "GROUP BY contributor.name\n",
    "ORDER BY SUM(amount) DESC\n",
    "LIMIT 10"
   ]
  },
  {
   "cell_type": "code",
   "execution_count": 37,
   "metadata": {},
   "outputs": [
    {
     "data": {
      "text/plain": [
       "<BarContainer object of 10 artists>"
      ]
     },
     "execution_count": 37,
     "metadata": {},
     "output_type": "execute_result"
    },
    {
     "data": {
      "image/png": "[encoded data removed]",
      "text/plain": [
       "<Figure size 432x288 with 1 Axes>"
      ]
     },
     "metadata": {
      "needs_background": "light"
     },
     "output_type": "display_data"
    }
   ],
   "source": [
    "_.bar()"
   ]
  },
  {
   "cell_type": "code",
   "execution_count": 38,
   "metadata": {},
   "outputs": [
    {
     "name": "stdout",
     "output_type": "stream",
     "text": [
      " * postgresql://student@/assignment4\n",
      "10 rows affected.\n"
     ]
    },
    {
     "data": {
      "text/html": [
       "<table>\n",
       "    <tr>\n",
       "        <th>count</th>\n",
       "        <th>name</th>\n",
       "    </tr>\n",
       "    <tr>\n",
       "        <td>123</td>\n",
       "        <td>SEIU MD/DC State Council</td>\n",
       "    </tr>\n",
       "    <tr>\n",
       "        <td>108</td>\n",
       "        <td>Atlantic Northstar, LLC</td>\n",
       "    </tr>\n",
       "    <tr>\n",
       "        <td>87</td>\n",
       "        <td>SEIU Local 500 Members</td>\n",
       "    </tr>\n",
       "    <tr>\n",
       "        <td>55</td>\n",
       "        <td>Verizon</td>\n",
       "    </tr>\n",
       "    <tr>\n",
       "        <td>54</td>\n",
       "        <td>Session Law Firm</td>\n",
       "    </tr>\n",
       "    <tr>\n",
       "        <td>53</td>\n",
       "        <td>DC Legal</td>\n",
       "    </tr>\n",
       "    <tr>\n",
       "        <td>52</td>\n",
       "        <td>HRGM Corporation</td>\n",
       "    </tr>\n",
       "    <tr>\n",
       "        <td>49</td>\n",
       "        <td>ROC Action</td>\n",
       "    </tr>\n",
       "    <tr>\n",
       "        <td>46</td>\n",
       "        <td>Metropolitan Washington PAC</td>\n",
       "    </tr>\n",
       "    <tr>\n",
       "        <td>45</td>\n",
       "        <td>Lottery Technology Enterprises</td>\n",
       "    </tr>\n",
       "</table>"
      ],
      "text/plain": [
       "[(123, 'SEIU MD/DC State Council'),\n",
       " (108, 'Atlantic Northstar, LLC'),\n",
       " (87, 'SEIU Local 500 Members'),\n",
       " (55, 'Verizon'),\n",
       " (54, 'Session Law Firm'),\n",
       " (53, 'DC Legal'),\n",
       " (52, 'HRGM Corporation'),\n",
       " (49, 'ROC Action'),\n",
       " (46, 'Metropolitan Washington PAC'),\n",
       " (45, 'Lottery Technology Enterprises')]"
      ]
     },
     "execution_count": 38,
     "metadata": {},
     "output_type": "execute_result"
    }
   ],
   "source": [
    "%%sql\n",
    "SELECT COUNT(contributor.name), contributor.name\n",
    "FROM contribution_facts\n",
    "LEFT JOIN contributor\n",
    "ON contributor.contributor_key = contribution_facts.contributor_key\n",
    "WHERE contributor.type = 'Corporation'\n",
    "GROUP BY contributor.name\n",
    "ORDER BY COUNT(contributor.name) DESC\n",
    "LIMIT 10"
   ]
  },
  {
   "cell_type": "code",
   "execution_count": 39,
   "metadata": {},
   "outputs": [
    {
     "data": {
      "text/plain": [
       "<BarContainer object of 10 artists>"
      ]
     },
     "execution_count": 39,
     "metadata": {},
     "output_type": "execute_result"
    },
    {
     "data": {
      "image/png": "[encoded data removed]",
      "text/plain": [
       "<Figure size 432x288 with 1 Axes>"
      ]
     },
     "metadata": {
      "needs_background": "light"
     },
     "output_type": "display_data"
    }
   ],
   "source": [
    "_.bar()"
   ]
  },
  {
   "cell_type": "markdown",
   "metadata": {},
   "source": [
    "__What does the total contribution look like for each year?__"
   ]
  },
  {
   "cell_type": "markdown",
   "metadata": {},
   "source": [
    "First, I use an sql query to solve the problem, the result shows that 2014 has the highest amount while 2017 has the lowest amount of contribution. And the contribution amout of 2017 is extemely lower than other years."
   ]
  },
  {
   "cell_type": "code",
   "execution_count": 48,
   "metadata": {},
   "outputs": [
    {
     "name": "stdout",
     "output_type": "stream",
     "text": [
      " * postgresql://student@/assignment4\n",
      "14 rows affected.\n"
     ]
    },
    {
     "data": {
      "text/html": [
       "<table>\n",
       "    <tr>\n",
       "        <th>election_year</th>\n",
       "        <th>sum</th>\n",
       "    </tr>\n",
       "    <tr>\n",
       "        <td>2002</td>\n",
       "        <td>9518388.30</td>\n",
       "    </tr>\n",
       "    <tr>\n",
       "        <td>2004</td>\n",
       "        <td>7143687.31</td>\n",
       "    </tr>\n",
       "    <tr>\n",
       "        <td>2006</td>\n",
       "        <td>15136070.00</td>\n",
       "    </tr>\n",
       "    <tr>\n",
       "        <td>2007</td>\n",
       "        <td>1968907.67</td>\n",
       "    </tr>\n",
       "    <tr>\n",
       "        <td>2008</td>\n",
       "        <td>4829248.95</td>\n",
       "    </tr>\n",
       "    <tr>\n",
       "        <td>2010</td>\n",
       "        <td>12598725.81</td>\n",
       "    </tr>\n",
       "    <tr>\n",
       "        <td>2011</td>\n",
       "        <td>918029.94</td>\n",
       "    </tr>\n",
       "    <tr>\n",
       "        <td>2012</td>\n",
       "        <td>4655604.08</td>\n",
       "    </tr>\n",
       "    <tr>\n",
       "        <td>2013</td>\n",
       "        <td>1132066.15</td>\n",
       "    </tr>\n",
       "    <tr>\n",
       "        <td>2014</td>\n",
       "        <td>16504496.29</td>\n",
       "    </tr>\n",
       "    <tr>\n",
       "        <td>2015</td>\n",
       "        <td>2943303.10</td>\n",
       "    </tr>\n",
       "    <tr>\n",
       "        <td>2016</td>\n",
       "        <td>4792781.32</td>\n",
       "    </tr>\n",
       "    <tr>\n",
       "        <td>2017</td>\n",
       "        <td>955.19</td>\n",
       "    </tr>\n",
       "    <tr>\n",
       "        <td>2018</td>\n",
       "        <td>6881699.23</td>\n",
       "    </tr>\n",
       "</table>"
      ],
      "text/plain": [
       "[(2002, Decimal('9518388.30')),\n",
       " (2004, Decimal('7143687.31')),\n",
       " (2006, Decimal('15136070.00')),\n",
       " (2007, Decimal('1968907.67')),\n",
       " (2008, Decimal('4829248.95')),\n",
       " (2010, Decimal('12598725.81')),\n",
       " (2011, Decimal('918029.94')),\n",
       " (2012, Decimal('4655604.08')),\n",
       " (2013, Decimal('1132066.15')),\n",
       " (2014, Decimal('16504496.29')),\n",
       " (2015, Decimal('2943303.10')),\n",
       " (2016, Decimal('4792781.32')),\n",
       " (2017, Decimal('955.19')),\n",
       " (2018, Decimal('6881699.23'))]"
      ]
     },
     "execution_count": 48,
     "metadata": {},
     "output_type": "execute_result"
    }
   ],
   "source": [
    "%%sql\n",
    "SELECT campaign.election_year,SUM(contribution_facts.amount)\n",
    "FROM contribution_facts\n",
    "LEFT JOIN campaign\n",
    "ON campaign.campaign_key = contribution_facts.campaign_key\n",
    "GROUP BY campaign.election_year\n",
    "ORDER BY campaign.election_year ASC\n",
    "LIMIT 14"
   ]
  },
  {
   "cell_type": "code",
   "execution_count": 41,
   "metadata": {},
   "outputs": [
    {
     "data": {
      "text/plain": [
       "<BarContainer object of 14 artists>"
      ]
     },
     "execution_count": 41,
     "metadata": {},
     "output_type": "execute_result"
    },
    {
     "data": {
      "image/png": "[encoded data removed]",
      "text/plain": [
       "<Figure size 432x288 with 1 Axes>"
      ]
     },
     "metadata": {
      "needs_background": "light"
     },
     "output_type": "display_data"
    }
   ],
   "source": [
    "_.bar()"
   ]
  },
  {
   "cell_type": "markdown",
   "metadata": {},
   "source": [
    "__Verify the reslut using dataframe__"
   ]
  },
  {
   "cell_type": "code",
   "execution_count": 42,
   "metadata": {},
   "outputs": [],
   "source": [
    "import pandas as pd\n",
    "import matplotlib.pyplot as plt; plt.rcdefaults()\n",
    "import numpy as np\n",
    "import matplotlib.pyplot as plt"
   ]
  },
  {
   "cell_type": "markdown",
   "metadata": {},
   "source": [
    "Import the data into a dataframe"
   ]
  },
  {
   "cell_type": "code",
   "execution_count": 43,
   "metadata": {},
   "outputs": [],
   "source": [
    "df = pd.read_csv('dc_contributions.csv')"
   ]
  },
  {
   "cell_type": "markdown",
   "metadata": {},
   "source": [
    "Using pandas to calculate the amounts of each years. We can see the results is the same by using SQL queries."
   ]
  },
  {
   "cell_type": "code",
   "execution_count": 44,
   "metadata": {},
   "outputs": [
    {
     "data": {
      "text/html": [
       "<div>\n",
       "<style scoped>\n",
       "    .dataframe tbody tr th:only-of-type {\n",
       "        vertical-align: middle;\n",
       "    }\n",
       "\n",
       "    .dataframe tbody tr th {\n",
       "        vertical-align: top;\n",
       "    }\n",
       "\n",
       "    .dataframe thead th {\n",
       "        text-align: right;\n",
       "    }\n",
       "</style>\n",
       "<table border=\"1\" class=\"dataframe\">\n",
       "  <thead>\n",
       "    <tr style=\"text-align: right;\">\n",
       "      <th></th>\n",
       "      <th>amount</th>\n",
       "      <th>year</th>\n",
       "    </tr>\n",
       "  </thead>\n",
       "  <tbody>\n",
       "    <tr>\n",
       "      <th>4</th>\n",
       "      <td>9518388.30</td>\n",
       "      <td>2002</td>\n",
       "    </tr>\n",
       "    <tr>\n",
       "      <th>2</th>\n",
       "      <td>7143687.31</td>\n",
       "      <td>2004</td>\n",
       "    </tr>\n",
       "    <tr>\n",
       "      <th>5</th>\n",
       "      <td>15136070.00</td>\n",
       "      <td>2006</td>\n",
       "    </tr>\n",
       "    <tr>\n",
       "      <th>1</th>\n",
       "      <td>1968907.67</td>\n",
       "      <td>2007</td>\n",
       "    </tr>\n",
       "    <tr>\n",
       "      <th>11</th>\n",
       "      <td>4829248.95</td>\n",
       "      <td>2008</td>\n",
       "    </tr>\n",
       "    <tr>\n",
       "      <th>10</th>\n",
       "      <td>12598725.81</td>\n",
       "      <td>2010</td>\n",
       "    </tr>\n",
       "    <tr>\n",
       "      <th>7</th>\n",
       "      <td>918029.94</td>\n",
       "      <td>2011</td>\n",
       "    </tr>\n",
       "    <tr>\n",
       "      <th>8</th>\n",
       "      <td>4655604.08</td>\n",
       "      <td>2012</td>\n",
       "    </tr>\n",
       "    <tr>\n",
       "      <th>9</th>\n",
       "      <td>1132066.15</td>\n",
       "      <td>2013</td>\n",
       "    </tr>\n",
       "    <tr>\n",
       "      <th>3</th>\n",
       "      <td>16504496.29</td>\n",
       "      <td>2014</td>\n",
       "    </tr>\n",
       "    <tr>\n",
       "      <th>12</th>\n",
       "      <td>2943303.10</td>\n",
       "      <td>2015</td>\n",
       "    </tr>\n",
       "    <tr>\n",
       "      <th>0</th>\n",
       "      <td>4792781.32</td>\n",
       "      <td>2016</td>\n",
       "    </tr>\n",
       "    <tr>\n",
       "      <th>13</th>\n",
       "      <td>955.19</td>\n",
       "      <td>2017</td>\n",
       "    </tr>\n",
       "    <tr>\n",
       "      <th>6</th>\n",
       "      <td>6881699.23</td>\n",
       "      <td>2018</td>\n",
       "    </tr>\n",
       "  </tbody>\n",
       "</table>\n",
       "</div>"
      ],
      "text/plain": [
       "         amount  year\n",
       "4    9518388.30  2002\n",
       "2    7143687.31  2004\n",
       "5   15136070.00  2006\n",
       "1    1968907.67  2007\n",
       "11   4829248.95  2008\n",
       "10  12598725.81  2010\n",
       "7     918029.94  2011\n",
       "8    4655604.08  2012\n",
       "9    1132066.15  2013\n",
       "3   16504496.29  2014\n",
       "12   2943303.10  2015\n",
       "0    4792781.32  2016\n",
       "13       955.19  2017\n",
       "6    6881699.23  2018"
      ]
     },
     "execution_count": 44,
     "metadata": {},
     "output_type": "execute_result"
    }
   ],
   "source": [
    "year = df['ELECTIONYEAR'].unique().tolist()\n",
    "amount = []\n",
    "for i in year:\n",
    "    df_year = df[df.ELECTIONYEAR == i] \n",
    "    amount.append(df_year['AMOUNT'].sum())  \n",
    "df_year = pd.DataFrame({\"year\":year,\"amount\":amount}).sort_values(by=['year']).dropna()\n",
    "df_year['year'] = df_year['year'].astype(int)\n",
    "df_year"
   ]
  },
  {
   "cell_type": "markdown",
   "metadata": {},
   "source": [
    "Then plot the resluts. The bar plot clearly shows that the contribution amout of 2017 is extemely lower than other years."
   ]
  },
  {
   "cell_type": "code",
   "execution_count": 45,
   "metadata": {},
   "outputs": [
    {
     "data": {
      "image/png": "[encoded data removed]",
      "text/plain": [
       "<Figure size 900x600 with 1 Axes>"
      ]
     },
     "metadata": {},
     "output_type": "display_data"
    }
   ],
   "source": [
    "plt.figure(figsize=(9,6))\n",
    "objects = df_year['year'].tolist()\n",
    "y_pos = np.arange(len(objects))\n",
    "performance = df_year['amount'].tolist()\n",
    " \n",
    "plt.bar(y_pos, performance, align='center', alpha=0.5)\n",
    "plt.xticks(y_pos, objects)\n",
    "plt.ylabel('Contribution Amount')\n",
    "plt.title('Contribution Amount Per Year')\n",
    " \n",
    "plt.show()"
   ]
  },
  {
   "cell_type": "markdown",
   "metadata": {},
   "source": [
    "__How much did each contrbution type contributed?__"
   ]
  },
  {
   "cell_type": "markdown",
   "metadata": {},
   "source": [
    "Not surprisingly, the type PCC has the lagest average number of contribution amount among all 27 types."
   ]
  },
  {
   "cell_type": "code",
   "execution_count": 46,
   "metadata": {},
   "outputs": [
    {
     "name": "stdout",
     "output_type": "stream",
     "text": [
      " * postgresql://student@/assignment4\n",
      "27 rows affected.\n"
     ]
    },
    {
     "data": {
      "text/html": [
       "<table>\n",
       "    <tr>\n",
       "        <th>avg</th>\n",
       "        <th>type</th>\n",
       "    </tr>\n",
       "    <tr>\n",
       "        <td>26376.890000000000</td>\n",
       "        <td>PCC</td>\n",
       "    </tr>\n",
       "    <tr>\n",
       "        <td>18230.4700000000000000</td>\n",
       "        <td>transfer of contributions</td>\n",
       "    </tr>\n",
       "    <tr>\n",
       "        <td>7347.2222222222222222</td>\n",
       "        <td>Republican</td>\n",
       "    </tr>\n",
       "    <tr>\n",
       "        <td>5000.0000000000000000</td>\n",
       "        <td>A Multicandidate Qualified Committee</td>\n",
       "    </tr>\n",
       "    <tr>\n",
       "        <td>4483.5456321839080460</td>\n",
       "        <td>Labor</td>\n",
       "    </tr>\n",
       "    <tr>\n",
       "        <td>4295.7618803418803419</td>\n",
       "        <td>Committee</td>\n",
       "    </tr>\n",
       "    <tr>\n",
       "        <td>2122.8358369098712446</td>\n",
       "        <td>Other</td>\n",
       "    </tr>\n",
       "    <tr>\n",
       "        <td>1895.6313286713286713</td>\n",
       "        <td>Corporate Sponsored PAC</td>\n",
       "    </tr>\n",
       "    <tr>\n",
       "        <td>1500.0000000000000000</td>\n",
       "        <td>none</td>\n",
       "    </tr>\n",
       "    <tr>\n",
       "        <td>1217.2029629629629630</td>\n",
       "        <td>Democratic</td>\n",
       "    </tr>\n",
       "    <tr>\n",
       "        <td>1077.2126666666666667</td>\n",
       "        <td>Labor Sponsored PAC</td>\n",
       "    </tr>\n",
       "    <tr>\n",
       "        <td>1058.5880484114977307</td>\n",
       "        <td>Organization</td>\n",
       "    </tr>\n",
       "    <tr>\n",
       "        <td>1003.9730299024791446</td>\n",
       "        <td>Corporation</td>\n",
       "    </tr>\n",
       "    <tr>\n",
       "        <td>1000.2817977528089888</td>\n",
       "        <td>Other PAC or Committee</td>\n",
       "    </tr>\n",
       "    <tr>\n",
       "        <td>975.4046666666666667</td>\n",
       "        <td>Elected Official</td>\n",
       "    </tr>\n",
       "    <tr>\n",
       "        <td>721.2121212121212121</td>\n",
       "        <td>Partnership</td>\n",
       "    </tr>\n",
       "    <tr>\n",
       "        <td>718.6517284991568297</td>\n",
       "        <td>Candidate</td>\n",
       "    </tr>\n",
       "    <tr>\n",
       "        <td>666.4547095010252905</td>\n",
       "        <td>Limited Liability Company</td>\n",
       "    </tr>\n",
       "    <tr>\n",
       "        <td>585.9771428571428571</td>\n",
       "        <td>Explorer</td>\n",
       "    </tr>\n",
       "    <tr>\n",
       "        <td>543.2262500000000000</td>\n",
       "        <td>None</td>\n",
       "    </tr>\n",
       "    <tr>\n",
       "        <td>471.4220000000000000</td>\n",
       "        <td>Senator</td>\n",
       "    </tr>\n",
       "    <tr>\n",
       "        <td>466.1428571428571429</td>\n",
       "        <td>Sole Proprietorship</td>\n",
       "    </tr>\n",
       "    <tr>\n",
       "        <td>458.3333333333333333</td>\n",
       "        <td>PAC</td>\n",
       "    </tr>\n",
       "    <tr>\n",
       "        <td>416.6666666666666667</td>\n",
       "        <td>None</td>\n",
       "    </tr>\n",
       "    <tr>\n",
       "        <td>231.7952451788981195</td>\n",
       "        <td>Individual</td>\n",
       "    </tr>\n",
       "    <tr>\n",
       "        <td>184.2400000000000000</td>\n",
       "        <td>Representative</td>\n",
       "    </tr>\n",
       "    <tr>\n",
       "        <td>20.0000000000000000</td>\n",
       "        <td>Non-partisan</td>\n",
       "    </tr>\n",
       "</table>"
      ],
      "text/plain": [
       "[(Decimal('26376.890000000000'), 'PCC'),\n",
       " (Decimal('18230.4700000000000000'), 'transfer of contributions'),\n",
       " (Decimal('7347.2222222222222222'), 'Republican'),\n",
       " (Decimal('5000.0000000000000000'), 'A Multicandidate Qualified Committee'),\n",
       " (Decimal('4483.5456321839080460'), 'Labor'),\n",
       " (Decimal('4295.7618803418803419'), 'Committee'),\n",
       " (Decimal('2122.8358369098712446'), 'Other'),\n",
       " (Decimal('1895.6313286713286713'), 'Corporate Sponsored PAC'),\n",
       " (Decimal('1500.0000000000000000'), 'none'),\n",
       " (Decimal('1217.2029629629629630'), 'Democratic'),\n",
       " (Decimal('1077.2126666666666667'), 'Labor Sponsored PAC'),\n",
       " (Decimal('1058.5880484114977307'), 'Organization'),\n",
       " (Decimal('1003.9730299024791446'), 'Corporation'),\n",
       " (Decimal('1000.2817977528089888'), 'Other PAC or Committee'),\n",
       " (Decimal('975.4046666666666667'), 'Elected Official'),\n",
       " (Decimal('721.2121212121212121'), 'Partnership'),\n",
       " (Decimal('718.6517284991568297'), 'Candidate'),\n",
       " (Decimal('666.4547095010252905'), 'Limited Liability Company'),\n",
       " (Decimal('585.9771428571428571'), 'Explorer'),\n",
       " (Decimal('543.2262500000000000'), None),\n",
       " (Decimal('471.4220000000000000'), 'Senator'),\n",
       " (Decimal('466.1428571428571429'), 'Sole Proprietorship'),\n",
       " (Decimal('458.3333333333333333'), 'PAC'),\n",
       " (Decimal('416.6666666666666667'), 'None'),\n",
       " (Decimal('231.7952451788981195'), 'Individual'),\n",
       " (Decimal('184.2400000000000000'), 'Representative'),\n",
       " (Decimal('20.0000000000000000'), 'Non-partisan')]"
      ]
     },
     "execution_count": 46,
     "metadata": {},
     "output_type": "execute_result"
    }
   ],
   "source": [
    "%%sql\n",
    "SELECT AVG(amount), contributor.type\n",
    "FROM contribution_facts\n",
    "LEFT JOIN contributor\n",
    "ON contributor.contributor_key = contribution_facts.contributor_key\n",
    "GROUP BY contributor.type\n",
    "ORDER BY AVG(amount) DESC"
   ]
  },
  {
   "cell_type": "code",
   "execution_count": 47,
   "metadata": {},
   "outputs": [
    {
     "data": {
      "text/plain": [
       "<BarContainer object of 27 artists>"
      ]
     },
     "execution_count": 47,
     "metadata": {},
     "output_type": "execute_result"
    },
    {
     "data": {
      "image/png": "[encoded data removed]",
      "text/plain": [
       "<Figure size 640x480 with 1 Axes>"
      ]
     },
     "metadata": {},
     "output_type": "display_data"
    }
   ],
   "source": [
    "_.bar()"
   ]
  }
 ],
 "metadata": {
  "anaconda-cloud": {},
  "kernelspec": {
   "display_name": "Python 3",
   "language": "python",
   "name": "python3"
  },
  "language_info": {
   "codemirror_mode": {
    "name": "ipython",
    "version": 3
   },
   "file_extension": ".py",
   "mimetype": "text/x-python",
   "name": "python",
   "nbconvert_exporter": "python",
   "pygments_lexer": "ipython3",
   "version": "3.6.5"
  }
 },
 "nbformat": 4,
 "nbformat_minor": 2
}
