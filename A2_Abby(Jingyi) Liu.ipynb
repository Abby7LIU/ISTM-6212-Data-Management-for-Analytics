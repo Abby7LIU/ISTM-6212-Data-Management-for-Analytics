{
 "cells": [
  {
   "cell_type": "markdown",
   "metadata": {
    "nbgrader": {
     "grade": false,
     "solution": false
    }
   },
   "source": [
    "Before you turn this problem in, make sure everything runs as expected. First, **restart the kernel** (in the menubar, select Kernel$\\rightarrow$Restart) and then **run all cells** (in the menubar, select Cell$\\rightarrow$Run All).\n",
    "\n",
    "Make sure you fill in any place that says `YOUR CODE HERE` or \"YOUR ANSWER HERE\", as well as your name below:"
   ]
  },
  {
   "cell_type": "code",
   "execution_count": 1,
   "metadata": {
    "collapsed": true,
    "nbgrader": {
     "grade": false,
     "solution": false
    }
   },
   "outputs": [],
   "source": [
    "NAME = \"Abby (Jingyi) Liu\""
   ]
  },
  {
   "cell_type": "markdown",
   "metadata": {
    "nbgrader": {
     "grade": false,
     "solution": false
    }
   },
   "source": [
    "---"
   ]
  },
  {
   "cell_type": "markdown",
   "metadata": {},
   "source": [
    "# Exercise 02 - Due Monday, October 01 at 1:00pm\n",
    "\n",
    "\n",
    "**Objectives**:  Gain experience loading a CSV dataset into a database and using SQL to explore its contents.  Write and execute a number of SQL queries using common syntax and functions.\n",
    "\n",
    "**Grading criteria**: All code cells should be executed with outputs, and questions should all be answered with SQL queries in the space provided, unless a text answer is requested.  The notebook itself should be completely reproducible; from start to finish, another person should be able to use the same code to obtain the same results as yours.\n",
    "\n",
    "For this assignment, you need **not** add narrative description to most of your queries (except where explicitly noted), although you may do so if something you see in the data prompts you.  If you do, add new text cells and use Markdown formatting.\n",
    "\n",
    "**Deadline**: Monday, October 01, 1:00 pm."
   ]
  },
  {
   "cell_type": "markdown",
   "metadata": {},
   "source": [
    "**Suggestion**: if you have worked through the [Software Carpentry SQL lessons](http://swcarpentry.github.io/sql-novice-survey/) and have run through the last two lecture notes notebooks, this should all be fairly easy.  If you have done neither, do them now, before you begin."
   ]
  },
  {
   "cell_type": "markdown",
   "metadata": {},
   "source": [
    "# Part A (50 points)\n",
    "Get the ```survey.db``` SQLite3 database file from the [Software Carpentry lesson](http://swcarpentry.github.io/sql-novice-survey/discussion.html) and connect to it."
   ]
  },
  {
   "cell_type": "code",
   "execution_count": 2,
   "metadata": {},
   "outputs": [
    {
     "name": "stdout",
     "output_type": "stream",
     "text": [
      "--2018-10-01 14:51:49--  http://files.software-carpentry.org/survey.db\n",
      "Resolving files.software-carpentry.org (files.software-carpentry.org)... 52.84.122.50, 52.84.122.184, 52.84.122.114, ...\n",
      "Connecting to files.software-carpentry.org (files.software-carpentry.org)|52.84.122.50|:80... connected.\n",
      "HTTP request sent, awaiting response... 301 Moved Permanently\n",
      "Location: https://files.software-carpentry.org/survey.db [following]\n",
      "--2018-10-01 14:51:50--  https://files.software-carpentry.org/survey.db\n",
      "Connecting to files.software-carpentry.org (files.software-carpentry.org)|52.84.122.50|:443... connected.\n",
      "HTTP request sent, awaiting response... 200 OK\n",
      "Length: 20480 (20K) [application/octet-stream]\n",
      "Saving to: ‘survey.db’\n",
      "\n",
      "survey.db           100%[===================>]  20.00K  --.-KB/s    in 0s      \n",
      "\n",
      "2018-10-01 14:51:50 (45.9 MB/s) - ‘survey.db’ saved [20480/20480]\n",
      "\n"
     ]
    }
   ],
   "source": [
    "!wget -O survey.db http://files.software-carpentry.org/survey.db"
   ]
  },
  {
   "cell_type": "markdown",
   "metadata": {},
   "source": [
    "To work with it, we'll need the ipython-sql extension loaded, and then we'll need to connect to the db."
   ]
  },
  {
   "cell_type": "code",
   "execution_count": 3,
   "metadata": {
    "collapsed": true
   },
   "outputs": [],
   "source": [
    "%load_ext sql"
   ]
  },
  {
   "cell_type": "code",
   "execution_count": 4,
   "metadata": {},
   "outputs": [
    {
     "data": {
      "text/plain": [
       "'Connected: @survey.db'"
      ]
     },
     "execution_count": 4,
     "metadata": {},
     "output_type": "execute_result"
    }
   ],
   "source": [
    "%sql sqlite:///survey.db"
   ]
  },
  {
   "cell_type": "markdown",
   "metadata": {},
   "source": [
    "First, take a look at the data in the tables:"
   ]
  },
  {
   "cell_type": "code",
   "execution_count": 5,
   "metadata": {},
   "outputs": [
    {
     "name": "stdout",
     "output_type": "stream",
     "text": [
      " * sqlite:///survey.db\n",
      "Done.\n"
     ]
    },
    {
     "data": {
      "text/html": [
       "<table>\n",
       "    <tr>\n",
       "        <th>name</th>\n",
       "        <th>lat</th>\n",
       "        <th>long</th>\n",
       "    </tr>\n",
       "    <tr>\n",
       "        <td>DR-1</td>\n",
       "        <td>-49.85</td>\n",
       "        <td>-128.57</td>\n",
       "    </tr>\n",
       "    <tr>\n",
       "        <td>DR-3</td>\n",
       "        <td>-47.15</td>\n",
       "        <td>-126.72</td>\n",
       "    </tr>\n",
       "    <tr>\n",
       "        <td>MSK-4</td>\n",
       "        <td>-48.87</td>\n",
       "        <td>-123.4</td>\n",
       "    </tr>\n",
       "</table>"
      ],
      "text/plain": [
       "[('DR-1', -49.85, -128.57),\n",
       " ('DR-3', -47.15, -126.72),\n",
       " ('MSK-4', -48.87, -123.4)]"
      ]
     },
     "execution_count": 5,
     "metadata": {},
     "output_type": "execute_result"
    }
   ],
   "source": [
    "%sql SELECT * FROM Site;"
   ]
  },
  {
   "cell_type": "code",
   "execution_count": 6,
   "metadata": {},
   "outputs": [
    {
     "name": "stdout",
     "output_type": "stream",
     "text": [
      " * sqlite:///survey.db\n",
      "Done.\n"
     ]
    },
    {
     "data": {
      "text/html": [
       "<table>\n",
       "    <tr>\n",
       "        <th>ident</th>\n",
       "        <th>site</th>\n",
       "        <th>dated</th>\n",
       "    </tr>\n",
       "    <tr>\n",
       "        <td>619</td>\n",
       "        <td>DR-1</td>\n",
       "        <td>1927-02-08</td>\n",
       "    </tr>\n",
       "    <tr>\n",
       "        <td>622</td>\n",
       "        <td>DR-1</td>\n",
       "        <td>1927-02-10</td>\n",
       "    </tr>\n",
       "    <tr>\n",
       "        <td>734</td>\n",
       "        <td>DR-3</td>\n",
       "        <td>1939-01-07</td>\n",
       "    </tr>\n",
       "    <tr>\n",
       "        <td>735</td>\n",
       "        <td>DR-3</td>\n",
       "        <td>1930-01-12</td>\n",
       "    </tr>\n",
       "    <tr>\n",
       "        <td>751</td>\n",
       "        <td>DR-3</td>\n",
       "        <td>1930-02-26</td>\n",
       "    </tr>\n",
       "    <tr>\n",
       "        <td>752</td>\n",
       "        <td>DR-3</td>\n",
       "        <td>None</td>\n",
       "    </tr>\n",
       "    <tr>\n",
       "        <td>837</td>\n",
       "        <td>MSK-4</td>\n",
       "        <td>1932-01-14</td>\n",
       "    </tr>\n",
       "    <tr>\n",
       "        <td>844</td>\n",
       "        <td>DR-1</td>\n",
       "        <td>1932-03-22</td>\n",
       "    </tr>\n",
       "</table>"
      ],
      "text/plain": [
       "[(619, 'DR-1', '1927-02-08'),\n",
       " (622, 'DR-1', '1927-02-10'),\n",
       " (734, 'DR-3', '1939-01-07'),\n",
       " (735, 'DR-3', '1930-01-12'),\n",
       " (751, 'DR-3', '1930-02-26'),\n",
       " (752, 'DR-3', None),\n",
       " (837, 'MSK-4', '1932-01-14'),\n",
       " (844, 'DR-1', '1932-03-22')]"
      ]
     },
     "execution_count": 6,
     "metadata": {},
     "output_type": "execute_result"
    }
   ],
   "source": [
    "%sql SELECT * FROM Visited;"
   ]
  },
  {
   "cell_type": "code",
   "execution_count": 7,
   "metadata": {},
   "outputs": [
    {
     "name": "stdout",
     "output_type": "stream",
     "text": [
      " * sqlite:///survey.db\n",
      "Done.\n"
     ]
    },
    {
     "data": {
      "text/html": [
       "<table>\n",
       "    <tr>\n",
       "        <th>ident</th>\n",
       "        <th>personal</th>\n",
       "        <th>family</th>\n",
       "    </tr>\n",
       "    <tr>\n",
       "        <td>dyer</td>\n",
       "        <td>William</td>\n",
       "        <td>Dyer</td>\n",
       "    </tr>\n",
       "    <tr>\n",
       "        <td>pb</td>\n",
       "        <td>Frank</td>\n",
       "        <td>Pabodie</td>\n",
       "    </tr>\n",
       "    <tr>\n",
       "        <td>lake</td>\n",
       "        <td>Anderson</td>\n",
       "        <td>Lake</td>\n",
       "    </tr>\n",
       "    <tr>\n",
       "        <td>roe</td>\n",
       "        <td>Valentina</td>\n",
       "        <td>Roerich</td>\n",
       "    </tr>\n",
       "    <tr>\n",
       "        <td>danforth</td>\n",
       "        <td>Frank</td>\n",
       "        <td>Danforth</td>\n",
       "    </tr>\n",
       "</table>"
      ],
      "text/plain": [
       "[('dyer', 'William', 'Dyer'),\n",
       " ('pb', 'Frank', 'Pabodie'),\n",
       " ('lake', 'Anderson', 'Lake'),\n",
       " ('roe', 'Valentina', 'Roerich'),\n",
       " ('danforth', 'Frank', 'Danforth')]"
      ]
     },
     "execution_count": 7,
     "metadata": {},
     "output_type": "execute_result"
    }
   ],
   "source": [
    "%sql SELECT * FROM Person;"
   ]
  },
  {
   "cell_type": "code",
   "execution_count": 8,
   "metadata": {},
   "outputs": [
    {
     "name": "stdout",
     "output_type": "stream",
     "text": [
      " * sqlite:///survey.db\n",
      "Done.\n"
     ]
    },
    {
     "data": {
      "text/html": [
       "<table>\n",
       "    <tr>\n",
       "        <th>taken</th>\n",
       "        <th>person</th>\n",
       "        <th>quant</th>\n",
       "        <th>reading</th>\n",
       "    </tr>\n",
       "    <tr>\n",
       "        <td>619</td>\n",
       "        <td>dyer</td>\n",
       "        <td>rad</td>\n",
       "        <td>9.82</td>\n",
       "    </tr>\n",
       "    <tr>\n",
       "        <td>619</td>\n",
       "        <td>dyer</td>\n",
       "        <td>sal</td>\n",
       "        <td>0.13</td>\n",
       "    </tr>\n",
       "    <tr>\n",
       "        <td>622</td>\n",
       "        <td>dyer</td>\n",
       "        <td>rad</td>\n",
       "        <td>7.8</td>\n",
       "    </tr>\n",
       "    <tr>\n",
       "        <td>622</td>\n",
       "        <td>dyer</td>\n",
       "        <td>sal</td>\n",
       "        <td>0.09</td>\n",
       "    </tr>\n",
       "    <tr>\n",
       "        <td>734</td>\n",
       "        <td>pb</td>\n",
       "        <td>rad</td>\n",
       "        <td>8.41</td>\n",
       "    </tr>\n",
       "    <tr>\n",
       "        <td>734</td>\n",
       "        <td>lake</td>\n",
       "        <td>sal</td>\n",
       "        <td>0.05</td>\n",
       "    </tr>\n",
       "    <tr>\n",
       "        <td>734</td>\n",
       "        <td>pb</td>\n",
       "        <td>temp</td>\n",
       "        <td>-21.5</td>\n",
       "    </tr>\n",
       "    <tr>\n",
       "        <td>735</td>\n",
       "        <td>pb</td>\n",
       "        <td>rad</td>\n",
       "        <td>7.22</td>\n",
       "    </tr>\n",
       "    <tr>\n",
       "        <td>735</td>\n",
       "        <td>None</td>\n",
       "        <td>sal</td>\n",
       "        <td>0.06</td>\n",
       "    </tr>\n",
       "    <tr>\n",
       "        <td>735</td>\n",
       "        <td>None</td>\n",
       "        <td>temp</td>\n",
       "        <td>-26.0</td>\n",
       "    </tr>\n",
       "    <tr>\n",
       "        <td>751</td>\n",
       "        <td>pb</td>\n",
       "        <td>rad</td>\n",
       "        <td>4.35</td>\n",
       "    </tr>\n",
       "    <tr>\n",
       "        <td>751</td>\n",
       "        <td>pb</td>\n",
       "        <td>temp</td>\n",
       "        <td>-18.5</td>\n",
       "    </tr>\n",
       "    <tr>\n",
       "        <td>751</td>\n",
       "        <td>lake</td>\n",
       "        <td>sal</td>\n",
       "        <td>0.1</td>\n",
       "    </tr>\n",
       "    <tr>\n",
       "        <td>752</td>\n",
       "        <td>lake</td>\n",
       "        <td>rad</td>\n",
       "        <td>2.19</td>\n",
       "    </tr>\n",
       "    <tr>\n",
       "        <td>752</td>\n",
       "        <td>lake</td>\n",
       "        <td>sal</td>\n",
       "        <td>0.09</td>\n",
       "    </tr>\n",
       "    <tr>\n",
       "        <td>752</td>\n",
       "        <td>lake</td>\n",
       "        <td>temp</td>\n",
       "        <td>-16.0</td>\n",
       "    </tr>\n",
       "    <tr>\n",
       "        <td>752</td>\n",
       "        <td>roe</td>\n",
       "        <td>sal</td>\n",
       "        <td>41.6</td>\n",
       "    </tr>\n",
       "    <tr>\n",
       "        <td>837</td>\n",
       "        <td>lake</td>\n",
       "        <td>rad</td>\n",
       "        <td>1.46</td>\n",
       "    </tr>\n",
       "    <tr>\n",
       "        <td>837</td>\n",
       "        <td>lake</td>\n",
       "        <td>sal</td>\n",
       "        <td>0.21</td>\n",
       "    </tr>\n",
       "    <tr>\n",
       "        <td>837</td>\n",
       "        <td>roe</td>\n",
       "        <td>sal</td>\n",
       "        <td>22.5</td>\n",
       "    </tr>\n",
       "    <tr>\n",
       "        <td>844</td>\n",
       "        <td>roe</td>\n",
       "        <td>rad</td>\n",
       "        <td>11.25</td>\n",
       "    </tr>\n",
       "</table>"
      ],
      "text/plain": [
       "[(619, 'dyer', 'rad', 9.82),\n",
       " (619, 'dyer', 'sal', 0.13),\n",
       " (622, 'dyer', 'rad', 7.8),\n",
       " (622, 'dyer', 'sal', 0.09),\n",
       " (734, 'pb', 'rad', 8.41),\n",
       " (734, 'lake', 'sal', 0.05),\n",
       " (734, 'pb', 'temp', -21.5),\n",
       " (735, 'pb', 'rad', 7.22),\n",
       " (735, None, 'sal', 0.06),\n",
       " (735, None, 'temp', -26.0),\n",
       " (751, 'pb', 'rad', 4.35),\n",
       " (751, 'pb', 'temp', -18.5),\n",
       " (751, 'lake', 'sal', 0.1),\n",
       " (752, 'lake', 'rad', 2.19),\n",
       " (752, 'lake', 'sal', 0.09),\n",
       " (752, 'lake', 'temp', -16.0),\n",
       " (752, 'roe', 'sal', 41.6),\n",
       " (837, 'lake', 'rad', 1.46),\n",
       " (837, 'lake', 'sal', 0.21),\n",
       " (837, 'roe', 'sal', 22.5),\n",
       " (844, 'roe', 'rad', 11.25)]"
      ]
     },
     "execution_count": 8,
     "metadata": {},
     "output_type": "execute_result"
    }
   ],
   "source": [
    "%sql SELECT * FROM Survey;"
   ]
  },
  {
   "cell_type": "markdown",
   "metadata": {},
   "source": [
    "### Question 1\n",
    "\n",
    "Describe in your own words what the following query produces:\n",
    "```\n",
    "SELECT DISTINCT Site.name \n",
    "FROM Site \n",
    "JOIN Visited\n",
    "    ON Site.lat < -49.0 \n",
    "       AND Site.name = Visited.site \n",
    "       AND Visited.dated < '1932-01-01';\n",
    "```"
   ]
  },
  {
   "cell_type": "markdown",
   "metadata": {},
   "source": [
    "#### Question 1 Answer\n",
    "First, from the table 'site', obtain the name column from the table. The 'Distinct' eliminates duplicates and make sure each name just happen once in the output.'JOIN' function merge the table of 'Site' and 'Visited' into one table. It is the typical r*s kind of 'JOIN'. The following 3 lines is the requirement to filter the tables. The rows that selected should satisfy the following requirement:    \n",
    "\n",
    "1. 'lat' column must be smaller than -49.0\n",
    "2. the name column on 'Site' should equal to 'site' column on 'Visted'   \n",
    "3. 'dated' column on 'Visited' should be earlier than '1932-01-01'    \n",
    "\n",
    "To sum up, the query combines the rows from 'Site' and 'Visted' table, slect the rows with the above 3 requirements and then outputs the 'name' column of the selected rows and make sure to eliminate the duplicates 'name'. Thus, the output should be a **1*1 table: DR-1**\n",
    "\n",
    "\n"
   ]
  },
  {
   "cell_type": "markdown",
   "metadata": {},
   "source": [
    "### Question 2\n",
    "Write a query that lists all salinity readings that are out of range (the range should be between 0 and 1) and the persons who are responsible for those readings. The reasult should show name of the site, date of the site visit, the type of measurement taken and its reading, followed by personal name and family name of the person who took the measurement. Tip: you should get 2 records with 6 fields."
   ]
  },
  {
   "cell_type": "code",
   "execution_count": 9,
   "metadata": {},
   "outputs": [
    {
     "name": "stdout",
     "output_type": "stream",
     "text": [
      " * sqlite:///survey.db\n",
      "Done.\n"
     ]
    },
    {
     "data": {
      "text/html": [
       "<table>\n",
       "    <tr>\n",
       "        <th>name</th>\n",
       "        <th>dated</th>\n",
       "        <th>quant</th>\n",
       "        <th>reading</th>\n",
       "        <th>personal</th>\n",
       "        <th>family</th>\n",
       "    </tr>\n",
       "    <tr>\n",
       "        <td>DR-3</td>\n",
       "        <td>None</td>\n",
       "        <td>sal</td>\n",
       "        <td>41.6</td>\n",
       "        <td>Valentina</td>\n",
       "        <td>Roerich</td>\n",
       "    </tr>\n",
       "    <tr>\n",
       "        <td>MSK-4</td>\n",
       "        <td>1932-01-14</td>\n",
       "        <td>sal</td>\n",
       "        <td>22.5</td>\n",
       "        <td>Valentina</td>\n",
       "        <td>Roerich</td>\n",
       "    </tr>\n",
       "</table>"
      ],
      "text/plain": [
       "[('DR-3', None, 'sal', 41.6, 'Valentina', 'Roerich'),\n",
       " ('MSK-4', '1932-01-14', 'sal', 22.5, 'Valentina', 'Roerich')]"
      ]
     },
     "execution_count": 9,
     "metadata": {},
     "output_type": "execute_result"
    }
   ],
   "source": [
    "%%sql \n",
    "SELECT Site.name, Visited.dated, Survey.quant,Survey.reading, Person.personal, Person.family\n",
    "FROM Site\n",
    "JOIN Visited \n",
    "On Site.name = Visited.site\n",
    "JOIN Survey\n",
    "On Visited.ident = Survey.taken\n",
    "JOIN Person\n",
    "ON Survey.person = Person.ident\n",
    "    AND Survey.quant = 'sal'\n",
    "        AND (Survey.reading >1 OR Survey.reading <0)"
   ]
  },
  {
   "cell_type": "markdown",
   "metadata": {},
   "source": [
    "### Question 3\n",
    "After further investigation, we realize that Valentina Roerich was reporting salinity as percentages. Write a query that returns all of her original salinity readings, followed by the readings divided by 100. Use `ROUND` function to round the numbers to three decimal places. Rename these two attributes as \"original_reading\" and \"corrected_reading\". Tip: you should get 2 records."
   ]
  },
  {
   "cell_type": "code",
   "execution_count": 10,
   "metadata": {},
   "outputs": [
    {
     "name": "stdout",
     "output_type": "stream",
     "text": [
      " * sqlite:///survey.db\n",
      "Done.\n"
     ]
    },
    {
     "data": {
      "text/html": [
       "<table>\n",
       "    <tr>\n",
       "        <th>taken</th>\n",
       "        <th>person</th>\n",
       "        <th>quant</th>\n",
       "        <th>original_reading</th>\n",
       "        <th>corrected_reading</th>\n",
       "    </tr>\n",
       "    <tr>\n",
       "        <td>752</td>\n",
       "        <td>roe</td>\n",
       "        <td>sal</td>\n",
       "        <td>41.6</td>\n",
       "        <td>0.416</td>\n",
       "    </tr>\n",
       "    <tr>\n",
       "        <td>837</td>\n",
       "        <td>roe</td>\n",
       "        <td>sal</td>\n",
       "        <td>22.5</td>\n",
       "        <td>0.225</td>\n",
       "    </tr>\n",
       "</table>"
      ],
      "text/plain": [
       "[(752, 'roe', 'sal', 41.6, 0.416), (837, 'roe', 'sal', 22.5, 0.225)]"
      ]
     },
     "execution_count": 10,
     "metadata": {},
     "output_type": "execute_result"
    }
   ],
   "source": [
    "%%sql \n",
    "SELECT taken,person,quant,reading AS original_reading , ROUND(reading/100, 3) corrected_reading\n",
    "FROM Survey\n",
    "WHERE Survey.quant = 'sal'\n",
    "    AND Survey.person = 'roe'\n",
    "    "
   ]
  },
  {
   "cell_type": "markdown",
   "metadata": {},
   "source": [
    "### Question 4\n",
    "Once you are happy with the corrected salinity measurements from Valentina Roerich in the previous question, write one SQL UPDATE statement to correct all of her salinity measurements in the Survey table. For simplicity's sake, you can assume that all the out of range salinity readings were reported by her. Tip: you should see 2 rows updated."
   ]
  },
  {
   "cell_type": "code",
   "execution_count": 11,
   "metadata": {},
   "outputs": [
    {
     "name": "stdout",
     "output_type": "stream",
     "text": [
      " * sqlite:///survey.db\n",
      "2 rows affected.\n"
     ]
    },
    {
     "data": {
      "text/plain": [
       "[]"
      ]
     },
     "execution_count": 11,
     "metadata": {},
     "output_type": "execute_result"
    }
   ],
   "source": [
    "%%sql\n",
    "UPDATE Survey \n",
    "SET reading = ROUND(reading/100, 3)\n",
    "WHERE person = 'roe'\n",
    "    AND quant = 'sal'"
   ]
  },
  {
   "cell_type": "markdown",
   "metadata": {},
   "source": [
    "Write a query that shows her salinity measurements have been fixed."
   ]
  },
  {
   "cell_type": "code",
   "execution_count": 12,
   "metadata": {},
   "outputs": [
    {
     "name": "stdout",
     "output_type": "stream",
     "text": [
      " * sqlite:///survey.db\n",
      "Done.\n"
     ]
    },
    {
     "data": {
      "text/html": [
       "<table>\n",
       "    <tr>\n",
       "        <th>taken</th>\n",
       "        <th>person</th>\n",
       "        <th>quant</th>\n",
       "        <th>reading</th>\n",
       "    </tr>\n",
       "    <tr>\n",
       "        <td>752</td>\n",
       "        <td>roe</td>\n",
       "        <td>sal</td>\n",
       "        <td>0.416</td>\n",
       "    </tr>\n",
       "    <tr>\n",
       "        <td>837</td>\n",
       "        <td>roe</td>\n",
       "        <td>sal</td>\n",
       "        <td>0.225</td>\n",
       "    </tr>\n",
       "</table>"
      ],
      "text/plain": [
       "[(752, 'roe', 'sal', 0.416), (837, 'roe', 'sal', 0.225)]"
      ]
     },
     "execution_count": 12,
     "metadata": {},
     "output_type": "execute_result"
    }
   ],
   "source": [
    "%%sql SELECT * \n",
    "FROM Survey\n",
    "WHERE person = 'roe'\n",
    "    AND quant = 'sal'"
   ]
  },
  {
   "cell_type": "markdown",
   "metadata": {},
   "source": [
    "### Question 5\n",
    "Write a query that shows each site's name with exact location (lat, long), visted date ordered in ascending order, followed by personal name and family name of the person who visited the site and took the survey and the type of measurement taken and its reading. Please avoid all null values. Tip: you should get 15 records with 8 fields."
   ]
  },
  {
   "cell_type": "code",
   "execution_count": 13,
   "metadata": {},
   "outputs": [
    {
     "name": "stdout",
     "output_type": "stream",
     "text": [
      " * sqlite:///survey.db\n",
      "Done.\n"
     ]
    },
    {
     "data": {
      "text/html": [
       "<table>\n",
       "    <tr>\n",
       "        <th>name</th>\n",
       "        <th>lat</th>\n",
       "        <th>long</th>\n",
       "        <th>dated</th>\n",
       "        <th>personal</th>\n",
       "        <th>family</th>\n",
       "        <th>quant</th>\n",
       "        <th>reading</th>\n",
       "    </tr>\n",
       "    <tr>\n",
       "        <td>DR-1</td>\n",
       "        <td>-49.85</td>\n",
       "        <td>-128.57</td>\n",
       "        <td>1927-02-08</td>\n",
       "        <td>William</td>\n",
       "        <td>Dyer</td>\n",
       "        <td>rad</td>\n",
       "        <td>9.82</td>\n",
       "    </tr>\n",
       "    <tr>\n",
       "        <td>DR-1</td>\n",
       "        <td>-49.85</td>\n",
       "        <td>-128.57</td>\n",
       "        <td>1927-02-08</td>\n",
       "        <td>William</td>\n",
       "        <td>Dyer</td>\n",
       "        <td>sal</td>\n",
       "        <td>0.13</td>\n",
       "    </tr>\n",
       "    <tr>\n",
       "        <td>DR-1</td>\n",
       "        <td>-49.85</td>\n",
       "        <td>-128.57</td>\n",
       "        <td>1927-02-10</td>\n",
       "        <td>William</td>\n",
       "        <td>Dyer</td>\n",
       "        <td>rad</td>\n",
       "        <td>7.8</td>\n",
       "    </tr>\n",
       "    <tr>\n",
       "        <td>DR-1</td>\n",
       "        <td>-49.85</td>\n",
       "        <td>-128.57</td>\n",
       "        <td>1927-02-10</td>\n",
       "        <td>William</td>\n",
       "        <td>Dyer</td>\n",
       "        <td>sal</td>\n",
       "        <td>0.09</td>\n",
       "    </tr>\n",
       "    <tr>\n",
       "        <td>DR-3</td>\n",
       "        <td>-47.15</td>\n",
       "        <td>-126.72</td>\n",
       "        <td>1930-01-12</td>\n",
       "        <td>Frank</td>\n",
       "        <td>Pabodie</td>\n",
       "        <td>rad</td>\n",
       "        <td>7.22</td>\n",
       "    </tr>\n",
       "    <tr>\n",
       "        <td>DR-3</td>\n",
       "        <td>-47.15</td>\n",
       "        <td>-126.72</td>\n",
       "        <td>1930-02-26</td>\n",
       "        <td>Anderson</td>\n",
       "        <td>Lake</td>\n",
       "        <td>sal</td>\n",
       "        <td>0.1</td>\n",
       "    </tr>\n",
       "    <tr>\n",
       "        <td>DR-3</td>\n",
       "        <td>-47.15</td>\n",
       "        <td>-126.72</td>\n",
       "        <td>1930-02-26</td>\n",
       "        <td>Frank</td>\n",
       "        <td>Pabodie</td>\n",
       "        <td>rad</td>\n",
       "        <td>4.35</td>\n",
       "    </tr>\n",
       "    <tr>\n",
       "        <td>DR-3</td>\n",
       "        <td>-47.15</td>\n",
       "        <td>-126.72</td>\n",
       "        <td>1930-02-26</td>\n",
       "        <td>Frank</td>\n",
       "        <td>Pabodie</td>\n",
       "        <td>temp</td>\n",
       "        <td>-18.5</td>\n",
       "    </tr>\n",
       "    <tr>\n",
       "        <td>MSK-4</td>\n",
       "        <td>-48.87</td>\n",
       "        <td>-123.4</td>\n",
       "        <td>1932-01-14</td>\n",
       "        <td>Anderson</td>\n",
       "        <td>Lake</td>\n",
       "        <td>rad</td>\n",
       "        <td>1.46</td>\n",
       "    </tr>\n",
       "    <tr>\n",
       "        <td>MSK-4</td>\n",
       "        <td>-48.87</td>\n",
       "        <td>-123.4</td>\n",
       "        <td>1932-01-14</td>\n",
       "        <td>Anderson</td>\n",
       "        <td>Lake</td>\n",
       "        <td>sal</td>\n",
       "        <td>0.21</td>\n",
       "    </tr>\n",
       "    <tr>\n",
       "        <td>MSK-4</td>\n",
       "        <td>-48.87</td>\n",
       "        <td>-123.4</td>\n",
       "        <td>1932-01-14</td>\n",
       "        <td>Valentina</td>\n",
       "        <td>Roerich</td>\n",
       "        <td>sal</td>\n",
       "        <td>0.225</td>\n",
       "    </tr>\n",
       "    <tr>\n",
       "        <td>DR-1</td>\n",
       "        <td>-49.85</td>\n",
       "        <td>-128.57</td>\n",
       "        <td>1932-03-22</td>\n",
       "        <td>Valentina</td>\n",
       "        <td>Roerich</td>\n",
       "        <td>rad</td>\n",
       "        <td>11.25</td>\n",
       "    </tr>\n",
       "    <tr>\n",
       "        <td>DR-3</td>\n",
       "        <td>-47.15</td>\n",
       "        <td>-126.72</td>\n",
       "        <td>1939-01-07</td>\n",
       "        <td>Anderson</td>\n",
       "        <td>Lake</td>\n",
       "        <td>sal</td>\n",
       "        <td>0.05</td>\n",
       "    </tr>\n",
       "    <tr>\n",
       "        <td>DR-3</td>\n",
       "        <td>-47.15</td>\n",
       "        <td>-126.72</td>\n",
       "        <td>1939-01-07</td>\n",
       "        <td>Frank</td>\n",
       "        <td>Pabodie</td>\n",
       "        <td>rad</td>\n",
       "        <td>8.41</td>\n",
       "    </tr>\n",
       "    <tr>\n",
       "        <td>DR-3</td>\n",
       "        <td>-47.15</td>\n",
       "        <td>-126.72</td>\n",
       "        <td>1939-01-07</td>\n",
       "        <td>Frank</td>\n",
       "        <td>Pabodie</td>\n",
       "        <td>temp</td>\n",
       "        <td>-21.5</td>\n",
       "    </tr>\n",
       "</table>"
      ],
      "text/plain": [
       "[('DR-1', -49.85, -128.57, '1927-02-08', 'William', 'Dyer', 'rad', 9.82),\n",
       " ('DR-1', -49.85, -128.57, '1927-02-08', 'William', 'Dyer', 'sal', 0.13),\n",
       " ('DR-1', -49.85, -128.57, '1927-02-10', 'William', 'Dyer', 'rad', 7.8),\n",
       " ('DR-1', -49.85, -128.57, '1927-02-10', 'William', 'Dyer', 'sal', 0.09),\n",
       " ('DR-3', -47.15, -126.72, '1930-01-12', 'Frank', 'Pabodie', 'rad', 7.22),\n",
       " ('DR-3', -47.15, -126.72, '1930-02-26', 'Anderson', 'Lake', 'sal', 0.1),\n",
       " ('DR-3', -47.15, -126.72, '1930-02-26', 'Frank', 'Pabodie', 'rad', 4.35),\n",
       " ('DR-3', -47.15, -126.72, '1930-02-26', 'Frank', 'Pabodie', 'temp', -18.5),\n",
       " ('MSK-4', -48.87, -123.4, '1932-01-14', 'Anderson', 'Lake', 'rad', 1.46),\n",
       " ('MSK-4', -48.87, -123.4, '1932-01-14', 'Anderson', 'Lake', 'sal', 0.21),\n",
       " ('MSK-4', -48.87, -123.4, '1932-01-14', 'Valentina', 'Roerich', 'sal', 0.225),\n",
       " ('DR-1', -49.85, -128.57, '1932-03-22', 'Valentina', 'Roerich', 'rad', 11.25),\n",
       " ('DR-3', -47.15, -126.72, '1939-01-07', 'Anderson', 'Lake', 'sal', 0.05),\n",
       " ('DR-3', -47.15, -126.72, '1939-01-07', 'Frank', 'Pabodie', 'rad', 8.41),\n",
       " ('DR-3', -47.15, -126.72, '1939-01-07', 'Frank', 'Pabodie', 'temp', -21.5)]"
      ]
     },
     "execution_count": 13,
     "metadata": {},
     "output_type": "execute_result"
    }
   ],
   "source": [
    "%%sql \n",
    "SELECT  Site.name, Site.lat, Site.long, Visited.dated, Person.personal, Person.family, Survey.quant, Survey.reading\n",
    "FROM Site\n",
    "JOIN Visited \n",
    "On Site.name = Visited.site\n",
    "JOIN Survey\n",
    "On Visited.ident = Survey.taken\n",
    "JOIN Person\n",
    "ON Survey.person = Person.ident\n",
    "    AND dated IS NOT NULL\n",
    "\n",
    "\n",
    "ORDER BY Visited.dated ASC"
   ]
  },
  {
   "cell_type": "markdown",
   "metadata": {},
   "source": [
    "# Part B (50 points)\n",
    "\n",
    "In this part, we'll download a clean CSV dataset from data.gov, load it into a SQLite database, and perform a series of queries to answer several questions.  For each problem, write and execute queries that provides the answer in the cells provided, with your SQL queries in the places marked.  \n",
    "\n",
    "## Setup - obtain data and create database\n",
    "\n",
    "The [Connecticut DMV Boating Registrations](http://catalog.data.gov/dataset/dmv-boating-registrations-2008-to-2014) dataset comprises several years of summary records.  It is available from data.gov.\n",
    "\n",
    "First we download the dataset:"
   ]
  },
  {
   "cell_type": "code",
   "execution_count": 14,
   "metadata": {
    "collapsed": true
   },
   "outputs": [],
   "source": [
    "!wget --quiet -O boating.csv \"https://data.ct.gov/api/views/mrb6-7ee5/rows.csv?accessType=DOWNLOAD\""
   ]
  },
  {
   "cell_type": "markdown",
   "metadata": {},
   "source": [
    "Verify that it's what we think it is on the commandline:"
   ]
  },
  {
   "cell_type": "code",
   "execution_count": 15,
   "metadata": {},
   "outputs": [
    {
     "name": "stdout",
     "output_type": "stream",
     "text": [
      "| Fiscal Year | Type of Transactions        | No .of Boats |\n",
      "| ----------- | --------------------------- | ------------ |\n",
      "|       2,008 | BOAT CHANGE OF TYPE         |           59 |\n",
      "|       2,009 | BOAT CHANGE OF TYPE         |           50 |\n",
      "|       2,010 | BOAT CHANGE OF TYPE         |           21 |\n",
      "|       2,011 | BOAT CHANGE OF TYPE         |           41 |\n",
      "|       2,012 | BOAT CHANGE OF TYPE         |           16 |\n",
      "|       2,013 | BOAT CHANGE OF TYPE         |           27 |\n",
      "|       2,014 | BOAT CHANGE OF TYPE         |           54 |\n",
      "|       2,008 | BOAT RECORD XFER NO PROBATE |            6 |\n",
      "|       2,009 | BOAT RECORD XFER NO PROBATE |           12 |\n"
     ]
    }
   ],
   "source": [
    "!head boating.csv | csvlook"
   ]
  },
  {
   "cell_type": "markdown",
   "metadata": {},
   "source": [
    "Looks right.  How many records are there?"
   ]
  },
  {
   "cell_type": "code",
   "execution_count": 16,
   "metadata": {},
   "outputs": [
    {
     "name": "stdout",
     "output_type": "stream",
     "text": [
      "145 boating.csv\n"
     ]
    }
   ],
   "source": [
    "!wc -l boating.csv"
   ]
  },
  {
   "cell_type": "markdown",
   "metadata": {},
   "source": [
    "So that should be 145, counting the header.  And the basic stats:"
   ]
  },
  {
   "cell_type": "code",
   "execution_count": 17,
   "metadata": {},
   "outputs": [
    {
     "name": "stdout",
     "output_type": "stream",
     "text": [
      "  1. \"Fiscal Year\"\n",
      "\n",
      "\tType of data:          Number\n",
      "\tContains null values:  False\n",
      "\tUnique values:         7\n",
      "\tSmallest value:        2,008\n",
      "\tLargest value:         2,014\n",
      "\tSum:                   289,578\n",
      "\tMean:                  2,010.958\n",
      "\tMedian:                2,011\n",
      "\tStDev:                 2.003\n",
      "\tMost common values:    2,008 (21x)\n",
      "\t                       2,009 (21x)\n",
      "\t                       2,010 (21x)\n",
      "\t                       2,011 (21x)\n",
      "\t                       2,012 (20x)\n",
      "\n",
      "  2. \"Type of Transactions\"\n",
      "\n",
      "\tType of data:          Text\n",
      "\tContains null values:  False\n",
      "\tUnique values:         21\n",
      "\tLongest value:         32 characters\n",
      "\tMost common values:    BOAT CHANGE OF TYPE (7x)\n",
      "\t                       BOAT RECORD XFER NO PROBATE (7x)\n",
      "\t                       BOAT REG ST OF CONNECTICUT (7x)\n",
      "\t                       BOAT REG, CANOE (7x)\n",
      "\t                       BOAT REG, COMM FISHING (7x)\n",
      "\n",
      "  3. \"No .of Boats\"\n",
      "\n",
      "\tType of data:          Number\n",
      "\tContains null values:  False\n",
      "\tUnique values:         96\n",
      "\tSmallest value:        0\n",
      "\tLargest value:         95,270\n",
      "\tSum:                   767,584\n",
      "\tMean:                  5,330.444\n",
      "\tMedian:                43.5\n",
      "\tStDev:                 19,752.489\n",
      "\tMost common values:    2 (9x)\n",
      "\t                       21 (4x)\n",
      "\t                       16 (4x)\n",
      "\t                       19 (4x)\n",
      "\t                       0 (4x)\n",
      "\n",
      "Row count: 144\n"
     ]
    }
   ],
   "source": [
    "!csvstat boating.csv"
   ]
  },
  {
   "cell_type": "markdown",
   "metadata": {
    "nbgrader": {
     "grade": false,
     "locked": false,
     "solution": false
    }
   },
   "source": [
    "Looks about right!  \n",
    "\n",
    "Note, though, that the column names have spaces, punctuation, and Upper Cased Names.  That's annoying!  First let's rename the file."
   ]
  },
  {
   "cell_type": "code",
   "execution_count": 18,
   "metadata": {
    "collapsed": true
   },
   "outputs": [],
   "source": [
    "!mv boating.csv boating-orig.csv"
   ]
  },
  {
   "cell_type": "markdown",
   "metadata": {},
   "source": [
    "Okay, using output redirection and `tail` we can write a new header line."
   ]
  },
  {
   "cell_type": "code",
   "execution_count": 19,
   "metadata": {
    "collapsed": true
   },
   "outputs": [],
   "source": [
    "!echo \"year,tx_type,num\" > boating.csv"
   ]
  },
  {
   "cell_type": "code",
   "execution_count": 20,
   "metadata": {
    "collapsed": true
   },
   "outputs": [],
   "source": [
    "!tail -n +2 boating-orig.csv >> boating.csv"
   ]
  },
  {
   "cell_type": "code",
   "execution_count": 21,
   "metadata": {},
   "outputs": [
    {
     "name": "stdout",
     "output_type": "stream",
     "text": [
      "|  year | tx_type                     | num |\n",
      "| ----- | --------------------------- | --- |\n",
      "| 2,008 | BOAT CHANGE OF TYPE         |  59 |\n",
      "| 2,009 | BOAT CHANGE OF TYPE         |  50 |\n",
      "| 2,010 | BOAT CHANGE OF TYPE         |  21 |\n",
      "| 2,011 | BOAT CHANGE OF TYPE         |  41 |\n",
      "| 2,012 | BOAT CHANGE OF TYPE         |  16 |\n",
      "| 2,013 | BOAT CHANGE OF TYPE         |  27 |\n",
      "| 2,014 | BOAT CHANGE OF TYPE         |  54 |\n",
      "| 2,008 | BOAT RECORD XFER NO PROBATE |   6 |\n",
      "| 2,009 | BOAT RECORD XFER NO PROBATE |  12 |\n"
     ]
    }
   ],
   "source": [
    "!head boating.csv | csvlook"
   ]
  },
  {
   "cell_type": "markdown",
   "metadata": {},
   "source": [
    "Much easier to work with now."
   ]
  },
  {
   "cell_type": "markdown",
   "metadata": {},
   "source": [
    "Next we convert the updated csv file into a SQLite database using CSVkit. First we remove the database file if it exists, so that we can do it repeatedly."
   ]
  },
  {
   "cell_type": "code",
   "execution_count": 22,
   "metadata": {
    "collapsed": true
   },
   "outputs": [],
   "source": [
    "!rm -f boating.db"
   ]
  },
  {
   "cell_type": "code",
   "execution_count": 23,
   "metadata": {},
   "outputs": [
    {
     "name": "stdout",
     "output_type": "stream",
     "text": [
      "/usr/lib/python3.5/importlib/_bootstrap_external.py:423: ImportWarning: Not importing directory /home/ubuntu/.local/lib/python3.5/site-packages/google: missing __init__\n",
      "/usr/lib/python3.5/importlib/_bootstrap_external.py:423: ImportWarning: Not importing directory /home/ubuntu/.local/lib/python3.5/site-packages/google: missing __init__\n",
      "/usr/lib/python3.5/importlib/_bootstrap_external.py:423: ImportWarning: Not importing directory /home/ubuntu/.local/lib/python3.5/site-packages/google: missing __init__\n",
      "/usr/lib/python3.5/importlib/_bootstrap_external.py:423: ImportWarning: Not importing directory /home/ubuntu/.local/lib/python3.5/site-packages/google: missing __init__\n",
      "/usr/lib/python3.5/importlib/_bootstrap_external.py:423: ImportWarning: Not importing directory /home/ubuntu/.local/lib/python3.5/site-packages/google: missing __init__\n",
      "/usr/lib/python3.5/importlib/_bootstrap_external.py:423: ImportWarning: Not importing directory /home/ubuntu/.local/lib/python3.5/site-packages/google: missing __init__\n",
      "/usr/lib/python3.5/importlib/_bootstrap_external.py:423: ImportWarning: Not importing directory /home/ubuntu/.local/lib/python3.5/site-packages/google: missing __init__\n",
      "/usr/lib/python3.5/importlib/_bootstrap_external.py:423: ImportWarning: Not importing directory /home/ubuntu/.local/lib/python3.5/site-packages/google: missing __init__\n",
      "/usr/lib/python3.5/importlib/_bootstrap_external.py:423: ImportWarning: Not importing directory /home/ubuntu/.local/lib/python3.5/site-packages/google: missing __init__\n",
      "/usr/lib/python3.5/importlib/_bootstrap_external.py:423: ImportWarning: Not importing directory /home/ubuntu/.local/lib/python3.5/site-packages/google: missing __init__\n",
      "/usr/lib/python3.5/importlib/_bootstrap_external.py:423: ImportWarning: Not importing directory /home/ubuntu/.local/lib/python3.5/site-packages/google: missing __init__\n",
      "/usr/lib/python3.5/importlib/_bootstrap_external.py:423: ImportWarning: Not importing directory /home/ubuntu/.local/lib/python3.5/site-packages/google: missing __init__\n",
      "/usr/lib/python3.5/importlib/_bootstrap_external.py:423: ImportWarning: Not importing directory /home/ubuntu/.local/lib/python3.5/site-packages/google: missing __init__\n",
      "/usr/lib/python3.5/importlib/_bootstrap_external.py:423: ImportWarning: Not importing directory /home/ubuntu/.local/lib/python3.5/site-packages/google: missing __init__\n",
      "/usr/lib/python3.5/importlib/_bootstrap_external.py:423: ImportWarning: Not importing directory /home/ubuntu/.local/lib/python3.5/site-packages/google: missing __init__\n",
      "/usr/lib/python3.5/importlib/_bootstrap_external.py:423: ImportWarning: Not importing directory /home/ubuntu/.local/lib/python3.5/site-packages/google: missing __init__\n",
      "/usr/lib/python3.5/importlib/_bootstrap_external.py:423: ImportWarning: Not importing directory /home/ubuntu/.local/lib/python3.5/site-packages/google: missing __init__\n",
      "/usr/lib/python3.5/importlib/_bootstrap_external.py:423: ImportWarning: Not importing directory /home/ubuntu/.local/lib/python3.5/site-packages/google: missing __init__\n",
      "/usr/lib/python3.5/importlib/_bootstrap_external.py:423: ImportWarning: Not importing directory /home/ubuntu/.local/lib/python3.5/site-packages/google: missing __init__\n",
      "/usr/lib/python3.5/importlib/_bootstrap_external.py:423: ImportWarning: Not importing directory /home/ubuntu/.local/lib/python3.5/site-packages/google: missing __init__\n",
      "/usr/lib/python3.5/importlib/_bootstrap_external.py:423: ImportWarning: Not importing directory /home/ubuntu/.local/lib/python3.5/site-packages/google: missing __init__\n",
      "/usr/lib/python3.5/importlib/_bootstrap_external.py:423: ImportWarning: Not importing directory /home/ubuntu/.local/lib/python3.5/site-packages/google: missing __init__\n",
      "/usr/lib/python3.5/importlib/_bootstrap_external.py:423: ImportWarning: Not importing directory /home/ubuntu/.local/lib/python3.5/site-packages/google: missing __init__\n",
      "/usr/lib/python3.5/importlib/_bootstrap_external.py:423: ImportWarning: Not importing directory /home/ubuntu/.local/lib/python3.5/site-packages/google: missing __init__\n",
      "/usr/lib/python3.5/importlib/_bootstrap_external.py:423: ImportWarning: Not importing directory /home/ubuntu/.local/lib/python3.5/site-packages/google: missing __init__\n",
      "/usr/lib/python3.5/importlib/_bootstrap_external.py:423: ImportWarning: Not importing directory /home/ubuntu/.local/lib/python3.5/site-packages/google: missing __init__\n",
      "/usr/lib/python3.5/importlib/_bootstrap_external.py:423: ImportWarning: Not importing directory /home/ubuntu/.local/lib/python3.5/site-packages/google: missing __init__\n",
      "/usr/lib/python3.5/importlib/_bootstrap_external.py:423: ImportWarning: Not importing directory /home/ubuntu/.local/lib/python3.5/site-packages/mpl_toolkits: missing __init__\n",
      "/usr/lib/python3.5/importlib/_bootstrap_external.py:423: ImportWarning: Not importing directory /home/ubuntu/.local/lib/python3.5/site-packages/google: missing __init__\n",
      "/usr/lib/python3.5/importlib/_bootstrap_external.py:423: ImportWarning: Not importing directory /home/ubuntu/.local/lib/python3.5/site-packages/mpl_toolkits: missing __init__\n",
      "/usr/lib/python3.5/importlib/_bootstrap_external.py:423: ImportWarning: Not importing directory /home/ubuntu/.local/lib/python3.5/site-packages/google: missing __init__\n",
      "/usr/lib/python3.5/importlib/_bootstrap_external.py:423: ImportWarning: Not importing directory /home/ubuntu/.local/lib/python3.5/site-packages/mpl_toolkits: missing __init__\n",
      "/usr/lib/python3.5/importlib/_bootstrap_external.py:423: ImportWarning: Not importing directory /home/ubuntu/.local/lib/python3.5/site-packages/google: missing __init__\n",
      "/usr/lib/python3.5/importlib/_bootstrap_external.py:423: ImportWarning: Not importing directory /home/ubuntu/.local/lib/python3.5/site-packages/mpl_toolkits: missing __init__\n",
      "/usr/lib/python3.5/importlib/_bootstrap_external.py:423: ImportWarning: Not importing directory /home/ubuntu/.local/lib/python3.5/site-packages/google: missing __init__\n",
      "/usr/lib/python3.5/importlib/_bootstrap_external.py:423: ImportWarning: Not importing directory /home/ubuntu/.local/lib/python3.5/site-packages/mpl_toolkits: missing __init__\n",
      "/usr/lib/python3.5/importlib/_bootstrap_external.py:423: ImportWarning: Not importing directory /home/ubuntu/.local/lib/python3.5/site-packages/google: missing __init__\n",
      "/usr/lib/python3.5/importlib/_bootstrap_external.py:423: ImportWarning: Not importing directory /home/ubuntu/.local/lib/python3.5/site-packages/mpl_toolkits: missing __init__\n",
      "/usr/lib/python3.5/importlib/_bootstrap_external.py:423: ImportWarning: Not importing directory /home/ubuntu/.local/lib/python3.5/site-packages/google: missing __init__\n",
      "/usr/lib/python3.5/importlib/_bootstrap_external.py:423: ImportWarning: Not importing directory /home/ubuntu/.local/lib/python3.5/site-packages/mpl_toolkits: missing __init__\n",
      "/usr/lib/python3.5/importlib/_bootstrap_external.py:423: ImportWarning: Not importing directory /home/ubuntu/.local/lib/python3.5/site-packages/google: missing __init__\n",
      "/usr/lib/python3.5/importlib/_bootstrap_external.py:423: ImportWarning: Not importing directory /home/ubuntu/.local/lib/python3.5/site-packages/mpl_toolkits: missing __init__\n",
      "/usr/lib/python3.5/importlib/_bootstrap_external.py:423: ImportWarning: Not importing directory /home/ubuntu/.local/lib/python3.5/site-packages/google: missing __init__\n",
      "/usr/lib/python3.5/importlib/_bootstrap_external.py:423: ImportWarning: Not importing directory /home/ubuntu/.local/lib/python3.5/site-packages/mpl_toolkits: missing __init__\n",
      "/usr/lib/python3.5/importlib/_bootstrap_external.py:423: ImportWarning: Not importing directory /home/ubuntu/.local/lib/python3.5/site-packages/google: missing __init__\n",
      "/usr/lib/python3.5/importlib/_bootstrap_external.py:423: ImportWarning: Not importing directory /home/ubuntu/.local/lib/python3.5/site-packages/mpl_toolkits: missing __init__\n",
      "/usr/lib/python3.5/importlib/_bootstrap_external.py:423: ImportWarning: Not importing directory /home/ubuntu/.local/lib/python3.5/site-packages/google: missing __init__\n",
      "/usr/lib/python3.5/importlib/_bootstrap_external.py:423: ImportWarning: Not importing directory /home/ubuntu/.local/lib/python3.5/site-packages/mpl_toolkits: missing __init__\n",
      "/usr/lib/python3.5/importlib/_bootstrap_external.py:423: ImportWarning: Not importing directory /home/ubuntu/.local/lib/python3.5/site-packages/google: missing __init__\n",
      "/usr/lib/python3.5/importlib/_bootstrap_external.py:423: ImportWarning: Not importing directory /home/ubuntu/.local/lib/python3.5/site-packages/mpl_toolkits: missing __init__\n",
      "/usr/lib/python3.5/importlib/_bootstrap_external.py:423: ImportWarning: Not importing directory /home/ubuntu/.local/lib/python3.5/site-packages/google: missing __init__\n",
      "/usr/lib/python3.5/importlib/_bootstrap_external.py:423: ImportWarning: Not importing directory /home/ubuntu/.local/lib/python3.5/site-packages/mpl_toolkits: missing __init__\n",
      "/usr/lib/python3.5/importlib/_bootstrap_external.py:423: ImportWarning: Not importing directory /home/ubuntu/.local/lib/python3.5/site-packages/google: missing __init__\n",
      "/usr/lib/python3.5/importlib/_bootstrap_external.py:423: ImportWarning: Not importing directory /home/ubuntu/.local/lib/python3.5/site-packages/mpl_toolkits: missing __init__\n",
      "/usr/lib/python3.5/importlib/_bootstrap_external.py:423: ImportWarning: Not importing directory /home/ubuntu/.local/lib/python3.5/site-packages/google: missing __init__\n",
      "/usr/lib/python3.5/importlib/_bootstrap_external.py:423: ImportWarning: Not importing directory /home/ubuntu/.local/lib/python3.5/site-packages/mpl_toolkits: missing __init__\n",
      "/usr/lib/python3.5/importlib/_bootstrap_external.py:423: ImportWarning: Not importing directory /home/ubuntu/.local/lib/python3.5/site-packages/google: missing __init__\n",
      "/usr/lib/python3.5/importlib/_bootstrap_external.py:423: ImportWarning: Not importing directory /home/ubuntu/.local/lib/python3.5/site-packages/mpl_toolkits: missing __init__\n",
      "/usr/lib/python3.5/importlib/_bootstrap_external.py:423: ImportWarning: Not importing directory /home/ubuntu/.local/lib/python3.5/site-packages/google: missing __init__\n",
      "/usr/lib/python3.5/importlib/_bootstrap_external.py:423: ImportWarning: Not importing directory /home/ubuntu/.local/lib/python3.5/site-packages/mpl_toolkits: missing __init__\n",
      "/usr/lib/python3.5/importlib/_bootstrap_external.py:423: ImportWarning: Not importing directory /home/ubuntu/.local/lib/python3.5/site-packages/google: missing __init__\n",
      "/usr/lib/python3.5/importlib/_bootstrap_external.py:423: ImportWarning: Not importing directory /home/ubuntu/.local/lib/python3.5/site-packages/mpl_toolkits: missing __init__\n",
      "/usr/lib/python3.5/importlib/_bootstrap_external.py:423: ImportWarning: Not importing directory /home/ubuntu/.local/lib/python3.5/site-packages/google: missing __init__\n",
      "/usr/lib/python3.5/importlib/_bootstrap_external.py:423: ImportWarning: Not importing directory /home/ubuntu/.local/lib/python3.5/site-packages/mpl_toolkits: missing __init__\n",
      "/usr/lib/python3.5/importlib/_bootstrap_external.py:423: ImportWarning: Not importing directory /home/ubuntu/.local/lib/python3.5/site-packages/google: missing __init__\n",
      "/usr/lib/python3.5/importlib/_bootstrap_external.py:423: ImportWarning: Not importing directory /home/ubuntu/.local/lib/python3.5/site-packages/mpl_toolkits: missing __init__\n",
      "/usr/lib/python3.5/importlib/_bootstrap_external.py:423: ImportWarning: Not importing directory /home/ubuntu/.local/lib/python3.5/site-packages/google: missing __init__\n",
      "/usr/lib/python3.5/importlib/_bootstrap_external.py:423: ImportWarning: Not importing directory /home/ubuntu/.local/lib/python3.5/site-packages/mpl_toolkits: missing __init__\n",
      "/usr/lib/python3.5/importlib/_bootstrap_external.py:423: ImportWarning: Not importing directory /home/ubuntu/.local/lib/python3.5/site-packages/google: missing __init__\n",
      "/usr/lib/python3.5/importlib/_bootstrap_external.py:423: ImportWarning: Not importing directory /home/ubuntu/.local/lib/python3.5/site-packages/mpl_toolkits: missing __init__\n",
      "/usr/lib/python3.5/importlib/_bootstrap_external.py:423: ImportWarning: Not importing directory /home/ubuntu/.local/lib/python3.5/site-packages/google: missing __init__\n",
      "/usr/lib/python3.5/importlib/_bootstrap_external.py:423: ImportWarning: Not importing directory /home/ubuntu/.local/lib/python3.5/site-packages/mpl_toolkits: missing __init__\n",
      "/usr/lib/python3.5/importlib/_bootstrap_external.py:423: ImportWarning: Not importing directory /home/ubuntu/.local/lib/python3.5/site-packages/google: missing __init__\n",
      "/usr/lib/python3.5/importlib/_bootstrap_external.py:423: ImportWarning: Not importing directory /home/ubuntu/.local/lib/python3.5/site-packages/mpl_toolkits: missing __init__\n",
      "/usr/lib/python3.5/importlib/_bootstrap_external.py:423: ImportWarning: Not importing directory /home/ubuntu/.local/lib/python3.5/site-packages/google: missing __init__\n",
      "/usr/lib/python3.5/importlib/_bootstrap_external.py:423: ImportWarning: Not importing directory /home/ubuntu/.local/lib/python3.5/site-packages/mpl_toolkits: missing __init__\n",
      "/usr/lib/python3.5/importlib/_bootstrap_external.py:423: ImportWarning: Not importing directory /home/ubuntu/.local/lib/python3.5/site-packages/google: missing __init__\n",
      "/usr/lib/python3.5/importlib/_bootstrap_external.py:423: ImportWarning: Not importing directory /home/ubuntu/.local/lib/python3.5/site-packages/mpl_toolkits: missing __init__\n",
      "/usr/lib/python3.5/importlib/_bootstrap_external.py:423: ImportWarning: Not importing directory /home/ubuntu/.local/lib/python3.5/site-packages/google: missing __init__\n",
      "/usr/lib/python3.5/importlib/_bootstrap_external.py:423: ImportWarning: Not importing directory /home/ubuntu/.local/lib/python3.5/site-packages/mpl_toolkits: missing __init__\n",
      "/usr/lib/python3.5/importlib/_bootstrap_external.py:423: ImportWarning: Not importing directory /home/ubuntu/.local/lib/python3.5/site-packages/google: missing __init__\n",
      "/usr/lib/python3.5/importlib/_bootstrap_external.py:423: ImportWarning: Not importing directory /home/ubuntu/.local/lib/python3.5/site-packages/mpl_toolkits: missing __init__\n",
      "/usr/lib/python3.5/importlib/_bootstrap_external.py:423: ImportWarning: Not importing directory /home/ubuntu/.local/lib/python3.5/site-packages/google: missing __init__\n",
      "/usr/lib/python3.5/importlib/_bootstrap_external.py:423: ImportWarning: Not importing directory /home/ubuntu/.local/lib/python3.5/site-packages/mpl_toolkits: missing __init__\n",
      "/usr/lib/python3.5/importlib/_bootstrap_external.py:423: ImportWarning: Not importing directory /home/ubuntu/.local/lib/python3.5/site-packages/google: missing __init__\n",
      "/usr/lib/python3.5/importlib/_bootstrap_external.py:423: ImportWarning: Not importing directory /home/ubuntu/.local/lib/python3.5/site-packages/mpl_toolkits: missing __init__\n",
      "/usr/lib/python3.5/importlib/_bootstrap_external.py:423: ImportWarning: Not importing directory /home/ubuntu/.local/lib/python3.5/site-packages/google: missing __init__\n",
      "/usr/lib/python3.5/importlib/_bootstrap_external.py:423: ImportWarning: Not importing directory /home/ubuntu/.local/lib/python3.5/site-packages/mpl_toolkits: missing __init__\n",
      "/usr/lib/python3.5/importlib/_bootstrap_external.py:423: ImportWarning: Not importing directory /home/ubuntu/.local/lib/python3.5/site-packages/google: missing __init__\n",
      "/usr/lib/python3.5/importlib/_bootstrap_external.py:423: ImportWarning: Not importing directory /home/ubuntu/.local/lib/python3.5/site-packages/mpl_toolkits: missing __init__\n",
      "/usr/lib/python3.5/importlib/_bootstrap_external.py:423: ImportWarning: Not importing directory /home/ubuntu/.local/lib/python3.5/site-packages/google: missing __init__\n",
      "/usr/lib/python3.5/importlib/_bootstrap_external.py:423: ImportWarning: Not importing directory /home/ubuntu/.local/lib/python3.5/site-packages/mpl_toolkits: missing __init__\n",
      "/usr/lib/python3.5/importlib/_bootstrap_external.py:423: ImportWarning: Not importing directory /home/ubuntu/.local/lib/python3.5/site-packages/google: missing __init__\n",
      "/usr/lib/python3.5/importlib/_bootstrap_external.py:423: ImportWarning: Not importing directory /home/ubuntu/.local/lib/python3.5/site-packages/mpl_toolkits: missing __init__\n",
      "/usr/lib/python3.5/importlib/_bootstrap_external.py:423: ImportWarning: Not importing directory /home/ubuntu/.local/lib/python3.5/site-packages/google: missing __init__\n",
      "/usr/lib/python3.5/importlib/_bootstrap_external.py:423: ImportWarning: Not importing directory /home/ubuntu/.local/lib/python3.5/site-packages/mpl_toolkits: missing __init__\n",
      "/usr/lib/python3.5/importlib/_bootstrap_external.py:423: ImportWarning: Not importing directory /home/ubuntu/.local/lib/python3.5/site-packages/google: missing __init__\n",
      "/usr/lib/python3.5/importlib/_bootstrap_external.py:423: ImportWarning: Not importing directory /home/ubuntu/.local/lib/python3.5/site-packages/mpl_toolkits: missing __init__\n",
      "/usr/lib/python3.5/importlib/_bootstrap_external.py:423: ImportWarning: Not importing directory /home/ubuntu/.local/lib/python3.5/site-packages/google: missing __init__\n",
      "/usr/lib/python3.5/importlib/_bootstrap_external.py:423: ImportWarning: Not importing directory /home/ubuntu/.local/lib/python3.5/site-packages/mpl_toolkits: missing __init__\n",
      "/usr/lib/python3.5/importlib/_bootstrap_external.py:423: ImportWarning: Not importing directory /home/ubuntu/.local/lib/python3.5/site-packages/google: missing __init__\n",
      "/usr/lib/python3.5/importlib/_bootstrap_external.py:423: ImportWarning: Not importing directory /home/ubuntu/.local/lib/python3.5/site-packages/mpl_toolkits: missing __init__\n",
      "/usr/lib/python3.5/importlib/_bootstrap_external.py:423: ImportWarning: Not importing directory /home/ubuntu/.local/lib/python3.5/site-packages/google: missing __init__\n",
      "/usr/lib/python3.5/importlib/_bootstrap_external.py:423: ImportWarning: Not importing directory /home/ubuntu/.local/lib/python3.5/site-packages/mpl_toolkits: missing __init__\n",
      "/usr/lib/python3.5/importlib/_bootstrap_external.py:423: ImportWarning: Not importing directory /home/ubuntu/.local/lib/python3.5/site-packages/google: missing __init__\n",
      "/usr/lib/python3.5/importlib/_bootstrap_external.py:423: ImportWarning: Not importing directory /home/ubuntu/.local/lib/python3.5/site-packages/mpl_toolkits: missing __init__\n",
      "/usr/lib/python3.5/importlib/_bootstrap_external.py:423: ImportWarning: Not importing directory /home/ubuntu/.local/lib/python3.5/site-packages/google: missing __init__\n",
      "/usr/lib/python3.5/importlib/_bootstrap_external.py:423: ImportWarning: Not importing directory /home/ubuntu/.local/lib/python3.5/site-packages/mpl_toolkits: missing __init__\n",
      "/usr/lib/python3.5/importlib/_bootstrap_external.py:423: ImportWarning: Not importing directory /home/ubuntu/.local/lib/python3.5/site-packages/google: missing __init__\n",
      "/usr/lib/python3.5/importlib/_bootstrap_external.py:423: ImportWarning: Not importing directory /home/ubuntu/.local/lib/python3.5/site-packages/mpl_toolkits: missing __init__\n",
      "/usr/lib/python3.5/importlib/_bootstrap_external.py:423: ImportWarning: Not importing directory /home/ubuntu/.local/lib/python3.5/site-packages/google: missing __init__\n",
      "/usr/lib/python3.5/importlib/_bootstrap_external.py:423: ImportWarning: Not importing directory /home/ubuntu/.local/lib/python3.5/site-packages/mpl_toolkits: missing __init__\n",
      "/usr/lib/python3.5/importlib/_bootstrap_external.py:423: ImportWarning: Not importing directory /home/ubuntu/.local/lib/python3.5/site-packages/google: missing __init__\n",
      "/usr/lib/python3.5/importlib/_bootstrap_external.py:423: ImportWarning: Not importing directory /home/ubuntu/.local/lib/python3.5/site-packages/mpl_toolkits: missing __init__\n",
      "/usr/lib/python3.5/importlib/_bootstrap_external.py:423: ImportWarning: Not importing directory /home/ubuntu/.local/lib/python3.5/site-packages/google: missing __init__\n",
      "/usr/lib/python3.5/importlib/_bootstrap_external.py:423: ImportWarning: Not importing directory /home/ubuntu/.local/lib/python3.5/site-packages/mpl_toolkits: missing __init__\n",
      "/usr/lib/python3.5/importlib/_bootstrap_external.py:423: ImportWarning: Not importing directory /home/ubuntu/.local/lib/python3.5/site-packages/google: missing __init__\n",
      "/usr/lib/python3.5/importlib/_bootstrap_external.py:423: ImportWarning: Not importing directory /home/ubuntu/.local/lib/python3.5/site-packages/mpl_toolkits: missing __init__\n",
      "/usr/lib/python3.5/importlib/_bootstrap_external.py:423: ImportWarning: Not importing directory /home/ubuntu/.local/lib/python3.5/site-packages/google: missing __init__\n",
      "/usr/lib/python3.5/importlib/_bootstrap_external.py:423: ImportWarning: Not importing directory /home/ubuntu/.local/lib/python3.5/site-packages/mpl_toolkits: missing __init__\n",
      "/usr/lib/python3.5/importlib/_bootstrap_external.py:423: ImportWarning: Not importing directory /home/ubuntu/.local/lib/python3.5/site-packages/google: missing __init__\n",
      "/usr/lib/python3.5/importlib/_bootstrap_external.py:423: ImportWarning: Not importing directory /home/ubuntu/.local/lib/python3.5/site-packages/mpl_toolkits: missing __init__\n",
      "/usr/lib/python3.5/importlib/_bootstrap_external.py:423: ImportWarning: Not importing directory /home/ubuntu/.local/lib/python3.5/site-packages/google: missing __init__\n",
      "/usr/lib/python3.5/importlib/_bootstrap_external.py:423: ImportWarning: Not importing directory /home/ubuntu/.local/lib/python3.5/site-packages/mpl_toolkits: missing __init__\n",
      "/usr/lib/python3.5/importlib/_bootstrap_external.py:423: ImportWarning: Not importing directory /home/ubuntu/.local/lib/python3.5/site-packages/google: missing __init__\n",
      "/usr/lib/python3.5/importlib/_bootstrap_external.py:423: ImportWarning: Not importing directory /home/ubuntu/.local/lib/python3.5/site-packages/mpl_toolkits: missing __init__\n",
      "/usr/lib/python3.5/importlib/_bootstrap_external.py:423: ImportWarning: Not importing directory /home/ubuntu/.local/lib/python3.5/site-packages/google: missing __init__\n",
      "/usr/lib/python3.5/importlib/_bootstrap_external.py:423: ImportWarning: Not importing directory /home/ubuntu/.local/lib/python3.5/site-packages/mpl_toolkits: missing __init__\n",
      "/usr/lib/python3.5/importlib/_bootstrap_external.py:423: ImportWarning: Not importing directory /home/ubuntu/.local/lib/python3.5/site-packages/google: missing __init__\n",
      "/usr/lib/python3.5/importlib/_bootstrap_external.py:423: ImportWarning: Not importing directory /home/ubuntu/.local/lib/python3.5/site-packages/mpl_toolkits: missing __init__\n",
      "/usr/lib/python3.5/importlib/_bootstrap_external.py:423: ImportWarning: Not importing directory /home/ubuntu/.local/lib/python3.5/site-packages/google: missing __init__\n",
      "/usr/lib/python3.5/importlib/_bootstrap_external.py:423: ImportWarning: Not importing directory /home/ubuntu/.local/lib/python3.5/site-packages/mpl_toolkits: missing __init__\n",
      "/usr/lib/python3.5/importlib/_bootstrap_external.py:423: ImportWarning: Not importing directory /home/ubuntu/.local/lib/python3.5/site-packages/google: missing __init__\n",
      "/usr/lib/python3.5/importlib/_bootstrap_external.py:423: ImportWarning: Not importing directory /home/ubuntu/.local/lib/python3.5/site-packages/mpl_toolkits: missing __init__\n",
      "/usr/lib/python3.5/importlib/_bootstrap_external.py:423: ImportWarning: Not importing directory /home/ubuntu/.local/lib/python3.5/site-packages/google: missing __init__\n",
      "/usr/lib/python3.5/importlib/_bootstrap_external.py:423: ImportWarning: Not importing directory /home/ubuntu/.local/lib/python3.5/site-packages/mpl_toolkits: missing __init__\n",
      "/usr/lib/python3.5/importlib/_bootstrap_external.py:423: ImportWarning: Not importing directory /home/ubuntu/.local/lib/python3.5/site-packages/google: missing __init__\n",
      "/usr/lib/python3.5/importlib/_bootstrap_external.py:423: ImportWarning: Not importing directory /home/ubuntu/.local/lib/python3.5/site-packages/mpl_toolkits: missing __init__\n",
      "/usr/lib/python3.5/importlib/_bootstrap_external.py:423: ImportWarning: Not importing directory /home/ubuntu/.local/lib/python3.5/site-packages/google: missing __init__\n",
      "/usr/lib/python3.5/importlib/_bootstrap_external.py:423: ImportWarning: Not importing directory /home/ubuntu/.local/lib/python3.5/site-packages/mpl_toolkits: missing __init__\n",
      "/usr/lib/python3.5/importlib/_bootstrap_external.py:423: ImportWarning: Not importing directory /home/ubuntu/.local/lib/python3.5/site-packages/google: missing __init__\n",
      "/usr/lib/python3.5/importlib/_bootstrap_external.py:423: ImportWarning: Not importing directory /home/ubuntu/.local/lib/python3.5/site-packages/mpl_toolkits: missing __init__\n",
      "/usr/lib/python3.5/importlib/_bootstrap_external.py:423: ImportWarning: Not importing directory /home/ubuntu/.local/lib/python3.5/site-packages/google: missing __init__\n",
      "/usr/lib/python3.5/importlib/_bootstrap_external.py:423: ImportWarning: Not importing directory /home/ubuntu/.local/lib/python3.5/site-packages/mpl_toolkits: missing __init__\n",
      "/usr/lib/python3.5/importlib/_bootstrap_external.py:423: ImportWarning: Not importing directory /home/ubuntu/.local/lib/python3.5/site-packages/google: missing __init__\n",
      "/usr/lib/python3.5/importlib/_bootstrap_external.py:423: ImportWarning: Not importing directory /home/ubuntu/.local/lib/python3.5/site-packages/mpl_toolkits: missing __init__\n",
      "/usr/lib/python3.5/importlib/_bootstrap_external.py:423: ImportWarning: Not importing directory /home/ubuntu/.local/lib/python3.5/site-packages/google: missing __init__\n",
      "/usr/lib/python3.5/importlib/_bootstrap_external.py:423: ImportWarning: Not importing directory /home/ubuntu/.local/lib/python3.5/site-packages/mpl_toolkits: missing __init__\n",
      "/usr/lib/python3.5/importlib/_bootstrap_external.py:423: ImportWarning: Not importing directory /home/ubuntu/.local/lib/python3.5/site-packages/google: missing __init__\n",
      "/usr/lib/python3.5/importlib/_bootstrap_external.py:423: ImportWarning: Not importing directory /home/ubuntu/.local/lib/python3.5/site-packages/mpl_toolkits: missing __init__\n",
      "/usr/lib/python3.5/importlib/_bootstrap_external.py:423: ImportWarning: Not importing directory /home/ubuntu/.local/lib/python3.5/site-packages/google: missing __init__\n",
      "/usr/lib/python3.5/importlib/_bootstrap_external.py:423: ImportWarning: Not importing directory /home/ubuntu/.local/lib/python3.5/site-packages/mpl_toolkits: missing __init__\n",
      "/usr/lib/python3.5/importlib/_bootstrap_external.py:423: ImportWarning: Not importing directory /home/ubuntu/.local/lib/python3.5/site-packages/google: missing __init__\n",
      "/usr/lib/python3.5/importlib/_bootstrap_external.py:423: ImportWarning: Not importing directory /home/ubuntu/.local/lib/python3.5/site-packages/mpl_toolkits: missing __init__\n",
      "/usr/lib/python3.5/importlib/_bootstrap_external.py:423: ImportWarning: Not importing directory /home/ubuntu/.local/lib/python3.5/site-packages/google: missing __init__\n",
      "/usr/lib/python3.5/importlib/_bootstrap_external.py:423: ImportWarning: Not importing directory /home/ubuntu/.local/lib/python3.5/site-packages/mpl_toolkits: missing __init__\n",
      "/usr/lib/python3.5/importlib/_bootstrap_external.py:423: ImportWarning: Not importing directory /home/ubuntu/.local/lib/python3.5/site-packages/google: missing __init__\n",
      "/usr/lib/python3.5/importlib/_bootstrap_external.py:423: ImportWarning: Not importing directory /home/ubuntu/.local/lib/python3.5/site-packages/mpl_toolkits: missing __init__\n",
      "/usr/lib/python3.5/importlib/_bootstrap_external.py:423: ImportWarning: Not importing directory /home/ubuntu/.local/lib/python3.5/site-packages/google: missing __init__\n",
      "/usr/lib/python3.5/importlib/_bootstrap_external.py:423: ImportWarning: Not importing directory /home/ubuntu/.local/lib/python3.5/site-packages/mpl_toolkits: missing __init__\n",
      "/usr/lib/python3.5/importlib/_bootstrap_external.py:423: ImportWarning: Not importing directory /home/ubuntu/.local/lib/python3.5/site-packages/google: missing __init__\n",
      "/usr/lib/python3.5/importlib/_bootstrap_external.py:423: ImportWarning: Not importing directory /home/ubuntu/.local/lib/python3.5/site-packages/mpl_toolkits: missing __init__\n",
      "/usr/lib/python3.5/importlib/_bootstrap_external.py:423: ImportWarning: Not importing directory /home/ubuntu/.local/lib/python3.5/site-packages/google: missing __init__\n",
      "/usr/lib/python3.5/importlib/_bootstrap_external.py:423: ImportWarning: Not importing directory /home/ubuntu/.local/lib/python3.5/site-packages/mpl_toolkits: missing __init__\n",
      "/usr/lib/python3.5/importlib/_bootstrap_external.py:423: ImportWarning: Not importing directory /home/ubuntu/.local/lib/python3.5/site-packages/google: missing __init__\n",
      "/usr/lib/python3.5/importlib/_bootstrap_external.py:423: ImportWarning: Not importing directory /home/ubuntu/.local/lib/python3.5/site-packages/mpl_toolkits: missing __init__\n",
      "/usr/lib/python3.5/importlib/_bootstrap_external.py:423: ImportWarning: Not importing directory /home/ubuntu/.local/lib/python3.5/site-packages/google: missing __init__\n",
      "/usr/lib/python3.5/importlib/_bootstrap_external.py:423: ImportWarning: Not importing directory /home/ubuntu/.local/lib/python3.5/site-packages/mpl_toolkits: missing __init__\n"
     ]
    }
   ],
   "source": [
    "!csvsql --db sqlite:///boating.db --insert boating.csv"
   ]
  },
  {
   "cell_type": "markdown",
   "metadata": {},
   "source": [
    "Now connect to the newly created database. If you get an error here, make sure file `boating.db` exists, and ipython-sql extension is loaded. You've loaded ipython-sql extension in Part A. "
   ]
  },
  {
   "cell_type": "code",
   "execution_count": 24,
   "metadata": {},
   "outputs": [
    {
     "data": {
      "text/plain": [
       "'Connected: @boating.db'"
      ]
     },
     "execution_count": 24,
     "metadata": {},
     "output_type": "execute_result"
    }
   ],
   "source": [
    "%sql sqlite:///boating.db"
   ]
  },
  {
   "cell_type": "code",
   "execution_count": 25,
   "metadata": {},
   "outputs": [
    {
     "name": "stdout",
     "output_type": "stream",
     "text": [
      " * sqlite:///boating.db\n",
      "   sqlite:///survey.db\n",
      "Done.\n"
     ]
    },
    {
     "data": {
      "text/html": [
       "<table>\n",
       "    <tr>\n",
       "        <th>COUNT(*)</th>\n",
       "    </tr>\n",
       "    <tr>\n",
       "        <td>144</td>\n",
       "    </tr>\n",
       "</table>"
      ],
      "text/plain": [
       "[(144,)]"
      ]
     },
     "execution_count": 25,
     "metadata": {},
     "output_type": "execute_result"
    }
   ],
   "source": [
    "%%sql\n",
    "SELECT COUNT(*)\n",
    "FROM boating;"
   ]
  },
  {
   "cell_type": "markdown",
   "metadata": {},
   "source": [
    "Looks like the same number of rows!  We're good to go."
   ]
  },
  {
   "cell_type": "markdown",
   "metadata": {},
   "source": [
    "## Basic queries\n",
    "\n",
    "In the following queries, we'll do some basic exploration of the data.  Let's first see what a few records look like."
   ]
  },
  {
   "cell_type": "code",
   "execution_count": 26,
   "metadata": {},
   "outputs": [
    {
     "name": "stdout",
     "output_type": "stream",
     "text": [
      " * sqlite:///boating.db\n",
      "   sqlite:///survey.db\n",
      "Done.\n"
     ]
    },
    {
     "data": {
      "text/html": [
       "<table>\n",
       "    <tr>\n",
       "        <th>year</th>\n",
       "        <th>tx_type</th>\n",
       "        <th>num</th>\n",
       "    </tr>\n",
       "    <tr>\n",
       "        <td>2008</td>\n",
       "        <td>BOAT CHANGE OF TYPE</td>\n",
       "        <td>59</td>\n",
       "    </tr>\n",
       "    <tr>\n",
       "        <td>2009</td>\n",
       "        <td>BOAT CHANGE OF TYPE</td>\n",
       "        <td>50</td>\n",
       "    </tr>\n",
       "    <tr>\n",
       "        <td>2010</td>\n",
       "        <td>BOAT CHANGE OF TYPE</td>\n",
       "        <td>21</td>\n",
       "    </tr>\n",
       "    <tr>\n",
       "        <td>2011</td>\n",
       "        <td>BOAT CHANGE OF TYPE</td>\n",
       "        <td>41</td>\n",
       "    </tr>\n",
       "    <tr>\n",
       "        <td>2012</td>\n",
       "        <td>BOAT CHANGE OF TYPE</td>\n",
       "        <td>16</td>\n",
       "    </tr>\n",
       "    <tr>\n",
       "        <td>2013</td>\n",
       "        <td>BOAT CHANGE OF TYPE</td>\n",
       "        <td>27</td>\n",
       "    </tr>\n",
       "    <tr>\n",
       "        <td>2014</td>\n",
       "        <td>BOAT CHANGE OF TYPE</td>\n",
       "        <td>54</td>\n",
       "    </tr>\n",
       "    <tr>\n",
       "        <td>2008</td>\n",
       "        <td>BOAT RECORD XFER NO PROBATE</td>\n",
       "        <td>6</td>\n",
       "    </tr>\n",
       "    <tr>\n",
       "        <td>2009</td>\n",
       "        <td>BOAT RECORD XFER NO PROBATE</td>\n",
       "        <td>12</td>\n",
       "    </tr>\n",
       "    <tr>\n",
       "        <td>2010</td>\n",
       "        <td>BOAT RECORD XFER NO PROBATE</td>\n",
       "        <td>15</td>\n",
       "    </tr>\n",
       "</table>"
      ],
      "text/plain": [
       "[(2008, 'BOAT CHANGE OF TYPE', 59),\n",
       " (2009, 'BOAT CHANGE OF TYPE', 50),\n",
       " (2010, 'BOAT CHANGE OF TYPE', 21),\n",
       " (2011, 'BOAT CHANGE OF TYPE', 41),\n",
       " (2012, 'BOAT CHANGE OF TYPE', 16),\n",
       " (2013, 'BOAT CHANGE OF TYPE', 27),\n",
       " (2014, 'BOAT CHANGE OF TYPE', 54),\n",
       " (2008, 'BOAT RECORD XFER NO PROBATE', 6),\n",
       " (2009, 'BOAT RECORD XFER NO PROBATE', 12),\n",
       " (2010, 'BOAT RECORD XFER NO PROBATE', 15)]"
      ]
     },
     "execution_count": 26,
     "metadata": {},
     "output_type": "execute_result"
    }
   ],
   "source": [
    "%%sql\n",
    "SELECT *\n",
    "FROM boating\n",
    "LIMIT 10;"
   ]
  },
  {
   "cell_type": "markdown",
   "metadata": {},
   "source": [
    "This should look familiar!\n",
    "\n",
    "Let's look at just the \"change\" types."
   ]
  },
  {
   "cell_type": "code",
   "execution_count": 27,
   "metadata": {},
   "outputs": [
    {
     "name": "stdout",
     "output_type": "stream",
     "text": [
      " * sqlite:///boating.db\n",
      "   sqlite:///survey.db\n",
      "Done.\n"
     ]
    },
    {
     "data": {
      "text/html": [
       "<table>\n",
       "    <tr>\n",
       "        <th>year</th>\n",
       "        <th>tx_type</th>\n",
       "        <th>num</th>\n",
       "    </tr>\n",
       "    <tr>\n",
       "        <td>2008</td>\n",
       "        <td>BOAT CHANGE OF TYPE</td>\n",
       "        <td>59</td>\n",
       "    </tr>\n",
       "    <tr>\n",
       "        <td>2009</td>\n",
       "        <td>BOAT CHANGE OF TYPE</td>\n",
       "        <td>50</td>\n",
       "    </tr>\n",
       "    <tr>\n",
       "        <td>2010</td>\n",
       "        <td>BOAT CHANGE OF TYPE</td>\n",
       "        <td>21</td>\n",
       "    </tr>\n",
       "    <tr>\n",
       "        <td>2011</td>\n",
       "        <td>BOAT CHANGE OF TYPE</td>\n",
       "        <td>41</td>\n",
       "    </tr>\n",
       "    <tr>\n",
       "        <td>2012</td>\n",
       "        <td>BOAT CHANGE OF TYPE</td>\n",
       "        <td>16</td>\n",
       "    </tr>\n",
       "    <tr>\n",
       "        <td>2013</td>\n",
       "        <td>BOAT CHANGE OF TYPE</td>\n",
       "        <td>27</td>\n",
       "    </tr>\n",
       "    <tr>\n",
       "        <td>2014</td>\n",
       "        <td>BOAT CHANGE OF TYPE</td>\n",
       "        <td>54</td>\n",
       "    </tr>\n",
       "</table>"
      ],
      "text/plain": [
       "[(2008, 'BOAT CHANGE OF TYPE', 59),\n",
       " (2009, 'BOAT CHANGE OF TYPE', 50),\n",
       " (2010, 'BOAT CHANGE OF TYPE', 21),\n",
       " (2011, 'BOAT CHANGE OF TYPE', 41),\n",
       " (2012, 'BOAT CHANGE OF TYPE', 16),\n",
       " (2013, 'BOAT CHANGE OF TYPE', 27),\n",
       " (2014, 'BOAT CHANGE OF TYPE', 54)]"
      ]
     },
     "execution_count": 27,
     "metadata": {},
     "output_type": "execute_result"
    }
   ],
   "source": [
    "%%sql\n",
    "SELECT *\n",
    "FROM boating\n",
    "WHERE tx_type = \"BOAT CHANGE OF TYPE\";"
   ]
  },
  {
   "cell_type": "markdown",
   "metadata": {},
   "source": [
    "How many records do we have here, and which year had the most?"
   ]
  },
  {
   "cell_type": "code",
   "execution_count": 28,
   "metadata": {},
   "outputs": [
    {
     "name": "stdout",
     "output_type": "stream",
     "text": [
      " * sqlite:///boating.db\n",
      "   sqlite:///survey.db\n",
      "Done.\n"
     ]
    },
    {
     "data": {
      "text/html": [
       "<table>\n",
       "    <tr>\n",
       "        <th>COUNT(*)</th>\n",
       "    </tr>\n",
       "    <tr>\n",
       "        <td>7</td>\n",
       "    </tr>\n",
       "</table>"
      ],
      "text/plain": [
       "[(7,)]"
      ]
     },
     "execution_count": 28,
     "metadata": {},
     "output_type": "execute_result"
    }
   ],
   "source": [
    "%%sql\n",
    "SELECT COUNT(*)\n",
    "FROM boating\n",
    "WHERE tx_type = \"BOAT CHANGE OF TYPE\";"
   ]
  },
  {
   "cell_type": "markdown",
   "metadata": {},
   "source": [
    "Which year had the most of these transactions?"
   ]
  },
  {
   "cell_type": "code",
   "execution_count": 29,
   "metadata": {},
   "outputs": [
    {
     "name": "stdout",
     "output_type": "stream",
     "text": [
      " * sqlite:///boating.db\n",
      "   sqlite:///survey.db\n",
      "Done.\n"
     ]
    },
    {
     "data": {
      "text/html": [
       "<table>\n",
       "    <tr>\n",
       "        <th>year</th>\n",
       "        <th>tx_type</th>\n",
       "        <th>num</th>\n",
       "    </tr>\n",
       "    <tr>\n",
       "        <td>2008</td>\n",
       "        <td>BOAT CHANGE OF TYPE</td>\n",
       "        <td>59</td>\n",
       "    </tr>\n",
       "    <tr>\n",
       "        <td>2014</td>\n",
       "        <td>BOAT CHANGE OF TYPE</td>\n",
       "        <td>54</td>\n",
       "    </tr>\n",
       "    <tr>\n",
       "        <td>2009</td>\n",
       "        <td>BOAT CHANGE OF TYPE</td>\n",
       "        <td>50</td>\n",
       "    </tr>\n",
       "    <tr>\n",
       "        <td>2011</td>\n",
       "        <td>BOAT CHANGE OF TYPE</td>\n",
       "        <td>41</td>\n",
       "    </tr>\n",
       "    <tr>\n",
       "        <td>2013</td>\n",
       "        <td>BOAT CHANGE OF TYPE</td>\n",
       "        <td>27</td>\n",
       "    </tr>\n",
       "    <tr>\n",
       "        <td>2010</td>\n",
       "        <td>BOAT CHANGE OF TYPE</td>\n",
       "        <td>21</td>\n",
       "    </tr>\n",
       "    <tr>\n",
       "        <td>2012</td>\n",
       "        <td>BOAT CHANGE OF TYPE</td>\n",
       "        <td>16</td>\n",
       "    </tr>\n",
       "</table>"
      ],
      "text/plain": [
       "[(2008, 'BOAT CHANGE OF TYPE', 59),\n",
       " (2014, 'BOAT CHANGE OF TYPE', 54),\n",
       " (2009, 'BOAT CHANGE OF TYPE', 50),\n",
       " (2011, 'BOAT CHANGE OF TYPE', 41),\n",
       " (2013, 'BOAT CHANGE OF TYPE', 27),\n",
       " (2010, 'BOAT CHANGE OF TYPE', 21),\n",
       " (2012, 'BOAT CHANGE OF TYPE', 16)]"
      ]
     },
     "execution_count": 29,
     "metadata": {},
     "output_type": "execute_result"
    }
   ],
   "source": [
    "%%sql\n",
    "SELECT *\n",
    "FROM boating\n",
    "WHERE tx_type = \"BOAT CHANGE OF TYPE\"\n",
    "ORDER BY num DESC;"
   ]
  },
  {
   "cell_type": "markdown",
   "metadata": {},
   "source": [
    "...alright, your turn. Before we start, we need to understand the terminology used here: A _record_ refers to a row in our table, it is a summarized record; A _transaction_ refers to registration of an individual boat.  "
   ]
  },
  {
   "cell_type": "markdown",
   "metadata": {},
   "source": [
    "### Question 6\n",
    "\n",
    "Use `DISTINCT` to determine the unique set of transaction types in this dataset. Tip: you should get 21 records."
   ]
  },
  {
   "cell_type": "code",
   "execution_count": 30,
   "metadata": {
    "deletable": false,
    "nbgrader": {
     "checksum": "c42f6a3001d94856f50f32143a1645c2",
     "grade": false,
     "grade_id": "20",
     "locked": false,
     "solution": true
    }
   },
   "outputs": [
    {
     "name": "stdout",
     "output_type": "stream",
     "text": [
      " * sqlite:///boating.db\n",
      "   sqlite:///survey.db\n",
      "Done.\n"
     ]
    },
    {
     "data": {
      "text/html": [
       "<table>\n",
       "    <tr>\n",
       "        <th>tx_type</th>\n",
       "    </tr>\n",
       "    <tr>\n",
       "        <td>BOAT CHANGE OF TYPE</td>\n",
       "    </tr>\n",
       "    <tr>\n",
       "        <td>BOAT RECORD XFER NO PROBATE</td>\n",
       "    </tr>\n",
       "    <tr>\n",
       "        <td>BOAT REG ST OF CONNECTICUT</td>\n",
       "    </tr>\n",
       "    <tr>\n",
       "        <td>BOAT REG, CANOE</td>\n",
       "    </tr>\n",
       "    <tr>\n",
       "        <td>BOAT REG, COMM FISHING</td>\n",
       "    </tr>\n",
       "    <tr>\n",
       "        <td>BOAT REG, EDUCATIONAL</td>\n",
       "    </tr>\n",
       "    <tr>\n",
       "        <td>BOAT REG, NEW</td>\n",
       "    </tr>\n",
       "    <tr>\n",
       "        <td>BOAT REG, NON-PROFIT</td>\n",
       "    </tr>\n",
       "    <tr>\n",
       "        <td>BOAT REG, PONTOON</td>\n",
       "    </tr>\n",
       "    <tr>\n",
       "        <td>BOAT, DUPLICATE REGISTRATION</td>\n",
       "    </tr>\n",
       "    <tr>\n",
       "        <td>BOAT, REMAINDER FEE</td>\n",
       "    </tr>\n",
       "    <tr>\n",
       "        <td>NEW BOAT MILTRY PERSONNEL EXEMPT</td>\n",
       "    </tr>\n",
       "    <tr>\n",
       "        <td>REN BOAT PONTOON</td>\n",
       "    </tr>\n",
       "    <tr>\n",
       "        <td>REN BOAT REGISTRATION</td>\n",
       "    </tr>\n",
       "    <tr>\n",
       "        <td>RENEW BOAT CANOE</td>\n",
       "    </tr>\n",
       "    <tr>\n",
       "        <td>RENEW BOAT COMM FISHING</td>\n",
       "    </tr>\n",
       "    <tr>\n",
       "        <td>RENEW BOAT EDUCATIONAL</td>\n",
       "    </tr>\n",
       "    <tr>\n",
       "        <td>RENEW BOAT FLOTILLA</td>\n",
       "    </tr>\n",
       "    <tr>\n",
       "        <td>RENEW BOAT MILTRY PERSONNEL EXMP</td>\n",
       "    </tr>\n",
       "    <tr>\n",
       "        <td>RENEW BOAT NON-PROFIT</td>\n",
       "    </tr>\n",
       "    <tr>\n",
       "        <td>RENEW BOAT USCG AUX EXEMPT</td>\n",
       "    </tr>\n",
       "</table>"
      ],
      "text/plain": [
       "[('BOAT CHANGE OF TYPE',),\n",
       " ('BOAT RECORD XFER NO PROBATE',),\n",
       " ('BOAT REG ST OF CONNECTICUT',),\n",
       " ('BOAT REG, CANOE',),\n",
       " ('BOAT REG, COMM FISHING',),\n",
       " ('BOAT REG, EDUCATIONAL',),\n",
       " ('BOAT REG, NEW',),\n",
       " ('BOAT REG, NON-PROFIT',),\n",
       " ('BOAT REG, PONTOON',),\n",
       " ('BOAT, DUPLICATE REGISTRATION',),\n",
       " ('BOAT, REMAINDER FEE',),\n",
       " ('NEW BOAT MILTRY PERSONNEL EXEMPT',),\n",
       " ('REN BOAT PONTOON',),\n",
       " ('REN BOAT REGISTRATION',),\n",
       " ('RENEW BOAT CANOE',),\n",
       " ('RENEW BOAT COMM FISHING',),\n",
       " ('RENEW BOAT EDUCATIONAL',),\n",
       " ('RENEW BOAT FLOTILLA',),\n",
       " ('RENEW BOAT MILTRY PERSONNEL EXMP',),\n",
       " ('RENEW BOAT NON-PROFIT',),\n",
       " ('RENEW BOAT USCG AUX EXEMPT',)]"
      ]
     },
     "execution_count": 30,
     "metadata": {},
     "output_type": "execute_result"
    }
   ],
   "source": [
    "%%sql\n",
    "SELECT DISTINCT tx_type\n",
    "FROM boating"
   ]
  },
  {
   "cell_type": "markdown",
   "metadata": {},
   "source": [
    "### Question 7\n",
    "\n",
    "Use `SUM` and `GROUP BY` to determine the overall number of transactions (across all years) per transaction type."
   ]
  },
  {
   "cell_type": "code",
   "execution_count": 31,
   "metadata": {
    "deletable": false,
    "nbgrader": {
     "checksum": "eebfff56ecce6571e4558b1033ef12a0",
     "grade": false,
     "grade_id": "40",
     "locked": false,
     "solution": true
    }
   },
   "outputs": [
    {
     "name": "stdout",
     "output_type": "stream",
     "text": [
      " * sqlite:///boating.db\n",
      "   sqlite:///survey.db\n",
      "Done.\n"
     ]
    },
    {
     "data": {
      "text/html": [
       "<table>\n",
       "    <tr>\n",
       "        <th>tx_type</th>\n",
       "        <th>SUM(num)</th>\n",
       "    </tr>\n",
       "    <tr>\n",
       "        <td>BOAT CHANGE OF TYPE</td>\n",
       "        <td>268</td>\n",
       "    </tr>\n",
       "    <tr>\n",
       "        <td>BOAT RECORD XFER NO PROBATE</td>\n",
       "        <td>105</td>\n",
       "    </tr>\n",
       "    <tr>\n",
       "        <td>BOAT REG ST OF CONNECTICUT</td>\n",
       "        <td>159</td>\n",
       "    </tr>\n",
       "    <tr>\n",
       "        <td>BOAT REG, CANOE</td>\n",
       "        <td>1129</td>\n",
       "    </tr>\n",
       "    <tr>\n",
       "        <td>BOAT REG, COMM FISHING</td>\n",
       "        <td>114</td>\n",
       "    </tr>\n",
       "    <tr>\n",
       "        <td>BOAT REG, EDUCATIONAL</td>\n",
       "        <td>15</td>\n",
       "    </tr>\n",
       "    <tr>\n",
       "        <td>BOAT REG, NEW</td>\n",
       "        <td>86821</td>\n",
       "    </tr>\n",
       "    <tr>\n",
       "        <td>BOAT REG, NON-PROFIT</td>\n",
       "        <td>106</td>\n",
       "    </tr>\n",
       "    <tr>\n",
       "        <td>BOAT REG, PONTOON</td>\n",
       "        <td>2241</td>\n",
       "    </tr>\n",
       "    <tr>\n",
       "        <td>BOAT, DUPLICATE REGISTRATION</td>\n",
       "        <td>2390</td>\n",
       "    </tr>\n",
       "    <tr>\n",
       "        <td>BOAT, REMAINDER FEE</td>\n",
       "        <td>1043</td>\n",
       "    </tr>\n",
       "    <tr>\n",
       "        <td>NEW BOAT MILTRY PERSONNEL EXEMPT</td>\n",
       "        <td>251</td>\n",
       "    </tr>\n",
       "    <tr>\n",
       "        <td>REN BOAT PONTOON</td>\n",
       "        <td>15556</td>\n",
       "    </tr>\n",
       "    <tr>\n",
       "        <td>REN BOAT REGISTRATION</td>\n",
       "        <td>640790</td>\n",
       "    </tr>\n",
       "    <tr>\n",
       "        <td>RENEW BOAT CANOE</td>\n",
       "        <td>14551</td>\n",
       "    </tr>\n",
       "    <tr>\n",
       "        <td>RENEW BOAT COMM FISHING</td>\n",
       "        <td>1244</td>\n",
       "    </tr>\n",
       "    <tr>\n",
       "        <td>RENEW BOAT EDUCATIONAL</td>\n",
       "        <td>16</td>\n",
       "    </tr>\n",
       "    <tr>\n",
       "        <td>RENEW BOAT FLOTILLA</td>\n",
       "        <td>8</td>\n",
       "    </tr>\n",
       "    <tr>\n",
       "        <td>RENEW BOAT MILTRY PERSONNEL EXMP</td>\n",
       "        <td>507</td>\n",
       "    </tr>\n",
       "    <tr>\n",
       "        <td>RENEW BOAT NON-PROFIT</td>\n",
       "        <td>131</td>\n",
       "    </tr>\n",
       "    <tr>\n",
       "        <td>RENEW BOAT USCG AUX EXEMPT</td>\n",
       "        <td>139</td>\n",
       "    </tr>\n",
       "</table>"
      ],
      "text/plain": [
       "[('BOAT CHANGE OF TYPE', 268),\n",
       " ('BOAT RECORD XFER NO PROBATE', 105),\n",
       " ('BOAT REG ST OF CONNECTICUT', 159),\n",
       " ('BOAT REG, CANOE', 1129),\n",
       " ('BOAT REG, COMM FISHING', 114),\n",
       " ('BOAT REG, EDUCATIONAL', 15),\n",
       " ('BOAT REG, NEW', 86821),\n",
       " ('BOAT REG, NON-PROFIT', 106),\n",
       " ('BOAT REG, PONTOON', 2241),\n",
       " ('BOAT, DUPLICATE REGISTRATION', 2390),\n",
       " ('BOAT, REMAINDER FEE', 1043),\n",
       " ('NEW BOAT MILTRY PERSONNEL EXEMPT', 251),\n",
       " ('REN BOAT PONTOON', 15556),\n",
       " ('REN BOAT REGISTRATION', 640790),\n",
       " ('RENEW BOAT CANOE', 14551),\n",
       " ('RENEW BOAT COMM FISHING', 1244),\n",
       " ('RENEW BOAT EDUCATIONAL', 16),\n",
       " ('RENEW BOAT FLOTILLA', 8),\n",
       " ('RENEW BOAT MILTRY PERSONNEL EXMP', 507),\n",
       " ('RENEW BOAT NON-PROFIT', 131),\n",
       " ('RENEW BOAT USCG AUX EXEMPT', 139)]"
      ]
     },
     "execution_count": 31,
     "metadata": {},
     "output_type": "execute_result"
    }
   ],
   "source": [
    "%%sql\n",
    "SELECT tx_type, SUM(num)\n",
    "FROM boating\n",
    "GROUP BY tx_type"
   ]
  },
  {
   "cell_type": "markdown",
   "metadata": {},
   "source": [
    "### Question 8\n",
    "\n",
    "Use `ORDER BY` and `LIMIT` to determine the top five types of transactions overall."
   ]
  },
  {
   "cell_type": "code",
   "execution_count": 32,
   "metadata": {
    "deletable": false,
    "nbgrader": {
     "checksum": "fe8cdcd2cee150ec46eeae80c112ef48",
     "grade": false,
     "grade_id": "50",
     "locked": false,
     "solution": true
    }
   },
   "outputs": [
    {
     "name": "stdout",
     "output_type": "stream",
     "text": [
      " * sqlite:///boating.db\n",
      "   sqlite:///survey.db\n",
      "Done.\n"
     ]
    },
    {
     "data": {
      "text/html": [
       "<table>\n",
       "    <tr>\n",
       "        <th>tx_type</th>\n",
       "    </tr>\n",
       "    <tr>\n",
       "        <td>REN BOAT REGISTRATION</td>\n",
       "    </tr>\n",
       "    <tr>\n",
       "        <td>BOAT REG, NEW</td>\n",
       "    </tr>\n",
       "    <tr>\n",
       "        <td>REN BOAT PONTOON</td>\n",
       "    </tr>\n",
       "    <tr>\n",
       "        <td>RENEW BOAT CANOE</td>\n",
       "    </tr>\n",
       "    <tr>\n",
       "        <td>BOAT, DUPLICATE REGISTRATION</td>\n",
       "    </tr>\n",
       "</table>"
      ],
      "text/plain": [
       "[('REN BOAT REGISTRATION',),\n",
       " ('BOAT REG, NEW',),\n",
       " ('REN BOAT PONTOON',),\n",
       " ('RENEW BOAT CANOE',),\n",
       " ('BOAT, DUPLICATE REGISTRATION',)]"
      ]
     },
     "execution_count": 32,
     "metadata": {},
     "output_type": "execute_result"
    }
   ],
   "source": [
    "%%sql\n",
    "SELECT tx_type\n",
    "FROM boating\n",
    "GROUP BY tx_type\n",
    "ORDER by SUM(num) DESC\n",
    "LIMIT 5"
   ]
  },
  {
   "cell_type": "markdown",
   "metadata": {},
   "source": [
    "### Question 9\n",
    "\n",
    "Use a wildcard search to determine how many _transactions_ in 2012 involve canoes?"
   ]
  },
  {
   "cell_type": "code",
   "execution_count": 33,
   "metadata": {
    "deletable": false,
    "nbgrader": {
     "checksum": "f5e45b49fcf5d0597154f486f7e54ff9",
     "grade": false,
     "grade_id": "80",
     "locked": false,
     "solution": true
    }
   },
   "outputs": [
    {
     "name": "stdout",
     "output_type": "stream",
     "text": [
      " * sqlite:///boating.db\n",
      "   sqlite:///survey.db\n",
      "Done.\n"
     ]
    },
    {
     "data": {
      "text/html": [
       "<table>\n",
       "    <tr>\n",
       "        <th>Number_of_transactions_in_2012_involve_canoes</th>\n",
       "    </tr>\n",
       "    <tr>\n",
       "        <td>2133</td>\n",
       "    </tr>\n",
       "</table>"
      ],
      "text/plain": [
       "[(2133,)]"
      ]
     },
     "execution_count": 33,
     "metadata": {},
     "output_type": "execute_result"
    }
   ],
   "source": [
    "%%sql\n",
    "SELECT SUM(num) AS Number_of_transactions_in_2012_involve_canoes\n",
    "FROM boating\n",
    "\n",
    "WHERE tx_type LIKE '%CANOE%'\n",
    "    AND year = '2012'\n",
    "    "
   ]
  },
  {
   "cell_type": "markdown",
   "metadata": {},
   "source": [
    "### Question 10\n",
    "\n",
    "How do the transaction trends over time involving pontoons compare to overall boating transaction activity?  Discuss as appropriate, adding Markdown cells for your discussion after your exploratory queries."
   ]
  },
  {
   "cell_type": "markdown",
   "metadata": {},
   "source": [
    "#### 1 The trends over time involving pontoons"
   ]
  },
  {
   "cell_type": "code",
   "execution_count": 34,
   "metadata": {},
   "outputs": [
    {
     "name": "stdout",
     "output_type": "stream",
     "text": [
      " * sqlite:///boating.db\n",
      "   sqlite:///survey.db\n",
      "Done.\n"
     ]
    },
    {
     "data": {
      "text/html": [
       "<table>\n",
       "    <tr>\n",
       "        <th>year</th>\n",
       "        <th>sum(num)</th>\n",
       "    </tr>\n",
       "    <tr>\n",
       "        <td>2008</td>\n",
       "        <td>2283</td>\n",
       "    </tr>\n",
       "    <tr>\n",
       "        <td>2009</td>\n",
       "        <td>2350</td>\n",
       "    </tr>\n",
       "    <tr>\n",
       "        <td>2010</td>\n",
       "        <td>2410</td>\n",
       "    </tr>\n",
       "    <tr>\n",
       "        <td>2011</td>\n",
       "        <td>2495</td>\n",
       "    </tr>\n",
       "    <tr>\n",
       "        <td>2012</td>\n",
       "        <td>2658</td>\n",
       "    </tr>\n",
       "    <tr>\n",
       "        <td>2013</td>\n",
       "        <td>2781</td>\n",
       "    </tr>\n",
       "    <tr>\n",
       "        <td>2014</td>\n",
       "        <td>2820</td>\n",
       "    </tr>\n",
       "</table>"
      ],
      "text/plain": [
       "[(2008, 2283),\n",
       " (2009, 2350),\n",
       " (2010, 2410),\n",
       " (2011, 2495),\n",
       " (2012, 2658),\n",
       " (2013, 2781),\n",
       " (2014, 2820)]"
      ]
     },
     "execution_count": 34,
     "metadata": {},
     "output_type": "execute_result"
    }
   ],
   "source": [
    "%%sql\n",
    "SELECT year, sum(num)\n",
    "FROM boating\n",
    "WHERE tx_type LIKE '%PONTOON%'\n",
    "GROUP BY year"
   ]
  },
  {
   "cell_type": "markdown",
   "metadata": {},
   "source": [
    "#### 1 The overall trends "
   ]
  },
  {
   "cell_type": "code",
   "execution_count": 35,
   "metadata": {},
   "outputs": [
    {
     "name": "stdout",
     "output_type": "stream",
     "text": [
      " * sqlite:///boating.db\n",
      "   sqlite:///survey.db\n",
      "Done.\n"
     ]
    },
    {
     "data": {
      "text/html": [
       "<table>\n",
       "    <tr>\n",
       "        <th>year</th>\n",
       "        <th>sum(num)</th>\n",
       "    </tr>\n",
       "    <tr>\n",
       "        <td>2008</td>\n",
       "        <td>115520</td>\n",
       "    </tr>\n",
       "    <tr>\n",
       "        <td>2009</td>\n",
       "        <td>113198</td>\n",
       "    </tr>\n",
       "    <tr>\n",
       "        <td>2010</td>\n",
       "        <td>112337</td>\n",
       "    </tr>\n",
       "    <tr>\n",
       "        <td>2011</td>\n",
       "        <td>109962</td>\n",
       "    </tr>\n",
       "    <tr>\n",
       "        <td>2012</td>\n",
       "        <td>107608</td>\n",
       "    </tr>\n",
       "    <tr>\n",
       "        <td>2013</td>\n",
       "        <td>105375</td>\n",
       "    </tr>\n",
       "    <tr>\n",
       "        <td>2014</td>\n",
       "        <td>103584</td>\n",
       "    </tr>\n",
       "</table>"
      ],
      "text/plain": [
       "[(2008, 115520),\n",
       " (2009, 113198),\n",
       " (2010, 112337),\n",
       " (2011, 109962),\n",
       " (2012, 107608),\n",
       " (2013, 105375),\n",
       " (2014, 103584)]"
      ]
     },
     "execution_count": 35,
     "metadata": {},
     "output_type": "execute_result"
    }
   ],
   "source": [
    "%%sql\n",
    "SELECT year, sum(num)\n",
    "FROM boating\n",
    "GROUP BY year"
   ]
  },
  {
   "cell_type": "markdown",
   "metadata": {},
   "source": [
    "Although the overall trends of transactions are decreasing, there is an increasing trend for the type of boats of 'BOAT REG, PONTOON' and 'REN BOAT PONTOON'. "
   ]
  },
  {
   "cell_type": "markdown",
   "metadata": {},
   "source": [
    "### Bonus (10 points)\n",
    "\n",
    "Make a plot (inline, here, using python) that demonstrates one or more overall trends in boat registrations in Connecticut, drawing data directly from the database."
   ]
  },
  {
   "cell_type": "code",
   "execution_count": 36,
   "metadata": {},
   "outputs": [],
   "source": [
    "import pandas as pd\n",
    "import matplotlib.pyplot as plt \n",
    "import matplotlib "
   ]
  },
  {
   "cell_type": "markdown",
   "metadata": {},
   "source": [
    "Read the csv file as a dataframe"
   ]
  },
  {
   "cell_type": "code",
   "execution_count": 37,
   "metadata": {},
   "outputs": [
    {
     "data": {
      "text/html": [
       "<div>\n",
       "<style scoped>\n",
       "    .dataframe tbody tr th:only-of-type {\n",
       "        vertical-align: middle;\n",
       "    }\n",
       "\n",
       "    .dataframe tbody tr th {\n",
       "        vertical-align: top;\n",
       "    }\n",
       "\n",
       "    .dataframe thead th {\n",
       "        text-align: right;\n",
       "    }\n",
       "</style>\n",
       "<table border=\"1\" class=\"dataframe\">\n",
       "  <thead>\n",
       "    <tr style=\"text-align: right;\">\n",
       "      <th></th>\n",
       "      <th>year</th>\n",
       "      <th>tx_type</th>\n",
       "      <th>num</th>\n",
       "    </tr>\n",
       "  </thead>\n",
       "  <tbody>\n",
       "    <tr>\n",
       "      <th>0</th>\n",
       "      <td>2008</td>\n",
       "      <td>BOAT CHANGE OF TYPE</td>\n",
       "      <td>59</td>\n",
       "    </tr>\n",
       "    <tr>\n",
       "      <th>1</th>\n",
       "      <td>2009</td>\n",
       "      <td>BOAT CHANGE OF TYPE</td>\n",
       "      <td>50</td>\n",
       "    </tr>\n",
       "    <tr>\n",
       "      <th>2</th>\n",
       "      <td>2010</td>\n",
       "      <td>BOAT CHANGE OF TYPE</td>\n",
       "      <td>21</td>\n",
       "    </tr>\n",
       "    <tr>\n",
       "      <th>3</th>\n",
       "      <td>2011</td>\n",
       "      <td>BOAT CHANGE OF TYPE</td>\n",
       "      <td>41</td>\n",
       "    </tr>\n",
       "    <tr>\n",
       "      <th>4</th>\n",
       "      <td>2012</td>\n",
       "      <td>BOAT CHANGE OF TYPE</td>\n",
       "      <td>16</td>\n",
       "    </tr>\n",
       "  </tbody>\n",
       "</table>\n",
       "</div>"
      ],
      "text/plain": [
       "   year              tx_type  num\n",
       "0  2008  BOAT CHANGE OF TYPE   59\n",
       "1  2009  BOAT CHANGE OF TYPE   50\n",
       "2  2010  BOAT CHANGE OF TYPE   21\n",
       "3  2011  BOAT CHANGE OF TYPE   41\n",
       "4  2012  BOAT CHANGE OF TYPE   16"
      ]
     },
     "execution_count": 37,
     "metadata": {},
     "output_type": "execute_result"
    }
   ],
   "source": [
    "df = pd.read_csv('boating.csv')\n",
    "df.head()"
   ]
  },
  {
   "cell_type": "markdown",
   "metadata": {},
   "source": [
    "Calculate the overall transactions per year"
   ]
  },
  {
   "cell_type": "code",
   "execution_count": 38,
   "metadata": {},
   "outputs": [
    {
     "data": {
      "text/html": [
       "<div>\n",
       "<style scoped>\n",
       "    .dataframe tbody tr th:only-of-type {\n",
       "        vertical-align: middle;\n",
       "    }\n",
       "\n",
       "    .dataframe tbody tr th {\n",
       "        vertical-align: top;\n",
       "    }\n",
       "\n",
       "    .dataframe thead th {\n",
       "        text-align: right;\n",
       "    }\n",
       "</style>\n",
       "<table border=\"1\" class=\"dataframe\">\n",
       "  <thead>\n",
       "    <tr style=\"text-align: right;\">\n",
       "      <th></th>\n",
       "      <th>num</th>\n",
       "    </tr>\n",
       "    <tr>\n",
       "      <th>year</th>\n",
       "      <th></th>\n",
       "    </tr>\n",
       "  </thead>\n",
       "  <tbody>\n",
       "    <tr>\n",
       "      <th>2008</th>\n",
       "      <td>115520</td>\n",
       "    </tr>\n",
       "    <tr>\n",
       "      <th>2009</th>\n",
       "      <td>113198</td>\n",
       "    </tr>\n",
       "    <tr>\n",
       "      <th>2010</th>\n",
       "      <td>112337</td>\n",
       "    </tr>\n",
       "    <tr>\n",
       "      <th>2011</th>\n",
       "      <td>109962</td>\n",
       "    </tr>\n",
       "    <tr>\n",
       "      <th>2012</th>\n",
       "      <td>107608</td>\n",
       "    </tr>\n",
       "    <tr>\n",
       "      <th>2013</th>\n",
       "      <td>105375</td>\n",
       "    </tr>\n",
       "    <tr>\n",
       "      <th>2014</th>\n",
       "      <td>103584</td>\n",
       "    </tr>\n",
       "  </tbody>\n",
       "</table>\n",
       "</div>"
      ],
      "text/plain": [
       "         num\n",
       "year        \n",
       "2008  115520\n",
       "2009  113198\n",
       "2010  112337\n",
       "2011  109962\n",
       "2012  107608\n",
       "2013  105375\n",
       "2014  103584"
      ]
     },
     "execution_count": 38,
     "metadata": {},
     "output_type": "execute_result"
    }
   ],
   "source": [
    "df_all = df.groupby('year').sum()\n",
    "df_all"
   ]
  },
  {
   "cell_type": "markdown",
   "metadata": {},
   "source": [
    "Plot the overall transactions per year"
   ]
  },
  {
   "cell_type": "code",
   "execution_count": 39,
   "metadata": {},
   "outputs": [
    {
     "data": {
      "image/png": "[encoded data removed]",
      "text/plain": [
       "<Figure size 432x288 with 1 Axes>"
      ]
     },
     "metadata": {
      "needs_background": "light"
     },
     "output_type": "display_data"
    }
   ],
   "source": [
    "df_all.plot()\n",
    "plt.show()"
   ]
  },
  {
   "cell_type": "markdown",
   "metadata": {},
   "source": [
    "Calculate the overall transactions per year for 'PONTOON'"
   ]
  },
  {
   "cell_type": "code",
   "execution_count": 40,
   "metadata": {},
   "outputs": [
    {
     "data": {
      "text/html": [
       "<div>\n",
       "<style scoped>\n",
       "    .dataframe tbody tr th:only-of-type {\n",
       "        vertical-align: middle;\n",
       "    }\n",
       "\n",
       "    .dataframe tbody tr th {\n",
       "        vertical-align: top;\n",
       "    }\n",
       "\n",
       "    .dataframe thead th {\n",
       "        text-align: right;\n",
       "    }\n",
       "</style>\n",
       "<table border=\"1\" class=\"dataframe\">\n",
       "  <thead>\n",
       "    <tr style=\"text-align: right;\">\n",
       "      <th></th>\n",
       "      <th>num</th>\n",
       "    </tr>\n",
       "    <tr>\n",
       "      <th>year</th>\n",
       "      <th></th>\n",
       "    </tr>\n",
       "  </thead>\n",
       "  <tbody>\n",
       "    <tr>\n",
       "      <th>2008</th>\n",
       "      <td>2283</td>\n",
       "    </tr>\n",
       "    <tr>\n",
       "      <th>2009</th>\n",
       "      <td>2350</td>\n",
       "    </tr>\n",
       "    <tr>\n",
       "      <th>2010</th>\n",
       "      <td>2410</td>\n",
       "    </tr>\n",
       "    <tr>\n",
       "      <th>2011</th>\n",
       "      <td>2495</td>\n",
       "    </tr>\n",
       "    <tr>\n",
       "      <th>2012</th>\n",
       "      <td>2658</td>\n",
       "    </tr>\n",
       "    <tr>\n",
       "      <th>2013</th>\n",
       "      <td>2781</td>\n",
       "    </tr>\n",
       "    <tr>\n",
       "      <th>2014</th>\n",
       "      <td>2820</td>\n",
       "    </tr>\n",
       "  </tbody>\n",
       "</table>\n",
       "</div>"
      ],
      "text/plain": [
       "       num\n",
       "year      \n",
       "2008  2283\n",
       "2009  2350\n",
       "2010  2410\n",
       "2011  2495\n",
       "2012  2658\n",
       "2013  2781\n",
       "2014  2820"
      ]
     },
     "execution_count": 40,
     "metadata": {},
     "output_type": "execute_result"
    }
   ],
   "source": [
    "df_p = pd.concat([df[(df.tx_type =='BOAT REG, PONTOON')],df[(df.tx_type =='REN BOAT PONTOON')]])\n",
    "df_p = df_p.groupby('year').sum()\n",
    "df_p"
   ]
  },
  {
   "cell_type": "markdown",
   "metadata": {},
   "source": [
    "Plot the overall transactions per year for 'PONTOON'"
   ]
  },
  {
   "cell_type": "code",
   "execution_count": 41,
   "metadata": {},
   "outputs": [
    {
     "data": {
      "image/png": "[encoded data removed]",
      "text/plain": [
       "<Figure size 432x288 with 1 Axes>"
      ]
     },
     "metadata": {
      "needs_background": "light"
     },
     "output_type": "display_data"
    }
   ],
   "source": [
    "df_p.plot()\n",
    "plt.show()"
   ]
  },
  {
   "cell_type": "code",
   "execution_count": 42,
   "metadata": {},
   "outputs": [
    {
     "data": {
      "text/html": [
       "<div>\n",
       "<style scoped>\n",
       "    .dataframe tbody tr th:only-of-type {\n",
       "        vertical-align: middle;\n",
       "    }\n",
       "\n",
       "    .dataframe tbody tr th {\n",
       "        vertical-align: top;\n",
       "    }\n",
       "\n",
       "    .dataframe thead th {\n",
       "        text-align: right;\n",
       "    }\n",
       "</style>\n",
       "<table border=\"1\" class=\"dataframe\">\n",
       "  <thead>\n",
       "    <tr style=\"text-align: right;\">\n",
       "      <th></th>\n",
       "      <th>num</th>\n",
       "      <th>num_of_P</th>\n",
       "      <th>p_in_all</th>\n",
       "    </tr>\n",
       "    <tr>\n",
       "      <th>year</th>\n",
       "      <th></th>\n",
       "      <th></th>\n",
       "      <th></th>\n",
       "    </tr>\n",
       "  </thead>\n",
       "  <tbody>\n",
       "    <tr>\n",
       "      <th>2008</th>\n",
       "      <td>115520</td>\n",
       "      <td>2283</td>\n",
       "      <td>0.019763</td>\n",
       "    </tr>\n",
       "    <tr>\n",
       "      <th>2009</th>\n",
       "      <td>113198</td>\n",
       "      <td>2350</td>\n",
       "      <td>0.020760</td>\n",
       "    </tr>\n",
       "    <tr>\n",
       "      <th>2010</th>\n",
       "      <td>112337</td>\n",
       "      <td>2410</td>\n",
       "      <td>0.021453</td>\n",
       "    </tr>\n",
       "    <tr>\n",
       "      <th>2011</th>\n",
       "      <td>109962</td>\n",
       "      <td>2495</td>\n",
       "      <td>0.022690</td>\n",
       "    </tr>\n",
       "    <tr>\n",
       "      <th>2012</th>\n",
       "      <td>107608</td>\n",
       "      <td>2658</td>\n",
       "      <td>0.024701</td>\n",
       "    </tr>\n",
       "    <tr>\n",
       "      <th>2013</th>\n",
       "      <td>105375</td>\n",
       "      <td>2781</td>\n",
       "      <td>0.026391</td>\n",
       "    </tr>\n",
       "    <tr>\n",
       "      <th>2014</th>\n",
       "      <td>103584</td>\n",
       "      <td>2820</td>\n",
       "      <td>0.027224</td>\n",
       "    </tr>\n",
       "  </tbody>\n",
       "</table>\n",
       "</div>"
      ],
      "text/plain": [
       "         num  num_of_P  p_in_all\n",
       "year                            \n",
       "2008  115520      2283  0.019763\n",
       "2009  113198      2350  0.020760\n",
       "2010  112337      2410  0.021453\n",
       "2011  109962      2495  0.022690\n",
       "2012  107608      2658  0.024701\n",
       "2013  105375      2781  0.026391\n",
       "2014  103584      2820  0.027224"
      ]
     },
     "execution_count": 42,
     "metadata": {},
     "output_type": "execute_result"
    }
   ],
   "source": [
    "df_all['num_of_P'] = df_p['num']\n",
    "df_all['p_in_all'] =  df_all['num_of_P']/df_all['num']\n",
    "df_all"
   ]
  },
  {
   "cell_type": "code",
   "execution_count": 43,
   "metadata": {},
   "outputs": [
    {
     "data": {
      "image/png": "[encoded data removed]",
      "text/plain": [
       "<Figure size 432x288 with 1 Axes>"
      ]
     },
     "metadata": {
      "needs_background": "light"
     },
     "output_type": "display_data"
    }
   ],
   "source": [
    "df_all['p_in_all'].plot()\n",
    "plt.show()"
   ]
  },
  {
   "cell_type": "code",
   "execution_count": 44,
   "metadata": {},
   "outputs": [],
   "source": [
    "df_i = df.groupby('tx_type').sum()"
   ]
  },
  {
   "cell_type": "code",
   "execution_count": 45,
   "metadata": {},
   "outputs": [],
   "source": [
    "list_ = df['tx_type'].unique().tolist()\n",
    "labels = tuple(list_)\n",
    "sizes = df_i['num'].tolist()\n",
    "colors = ('gold', 'yellowgreen', 'lightcoral', 'lightskyblue','blue','green','silver')"
   ]
  },
  {
   "cell_type": "markdown",
   "metadata": {},
   "source": [
    "The propertion of each type around the year"
   ]
  },
  {
   "cell_type": "code",
   "execution_count": 46,
   "metadata": {},
   "outputs": [
    {
     "data": {
      "image/png": "[encoded data removed]",
      "text/plain": [
       "<Figure size 576x864 with 1 Axes>"
      ]
     },
     "metadata": {},
     "output_type": "display_data"
    }
   ],
   "source": [
    "plt.figure(figsize=(8,12))\n",
    "plt.pie(sizes,\n",
    "        autopct='%1.1f%%', shadow=True, startangle=140)\n",
    "patches, texts = plt.pie(sizes,shadow = False)\n",
    "\n",
    "plt.legend(patches, labels, loc=\"best\")\n",
    " \n",
    "plt.axis('equal')\n",
    "plt.show()"
   ]
  }
 ],
 "metadata": {
  "anaconda-cloud": {},
  "kernelspec": {
   "display_name": "Python 3",
   "language": "python",
   "name": "python3"
  },
  "language_info": {
   "codemirror_mode": {
    "name": "ipython",
    "version": 3
   },
   "file_extension": ".py",
   "mimetype": "text/x-python",
   "name": "python",
   "nbconvert_exporter": "python",
   "pygments_lexer": "ipython3",
   "version": "3.6.5"
  }
 },
 "nbformat": 4,
 "nbformat_minor": 2
}
