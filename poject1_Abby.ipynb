{
 "cells": [
  {
   "cell_type": "markdown",
   "metadata": {},
   "source": [
    "## Problem 1 - Word counts (40 points)"
   ]
  },
  {
   "cell_type": "markdown",
   "metadata": {},
   "source": [
    "### Part A. Characters in The Hound of the Baskervilles"
   ]
  },
  {
   "cell_type": "markdown",
   "metadata": {},
   "source": [
    "Use the text available at https://s3.amazonaws.com/2018-dmfa/project-1/hound.txt for this part.\n",
    "How many times are each of the following characters mentioned by name in the text of The Hound of the Baskervilles?    \n",
    "• Holmes, Watson, Barrymore, Mortimer"
   ]
  },
  {
   "cell_type": "code",
   "execution_count": 41,
   "metadata": {},
   "outputs": [
    {
     "data": {
      "text/plain": [
       "'/home/ubuntu/lecture/project1'"
      ]
     },
     "execution_count": 41,
     "metadata": {},
     "output_type": "execute_result"
    }
   ],
   "source": [
    "pwd!"
   ]
  },
  {
   "cell_type": "code",
   "execution_count": 5,
   "metadata": {},
   "outputs": [
    {
     "name": "stdout",
     "output_type": "stream",
     "text": [
      "--2018-09-23 19:47:27--  https://s3.amazonaws.com/2018-dmfa/project-1/hound.txt\n",
      "Resolving s3.amazonaws.com (s3.amazonaws.com)... 52.216.100.237\n",
      "Connecting to s3.amazonaws.com (s3.amazonaws.com)|52.216.100.237|:443... connected.\n",
      "HTTP request sent, awaiting response... 200 OK\n",
      "Length: 345659 (338K) [text/plain]\n",
      "Saving to: ‘hound.txt’\n",
      "\n",
      "hound.txt           100%[===================>] 337.56K  --.-KB/s    in 0.01s   \n",
      "\n",
      "2018-09-23 19:47:28 (32.7 MB/s) - ‘hound.txt’ saved [345659/345659]\n",
      "\n"
     ]
    }
   ],
   "source": [
    "!wget https://s3.amazonaws.com/2018-dmfa/project-1/hound.txt"
   ]
  },
  {
   "cell_type": "code",
   "execution_count": 6,
   "metadata": {},
   "outputs": [
    {
     "name": "stdout",
     "output_type": "stream",
     "text": [
      "191\n"
     ]
    }
   ],
   "source": [
    "!grep -o -w Holmes hound.txt | wc -w"
   ]
  },
  {
   "cell_type": "code",
   "execution_count": 7,
   "metadata": {},
   "outputs": [
    {
     "name": "stdout",
     "output_type": "stream",
     "text": [
      "114\n"
     ]
    }
   ],
   "source": [
    "!grep -o -w Watson hound.txt | wc -w"
   ]
  },
  {
   "cell_type": "code",
   "execution_count": 8,
   "metadata": {},
   "outputs": [
    {
     "name": "stdout",
     "output_type": "stream",
     "text": [
      "73\n"
     ]
    }
   ],
   "source": [
    "!grep -o -w Barrymore hound.txt | wc -w"
   ]
  },
  {
   "cell_type": "code",
   "execution_count": 9,
   "metadata": {},
   "outputs": [
    {
     "name": "stdout",
     "output_type": "stream",
     "text": [
      "90\n"
     ]
    }
   ],
   "source": [
    "!grep -o -w Mortimer hound.txt | wc -w"
   ]
  },
  {
   "cell_type": "markdown",
   "metadata": {},
   "source": [
    "### Part B. Characters in Hamlet"
   ]
  },
  {
   "cell_type": "markdown",
   "metadata": {},
   "source": [
    "Use the text available at https://s3.amazonaws.com/2018-dmfa/project-1/hamlet.txt for this part.\n",
    "How many times do each of the characters Hamlet, Polonius, Ophelia, and Horatio have speaking lines in Hamlet? Keep in mind that this is the text of a play."
   ]
  },
  {
   "cell_type": "code",
   "execution_count": 30,
   "metadata": {},
   "outputs": [
    {
     "name": "stdout",
     "output_type": "stream",
     "text": [
      "--2018-09-23 19:58:41--  https://s3.amazonaws.com/2018-dmfa/project-1/hamlet.txt\n",
      "Resolving s3.amazonaws.com (s3.amazonaws.com)... 54.231.49.67\n",
      "Connecting to s3.amazonaws.com (s3.amazonaws.com)|54.231.49.67|:443... connected.\n",
      "HTTP request sent, awaiting response... 200 OK\n",
      "Length: 204885 (200K) [text/plain]\n",
      "Saving to: ‘hamlet.txt’\n",
      "\n",
      "hamlet.txt          100%[===================>] 200.08K  --.-KB/s    in 0.006s  \n",
      "\n",
      "2018-09-23 19:58:41 (30.6 MB/s) - ‘hamlet.txt’ saved [204885/204885]\n",
      "\n"
     ]
    }
   ],
   "source": [
    "!wget https://s3.amazonaws.com/2018-dmfa/project-1/hamlet.txt"
   ]
  },
  {
   "cell_type": "code",
   "execution_count": 40,
   "metadata": {},
   "outputs": [
    {
     "name": "stdout",
     "output_type": "stream",
     "text": [
      "358\n"
     ]
    }
   ],
   "source": [
    "!grep -wn '^HAMLET\\.' hamlet.txt|wc -l"
   ]
  },
  {
   "cell_type": "code",
   "execution_count": 32,
   "metadata": {},
   "outputs": [
    {
     "name": "stdout",
     "output_type": "stream",
     "text": [
      "86\n"
     ]
    }
   ],
   "source": [
    "!grep -wn '^POLONIUS\\.' hamlet.txt|wc -l"
   ]
  },
  {
   "cell_type": "code",
   "execution_count": 33,
   "metadata": {},
   "outputs": [
    {
     "name": "stdout",
     "output_type": "stream",
     "text": [
      "58\n"
     ]
    }
   ],
   "source": [
    "!grep -wn '^OPHELIA\\.' hamlet.txt|wc -l"
   ]
  },
  {
   "cell_type": "code",
   "execution_count": 34,
   "metadata": {},
   "outputs": [
    {
     "name": "stdout",
     "output_type": "stream",
     "text": [
      "110\n"
     ]
    }
   ],
   "source": [
    "!grep -nw '^HORATIO' hamlet.txt|wc -l"
   ]
  },
  {
   "cell_type": "markdown",
   "metadata": {},
   "source": [
    "## Problem 2 - Capital Bikeshare (40 points)"
   ]
  },
  {
   "cell_type": "markdown",
   "metadata": {},
   "source": [
    "Use the data available at https://s3.amazonaws.com/2018-dmfa/project-1/2018-capitalbikeshare-tripdata.zip for this problem."
   ]
  },
  {
   "cell_type": "markdown",
   "metadata": {},
   "source": [
    "### Part A (20 points)"
   ]
  },
  {
   "cell_type": "markdown",
   "metadata": {},
   "source": [
    "1. Unzip the data and combine the two CSV files using csvstack.\n",
    "2. Which 10 Capital Bikeshare stations were the most popular departing stations in July and August 2018? Which 10 stations were the most popular destination stations in July and August 2018? For both answers (and for the following questions as well), provide the full name, not just the station number."
   ]
  },
  {
   "cell_type": "code",
   "execution_count": 13,
   "metadata": {},
   "outputs": [
    {
     "data": {
      "text/plain": [
       "'/home/ubuntu/lecture/project1'"
      ]
     },
     "execution_count": 13,
     "metadata": {},
     "output_type": "execute_result"
    }
   ],
   "source": [
    "pwd!"
   ]
  },
  {
   "cell_type": "code",
   "execution_count": 14,
   "metadata": {},
   "outputs": [
    {
     "name": "stdout",
     "output_type": "stream",
     "text": [
      "--2018-09-23 19:51:34--  https://s3.amazonaws.com/2018-dmfa/project-1/2018-capitalbikeshare-tripdata.zip\n",
      "Resolving s3.amazonaws.com (s3.amazonaws.com)... 52.216.163.13\n",
      "Connecting to s3.amazonaws.com (s3.amazonaws.com)|52.216.163.13|:443... connected.\n",
      "HTTP request sent, awaiting response... 200 OK\n",
      "Length: 18365732 (18M) [application/zip]\n",
      "Saving to: ‘2018-capitalbikeshare-tripdata.zip’\n",
      "\n",
      "2018-capitalbikesha 100%[===================>]  17.51M  53.0MB/s    in 0.3s    \n",
      "\n",
      "2018-09-23 19:51:34 (53.0 MB/s) - ‘2018-capitalbikeshare-tripdata.zip’ saved [18365732/18365732]\n",
      "\n"
     ]
    }
   ],
   "source": [
    "!wget https://s3.amazonaws.com/2018-dmfa/project-1/2018-capitalbikeshare-tripdata.zip"
   ]
  },
  {
   "cell_type": "code",
   "execution_count": 15,
   "metadata": {},
   "outputs": [
    {
     "name": "stdout",
     "output_type": "stream",
     "text": [
      "Archive:  2018-capitalbikeshare-tripdata.zip\n",
      "  inflating: 201807-capitalbikeshare-tripdata.csv  \n",
      "  inflating: 201808-capitalbikeshare-tripdata.csv  \n"
     ]
    }
   ],
   "source": [
    "!unzip 2018-capitalbikeshare-tripdata.zip"
   ]
  },
  {
   "cell_type": "code",
   "execution_count": 16,
   "metadata": {},
   "outputs": [],
   "source": [
    "!mv 201807-capitalbikeshare-tripdata.csv 1807.csv\n",
    "!mv 201808-capitalbikeshare-tripdata.csv 1808.csv"
   ]
  },
  {
   "cell_type": "code",
   "execution_count": 17,
   "metadata": {},
   "outputs": [],
   "source": [
    "!cat 180* >> 180708.csv"
   ]
  },
  {
   "cell_type": "code",
   "execution_count": 18,
   "metadata": {},
   "outputs": [
    {
     "name": "stdout",
     "output_type": "stream",
     "text": [
      "  1: Duration\n",
      "  2: Start date\n",
      "  3: End date\n",
      "  4: Start station number\n",
      "  5: Start station\n",
      "  6: End station number\n",
      "  7: End station\n",
      "  8: Bike number\n",
      "  9: Member type\n"
     ]
    }
   ],
   "source": [
    "!csvcut -n 180708.csv"
   ]
  },
  {
   "cell_type": "code",
   "execution_count": 5,
   "metadata": {},
   "outputs": [
    {
     "name": "stdout",
     "output_type": "stream",
     "text": [
      "  15474 Lincoln Memorial\n",
      "  13082 Columbus Circle / Union Station\n",
      "  11999 Jefferson Dr & 14th St SW\n",
      "  11671 Henry Bacon Dr & Lincoln Memorial Circle NW\n",
      "  11650 4th St & Madison Dr NW\n",
      "  10357 Smithsonian-National Mall / Jefferson Dr & 12th St SW\n",
      "   9554 Jefferson Memorial\n",
      "   8620 17th St & Independence Ave SW\n",
      "   8583 Massachusetts Ave & Dupont Circle NW\n",
      "   8569 15th & P St NW\n"
     ]
    }
   ],
   "source": [
    "!csvcut -c5 180708.csv|sort| uniq -c | sort -rn | head"
   ]
  },
  {
   "cell_type": "code",
   "execution_count": 19,
   "metadata": {},
   "outputs": [
    {
     "name": "stdout",
     "output_type": "stream",
     "text": [
      "  15642 Lincoln Memorial\n",
      "  13635 Columbus Circle / Union Station\n",
      "  12135 Jefferson Dr & 14th St SW\n",
      "  11722 Henry Bacon Dr & Lincoln Memorial Circle NW\n",
      "  11555 4th St & Madison Dr NW\n",
      "  10693 Smithsonian-National Mall / Jefferson Dr & 12th St SW\n",
      "   9866 Jefferson Memorial\n",
      "   9141 Massachusetts Ave & Dupont Circle NW\n",
      "   8884 15th & P St NW\n",
      "   8640 17th St & Independence Ave SW\n"
     ]
    }
   ],
   "source": [
    "!csvcut -c7 180708.csv|sort| uniq -c | sort -rn | head"
   ]
  },
  {
   "cell_type": "markdown",
   "metadata": {},
   "source": [
    "### Part B (20 points)"
   ]
  },
  {
   "cell_type": "markdown",
   "metadata": {},
   "source": [
    "1. For the most popular departure station, which 10 bikes were used most in trips departing from there?\n",
    "2. Which 10 bikes were used most in trips ending at the most popular destination station?"
   ]
  },
  {
   "cell_type": "code",
   "execution_count": 20,
   "metadata": {},
   "outputs": [
    {
     "name": "stdout",
     "output_type": "stream",
     "text": [
      "     18 W01311\n",
      "     17 W22553\n",
      "     16 W00919\n",
      "     15 W23074\n",
      "     15 W22567\n",
      "     15 W21882\n",
      "     15 W20527\n",
      "     14 W23311\n",
      "     14 W23003\n",
      "     14 W22369\n",
      "sort: write failed: 'standard output': Broken pipe\n",
      "sort: write error\n"
     ]
    }
   ],
   "source": [
    "!csvgrep -c4 -r \"31258\" 180708.csv | csvcut -c8|sort| uniq -c | sort -rn | head"
   ]
  },
  {
   "cell_type": "code",
   "execution_count": 21,
   "metadata": {},
   "outputs": [
    {
     "name": "stdout",
     "output_type": "stream",
     "text": [
      "     17 W22553\n",
      "     17 W01311\n",
      "     16 W21882\n",
      "     16 W20527\n",
      "     16 W00919\n",
      "     15 W22567\n",
      "     15 W22369\n",
      "     14 W23311\n",
      "     14 W23074\n",
      "     14 W23003\n",
      "sort: write failed: 'standard output': Broken pipe\n",
      "sort: write error\n"
     ]
    }
   ],
   "source": [
    "!csvgrep -c6 -r \"31258\" 180708.csv | csvcut -c8|sort| uniq -c | sort -rn | head"
   ]
  },
  {
   "cell_type": "markdown",
   "metadata": {},
   "source": [
    "## Problem 3 - Filters (20 points)\n",
    "In class lectures, previous exercises, and Problems 1 and 2 above, you use Unix commands like grep and tr as filters, changing the text lines streaming through the pipeline. In this problem, write small Python or R programs that act as a filter in the same way, where each program serves one filtering purpose. Name your new filter programs clearly.\n",
    "For this problem, use the Python filter template shown in class and available at https://s3.amazonaws.com/2018- dmfa/project-1/simplefilter.py or the R filter template available at https://s3.amazonaws.com/2018- dmfa/project-1/simplefilter.R as the basis of your own filters."
   ]
  },
  {
   "cell_type": "markdown",
   "metadata": {},
   "source": [
    "### Part A (10 points)\n",
    "1. Demonstrate a pipeline that performs a count of the top ten most common words in The Hound of the\n",
    "Baskervilles. This may be exactly the same pipeline we have used before."
   ]
  },
  {
   "cell_type": "code",
   "execution_count": 22,
   "metadata": {},
   "outputs": [
    {
     "name": "stdout",
     "output_type": "stream",
     "text": [
      "   3515 the\n",
      "   1716 of\n",
      "   1696 and\n",
      "   1501 i\n",
      "   1488 to\n",
      "   1369 a\n",
      "   1159 that\n",
      "   1025 it\n",
      "    968 in\n",
      "    922 he\n",
      "sort: write failed: 'standard output': Broken pipe\n",
      "sort: write error\n"
     ]
    }
   ],
   "source": [
    "!cat hound.txt | tr -sc '[:alpha:]' '[\\n*]' | tr '[:upper:]' '[:lower:]' | sort | uniq -c | sort -rn | head -10"
   ]
  },
  {
   "cell_type": "markdown",
   "metadata": {},
   "source": [
    "2. Write your own lowercase filter that replaces tr [:upper:] [:lower:] to transform text into\n",
    "lower case.\n",
    "3. With your new filter, repeat the original pipeline, and substitute your new filters as appropriate. You\n",
    "should obtain the same results as in 3.A.1 above."
   ]
  },
  {
   "cell_type": "code",
   "execution_count": 25,
   "metadata": {},
   "outputs": [],
   "source": [
    "!chmod +x lower.py"
   ]
  },
  {
   "cell_type": "code",
   "execution_count": 26,
   "metadata": {},
   "outputs": [
    {
     "name": "stdout",
     "output_type": "stream",
     "text": [
      "   3515 the\n",
      "   1716 of\n",
      "   1696 and\n",
      "   1501 i\n",
      "   1488 to\n",
      "   1369 a\n",
      "   1159 that\n",
      "   1025 it\n",
      "    968 in\n",
      "    922 he\n",
      "sort: write failed: 'standard output': Broken pipe\n",
      "sort: write error\n"
     ]
    }
   ],
   "source": [
    "!cat hound.txt | tr -sc '[:alpha:]' '[\\n*]' | ./lower.py | sort | uniq -c | sort -rn | head -10"
   ]
  },
  {
   "cell_type": "markdown",
   "metadata": {},
   "source": [
    "### Part B (10 points)\n",
    "1. Write a filter that removes at least ten common words of English text, commonly known as “stop words”. Sources of English stop word lists are readily available online, or you may generate your own list from the text. Document your process for obtaining or determining this list.\n",
    "2. Add your stop word filter to a word count pipeline and show the most common 25 words in The Hound of the Baskervilles when stop words are removed. You may re-use your filter from Part A if you wish, although this is not required for full credit."
   ]
  },
  {
   "cell_type": "code",
   "execution_count": 28,
   "metadata": {},
   "outputs": [],
   "source": [
    "!chmod +x stopwordsfilter.py"
   ]
  },
  {
   "cell_type": "code",
   "execution_count": 29,
   "metadata": {},
   "outputs": [
    {
     "name": "stdout",
     "output_type": "stream",
     "text": [
      "    350 sir\n",
      "    240 said\n",
      "    193 holmes\n",
      "    163 moor\n",
      "    156 henry\n",
      "    119 know\n",
      "    114 watson\n",
      "    114 baskerville\n",
      "    113 did\n",
      "     94 charles\n",
      "     93 stapleton\n",
      "     93 gutenberg\n",
      "     90 think\n",
      "     90 mortimer\n",
      "     87 project\n",
      "     77 face\n",
      "     76 hound\n",
      "     73 night\n",
      "     73 house\n",
      "     73 barrymore\n",
      "     72 say\n",
      "     71 eyes\n",
      "     70 old\n",
      "     69 tell\n",
      "     69 hall\n",
      "sort: write failed: 'standard output': Broken pipe\n",
      "sort: write error\n"
     ]
    }
   ],
   "source": [
    "!cat hound.txt | tr -sc '[:alpha:]' '[\\n*]' | ./lower.py| ./stopwordsfilter.py| sort | uniq -c | sort -rn | head -25"
   ]
  }
 ],
 "metadata": {
  "kernelspec": {
   "display_name": "Python 3",
   "language": "python",
   "name": "python3"
  },
  "language_info": {
   "codemirror_mode": {
    "name": "ipython",
    "version": 3
   },
   "file_extension": ".py",
   "mimetype": "text/x-python",
   "name": "python",
   "nbconvert_exporter": "python",
   "pygments_lexer": "ipython3",
   "version": "3.6.5"
  }
 },
 "nbformat": 4,
 "nbformat_minor": 2
}
